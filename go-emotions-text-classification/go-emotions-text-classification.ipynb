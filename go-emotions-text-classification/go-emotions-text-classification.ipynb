{
  "cells": [
    {
      "cell_type": "markdown",
      "metadata": {
        "id": "view-in-github",
        "colab_type": "text"
      },
      "source": [
        "<a href=\"https://colab.research.google.com/github/soroushmirzaei/text-processing-projects/blob/main/go-emotions-text-classification/go-emotions-text-classification.ipynb\" target=\"_parent\"><img src=\"https://colab.research.google.com/assets/colab-badge.svg\" alt=\"Open In Colab\"/></a>"
      ]
    },
    {
      "cell_type": "code",
      "execution_count": null,
      "metadata": {
        "id": "SIYC55FdPdC2"
      },
      "outputs": [],
      "source": [
        "#import requirement libraries\n",
        "import os\n",
        "import shutil\n",
        "\n",
        "#import dataset query libraries\n",
        "import csv\n",
        "import json\n",
        "\n",
        "#import mathematics statics libraries\n",
        "import random as rnd\n",
        "import numpy as np\n",
        "import pandas as pd\n",
        "\n",
        "#import visualization libraries\n",
        "import matplotlib.pyplot as plt\n",
        "import seaborn as sns\n",
        "\n",
        "#import machine learning deep learning libraries\n",
        "import tensorflow as tf\n",
        "import tensorflow_datasets as tfds\n",
        "from tensorflow import keras\n"
      ]
    },
    {
      "cell_type": "code",
      "execution_count": null,
      "metadata": {
        "id": "6SkBIh-h6ZzE"
      },
      "outputs": [],
      "source": [
        "#download stop-words dataset\n",
        "!wget -q https://raw.githubusercontent.com/soroushmirzaei/text-processing-projects/main/english-language-stop-words.txt\n",
        "!wget -q https://raw.githubusercontent.com/soroushmirzaei/text-processing-projects/main/persian-language-stop-words.txt\n",
        "\n",
        "#download filters-characters dataset\n",
        "!wget -q https://raw.githubusercontent.com/soroushmirzaei/text-processing-projects/main/english-language-filter-characters.txt\n",
        "!wget -q https://raw.githubusercontent.com/soroushmirzaei/text-processing-projects/main/persian-language-filter-characters.txt\n",
        "\n",
        "#download similar-characters dataset\n",
        "!wget -q https://raw.githubusercontent.com/soroushmirzaei/text-processing-projects/main/persian-language-similar-characters.json\n"
      ]
    },
    {
      "cell_type": "code",
      "execution_count": null,
      "metadata": {
        "id": "Cna6blsV2ZkZ"
      },
      "outputs": [],
      "source": [
        "#define filters-list function loader\n",
        "def filter_chars(file_path):\n",
        "    filter_chars = list()\n",
        "    with open(file_path, 'r') as filters_list_file:\n",
        "        for word in filters_list_file:\n",
        "            filter_chars.append(word.strip('\\n'))\n",
        "        filters_list_file.close()\n",
        "    return filter_chars\n",
        "\n",
        "#define stop-words function loader\n",
        "def stop_word(file_path):\n",
        "    stop_words = list()\n",
        "    with open(file_path, 'r') as stop_words_file:\n",
        "        for word in stop_words_file:\n",
        "            stop_words.append(word.strip('\\n'))\n",
        "        stop_words_file.close()\n",
        "    return stop_words\n",
        "\n",
        "#define similar-characters function loader\n",
        "def similar_chars(file_path):\n",
        "    with open(file_path, 'r') as similar_chars_file:\n",
        "        similar_chars = json.load(similar_chars_file)\n",
        "    return similar_chars\n"
      ]
    },
    {
      "cell_type": "code",
      "execution_count": null,
      "metadata": {
        "id": "bLhC44LW6TAd"
      },
      "outputs": [],
      "source": [
        "#load stop-words\n",
        "eng_stop_words = stop_word('english-language-stop-words.txt')\n",
        "per_stop_words = stop_word('persian-language-stop-words.txt')\n",
        "\n",
        "#load filters-characters\n",
        "eng_filter_characters = filter_chars('english-language-filter-characters.txt')\n",
        "per_filter_characters = filter_chars('persian-language-filter-characters.txt')\n",
        "\n",
        "#load similar-characters\n",
        "per_similar_characters = similar_chars('persian-language-similar-characters.json')\n"
      ]
    },
    {
      "cell_type": "code",
      "execution_count": null,
      "metadata": {
        "id": "39pSrmpdM5xg"
      },
      "outputs": [],
      "source": [
        "#define remove filters characters function\n",
        "def remove_filter(text, filters_list):\n",
        "    characters = list(text)\n",
        "    characters_without_filters = [character for character in characters if character not in filters_list]\n",
        "    text_without_filters = ''.join(characters_without_filters)\n",
        "    return text_without_filters\n",
        "\n",
        "#define remove texts stopwords function\n",
        "def remove_stopword(text, stop_words_list):\n",
        "    text = text.lower()\n",
        "    words_with_stopwords = text.split(' ')\n",
        "    words_without_stopwords = [word for word in words_with_stopwords if word not in stop_words_list]\n",
        "    text_without_stopwords = ' '.join(words_without_stopwords)\n",
        "    return text_without_stopwords\n",
        "\n",
        "#define similar characters modification function\n",
        "def similar_char(text, similar_chars_dict):\n",
        "    characters = list(text)\n",
        "    similar_characters_modified_list = [similar_chars_dict.get(character,character) for character in characters]\n",
        "    similar_characters_modified_text = ''.join(similar_characters_modified_list)\n",
        "    return similar_characters_modified_text\n"
      ]
    },
    {
      "cell_type": "code",
      "execution_count": null,
      "metadata": {
        "id": "-C_uaVTMVXrd"
      },
      "outputs": [],
      "source": [
        "#load dataset\n",
        "data, info = tfds.load('goemotions', with_info = True)\n"
      ]
    },
    {
      "cell_type": "code",
      "execution_count": null,
      "metadata": {
        "colab": {
          "base_uri": "https://localhost:8080/"
        },
        "id": "y6avS0GqVkuh",
        "outputId": "f64b71ac-e0d9-4eec-a592-c9c05aae52a4"
      },
      "outputs": [
        {
          "output_type": "execute_result",
          "data": {
            "text/plain": [
              "tfds.core.DatasetInfo(\n",
              "    name='goemotions',\n",
              "    version=0.1.0,\n",
              "    description='The GoEmotions dataset contains 58k carefully curated Reddit comments labeled\n",
              "for 27 emotion categories or Neutral. The emotion categories are admiration,\n",
              "amusement, anger, annoyance, approval, caring, confusion, curiosity, desire,\n",
              "disappointment, disapproval, disgust, embarrassment, excitement, fear,\n",
              "gratitude, grief, joy, love, nervousness, optimism, pride, realization, relief,\n",
              "remorse, sadness, surprise.',\n",
              "    homepage='https://github.com/google-research/google-research/tree/master/goemotions',\n",
              "    features=FeaturesDict({\n",
              "        'admiration': tf.bool,\n",
              "        'amusement': tf.bool,\n",
              "        'anger': tf.bool,\n",
              "        'annoyance': tf.bool,\n",
              "        'approval': tf.bool,\n",
              "        'caring': tf.bool,\n",
              "        'comment_text': Text(shape=(), dtype=tf.string),\n",
              "        'confusion': tf.bool,\n",
              "        'curiosity': tf.bool,\n",
              "        'desire': tf.bool,\n",
              "        'disappointment': tf.bool,\n",
              "        'disapproval': tf.bool,\n",
              "        'disgust': tf.bool,\n",
              "        'embarrassment': tf.bool,\n",
              "        'excitement': tf.bool,\n",
              "        'fear': tf.bool,\n",
              "        'gratitude': tf.bool,\n",
              "        'grief': tf.bool,\n",
              "        'joy': tf.bool,\n",
              "        'love': tf.bool,\n",
              "        'nervousness': tf.bool,\n",
              "        'neutral': tf.bool,\n",
              "        'optimism': tf.bool,\n",
              "        'pride': tf.bool,\n",
              "        'realization': tf.bool,\n",
              "        'relief': tf.bool,\n",
              "        'remorse': tf.bool,\n",
              "        'sadness': tf.bool,\n",
              "        'surprise': tf.bool,\n",
              "    }),\n",
              "    total_num_examples=54263,\n",
              "    splits={\n",
              "        'test': 5427,\n",
              "        'train': 43410,\n",
              "        'validation': 5426,\n",
              "    },\n",
              "    supervised_keys=None,\n",
              "    citation=\"\"\"@inproceedings{demszky-2020-goemotions,\n",
              "        title = \"{G}o{E}motions: A Dataset of Fine-Grained Emotions\",\n",
              "        author = \"Demszky, Dorottya  and\n",
              "          Movshovitz-Attias, Dana  and\n",
              "          Ko, Jeongwoo  and\n",
              "          Cowen, Alan  and\n",
              "          Nemade, Gaurav  and\n",
              "          Ravi, Sujith\",\n",
              "        booktitle = \"Proceedings of the 58th Annual Meeting of the Association for Computational Linguistics\",\n",
              "        month = jul,\n",
              "        year = \"2020\",\n",
              "        address = \"Online\",\n",
              "        publisher = \"Association for Computational Linguistics\",\n",
              "        url = \"https://www.aclweb.org/anthology/2020.acl-main.372\",\n",
              "        pages = \"4040--4054\",\n",
              "    }\"\"\",\n",
              "    redistribution_info=,\n",
              ")"
            ]
          },
          "metadata": {},
          "execution_count": 7
        }
      ],
      "source": [
        "#print out dataset info\n",
        "info\n"
      ]
    },
    {
      "cell_type": "code",
      "execution_count": null,
      "metadata": {
        "id": "GwWjyBkDV3EU"
      },
      "outputs": [],
      "source": [
        "#define tensorflow text labels loader\n",
        "def tfds_texts_labels_lodaer(#define data and keyword\n",
        "                             data, key,\n",
        "                             ):\n",
        "    \n",
        "    #define empty texts labels list\n",
        "    texts_list = list()\n",
        "    labels_list = list()\n",
        "\n",
        "    #iterate over data by key to split texts labels\n",
        "    for item in data[key]:\n",
        "        texts_list.append(item['comment_text'].numpy().decode('utf8'))\n",
        "        emotion_list = list()\n",
        "        for emotion_key in item.keys():\n",
        "            if item[emotion_key].numpy() == True:\n",
        "                emotion_list.append(emotion_key)\n",
        "        labels_list.append(emotion_list)\n",
        "            \n",
        "\n",
        "    return texts_list, labels_list\n"
      ]
    },
    {
      "cell_type": "code",
      "execution_count": null,
      "metadata": {
        "id": "ahglS7lMWw9e"
      },
      "outputs": [],
      "source": [
        "train_texts_list, train_labels_list = tfds_texts_labels_lodaer(data, 'train')\n",
        "valid_texts_list, valid_labels_list = tfds_texts_labels_lodaer(data, 'test')\n"
      ]
    },
    {
      "cell_type": "code",
      "source": [
        "train_texts_list[:5]"
      ],
      "metadata": {
        "colab": {
          "base_uri": "https://localhost:8080/"
        },
        "id": "N8IP65ZCHfqM",
        "outputId": "15418258-1668-41d7-c130-cd4965a7fc5b"
      },
      "execution_count": null,
      "outputs": [
        {
          "output_type": "execute_result",
          "data": {
            "text/plain": [
              "[\"It's just wholesome content, from questionable sources\",\n",
              " 'This is actually awesome.',\n",
              " \"People really spend more than $10 in an app game? I mean an actual video game I can understand but that's just...sad\",\n",
              " 'I grew up on the other side of Ama but live in Tulia now. I will have some El Burrito for you',\n",
              " 'What the problem? I mean, steak? Good. Doughnuts? Good!! I don’t see an issue. ']"
            ]
          },
          "metadata": {},
          "execution_count": 10
        }
      ]
    },
    {
      "cell_type": "code",
      "source": [
        "train_labels_list[:5]"
      ],
      "metadata": {
        "colab": {
          "base_uri": "https://localhost:8080/"
        },
        "id": "PzsOzJ8KIQq_",
        "outputId": "35ad1c81-b288-40e7-ceea-86c35337e410"
      },
      "execution_count": null,
      "outputs": [
        {
          "output_type": "execute_result",
          "data": {
            "text/plain": [
              "[['neutral'],\n",
              " ['admiration'],\n",
              " ['confusion', 'sadness'],\n",
              " ['neutral'],\n",
              " ['curiosity', 'disapproval']]"
            ]
          },
          "metadata": {},
          "execution_count": 12
        }
      ]
    },
    {
      "cell_type": "code",
      "execution_count": null,
      "metadata": {
        "id": "wJ3p8PBDbFH2"
      },
      "outputs": [],
      "source": [
        "#define labels encoder\n",
        "def label_encoder(#define labels list and method\n",
        "                  labels_list,\n",
        "                  #define method binary, ordinal or onehot\n",
        "                  method, return_categories = True\n",
        "                  ):\n",
        "\n",
        "    total_labels = list()\n",
        "\n",
        "    #one-hot encoder method\n",
        "    if method in ['onehot']:\n",
        "        for label_list in labels_list:\n",
        "            for label in label_list:\n",
        "                total_labels.append(label)\n",
        "\n",
        "        unique_labels = sorted(list(set(total_labels)))\n",
        "        labels_dict = {\n",
        "            label : int(unique_labels.index(label)) for label in unique_labels\n",
        "        }\n",
        "\n",
        "        labels_encoded = list()\n",
        "        for label_list in labels_list:\n",
        "            label_encoded = len(unique_labels)*[0]\n",
        "            for label in label_list:\n",
        "                label_number = labels_dict[label]\n",
        "                label_encoded[label_number] = int(1)\n",
        "            label_encoded = [label / sum(label_encoded) for label in label_encoded]\n",
        "            labels_encoded.append(label_encoded)\n",
        "        \n",
        "        labels = labels_encoded\n",
        "\n",
        "    #convert list type to array\n",
        "    labels_encoded = np.array(labels)\n",
        "    \n",
        "    if return_categories:\n",
        "        return labels_encoded, labels_dict\n",
        "    else:\n",
        "        return labels_encoded\n",
        "        "
      ]
    },
    {
      "cell_type": "code",
      "execution_count": null,
      "metadata": {
        "id": "oKVb5izSXDlD"
      },
      "outputs": [],
      "source": [
        "train_labels_encoded, train_labels_dict = label_encoder(train_labels_list, 'onehot')\n",
        "valid_labels_encoded, valid_labels_dict = label_encoder(valid_labels_list, 'onehot')\n"
      ]
    },
    {
      "cell_type": "code",
      "source": [
        "train_labels_dict"
      ],
      "metadata": {
        "colab": {
          "base_uri": "https://localhost:8080/"
        },
        "id": "UssXq6cKO6ps",
        "outputId": "7b04bcfe-0fde-47da-d744-95575f96c181"
      },
      "execution_count": null,
      "outputs": [
        {
          "output_type": "execute_result",
          "data": {
            "text/plain": [
              "{'admiration': 0,\n",
              " 'amusement': 1,\n",
              " 'anger': 2,\n",
              " 'annoyance': 3,\n",
              " 'approval': 4,\n",
              " 'caring': 5,\n",
              " 'confusion': 6,\n",
              " 'curiosity': 7,\n",
              " 'desire': 8,\n",
              " 'disappointment': 9,\n",
              " 'disapproval': 10,\n",
              " 'disgust': 11,\n",
              " 'embarrassment': 12,\n",
              " 'excitement': 13,\n",
              " 'fear': 14,\n",
              " 'gratitude': 15,\n",
              " 'grief': 16,\n",
              " 'joy': 17,\n",
              " 'love': 18,\n",
              " 'nervousness': 19,\n",
              " 'neutral': 20,\n",
              " 'optimism': 21,\n",
              " 'pride': 22,\n",
              " 'realization': 23,\n",
              " 'relief': 24,\n",
              " 'remorse': 25,\n",
              " 'sadness': 26,\n",
              " 'surprise': 27}"
            ]
          },
          "metadata": {},
          "execution_count": 16
        }
      ]
    },
    {
      "cell_type": "code",
      "source": [
        "train_labels_encoded[:5]"
      ],
      "metadata": {
        "colab": {
          "base_uri": "https://localhost:8080/"
        },
        "id": "zxDpJeQfOwHu",
        "outputId": "d3bc9928-db4b-41f8-c947-7c76bdfb6222"
      },
      "execution_count": null,
      "outputs": [
        {
          "output_type": "execute_result",
          "data": {
            "text/plain": [
              "array([[0. , 0. , 0. , 0. , 0. , 0. , 0. , 0. , 0. , 0. , 0. , 0. , 0. ,\n",
              "        0. , 0. , 0. , 0. , 0. , 0. , 0. , 1. , 0. , 0. , 0. , 0. , 0. ,\n",
              "        0. , 0. ],\n",
              "       [1. , 0. , 0. , 0. , 0. , 0. , 0. , 0. , 0. , 0. , 0. , 0. , 0. ,\n",
              "        0. , 0. , 0. , 0. , 0. , 0. , 0. , 0. , 0. , 0. , 0. , 0. , 0. ,\n",
              "        0. , 0. ],\n",
              "       [0. , 0. , 0. , 0. , 0. , 0. , 0.5, 0. , 0. , 0. , 0. , 0. , 0. ,\n",
              "        0. , 0. , 0. , 0. , 0. , 0. , 0. , 0. , 0. , 0. , 0. , 0. , 0. ,\n",
              "        0.5, 0. ],\n",
              "       [0. , 0. , 0. , 0. , 0. , 0. , 0. , 0. , 0. , 0. , 0. , 0. , 0. ,\n",
              "        0. , 0. , 0. , 0. , 0. , 0. , 0. , 1. , 0. , 0. , 0. , 0. , 0. ,\n",
              "        0. , 0. ],\n",
              "       [0. , 0. , 0. , 0. , 0. , 0. , 0. , 0.5, 0. , 0. , 0.5, 0. , 0. ,\n",
              "        0. , 0. , 0. , 0. , 0. , 0. , 0. , 0. , 0. , 0. , 0. , 0. , 0. ,\n",
              "        0. , 0. ]])"
            ]
          },
          "metadata": {},
          "execution_count": 17
        }
      ]
    },
    {
      "cell_type": "code",
      "execution_count": null,
      "metadata": {
        "id": "xws6QVTWPwbW"
      },
      "outputs": [],
      "source": [
        "#define tokenizer and sequences and padding sequences\n",
        "def pad_sequences(#define training and validation set\n",
        "                  train_texts, valid_texts,\n",
        "                  #define vocab size and out of vocab word\n",
        "                  vocab_size = None, oov_word = None,\n",
        "                  #define filter characters list\n",
        "                  use_modified_filters = False, filters_list = None,\n",
        "                  #define sequence length, padding and truncating\n",
        "                  sequence_len = None, padding_point = 'post', truncating_point = 'post',\n",
        "                  #define json tokenizer\n",
        "                  save_tokenizer_json = False, tokenizer_filepath = None\n",
        "                  ):\n",
        "    \n",
        "    #define tokenizer and fit\n",
        "    from keras.preprocessing.text import Tokenizer\n",
        "    if use_modified_filters:\n",
        "        filters = ''.join(filters_list)\n",
        "    else:\n",
        "        filters = '!\"#$%&()*+,-./:;<=>?@[\\\\]^_`{|}~\\t\\n'\n",
        "    tokenizer = Tokenizer(num_words = vocab_size, oov_token = oov_word,\n",
        "                          filters = filters)\n",
        "    tokenizer.fit_on_texts(train_texts)\n",
        "    word_index = tokenizer.word_index\n",
        "\n",
        "    if save_tokenizer_json:\n",
        "        with open(tokenizer_filepath+'.json','w') as tokenizer_file:\n",
        "            json.dump(tokenizer.to_json(), tokenizer_file)\n",
        "\n",
        "    #define training validation texts to sequences\n",
        "    train_sequences = tokenizer.texts_to_sequences(train_texts)\n",
        "    valid_sequences = tokenizer.texts_to_sequences(valid_texts)\n",
        "\n",
        "    #define training validation pad sequences\n",
        "    from keras.preprocessing.sequence import pad_sequences\n",
        "    train_padded_sequences = pad_sequences(train_sequences, maxlen = sequence_len,\n",
        "                                           padding = padding_point, truncating = truncating_point)\n",
        "    valid_padded_sequences = pad_sequences(valid_sequences, maxlen = sequence_len,\n",
        "                                           padding = padding_point, truncating = truncating_point)\n",
        "\n",
        "    return train_padded_sequences, valid_padded_sequences, tokenizer, word_index\n"
      ]
    },
    {
      "cell_type": "code",
      "execution_count": null,
      "metadata": {
        "id": "slxiMi6ZXYEx"
      },
      "outputs": [],
      "source": [
        "train_padded_sequences, valid_padded_sequences, tokenizer, word_index = pad_sequences(#define training and validation set\n",
        "                                                                                      train_texts_list, valid_texts_list,\n",
        "                                                                                      #define vocab size and out of vocab word\n",
        "                                                                                      vocab_size = None, oov_word = '<oov>',\n",
        "                                                                                      #define filter characters list\n",
        "                                                                                      use_modified_filters = False, filters_list = None,\n",
        "                                                                                      #define sequence length, padding and truncating\n",
        "                                                                                      sequence_len = 150)"
      ]
    },
    {
      "cell_type": "code",
      "execution_count": null,
      "metadata": {
        "colab": {
          "base_uri": "https://localhost:8080/"
        },
        "id": "1S6jPEDtVocu",
        "outputId": "fa1726a9-2019-46b4-b5b0-dd966c2e4d90"
      },
      "outputs": [
        {
          "output_type": "stream",
          "name": "stdout",
          "text": [
            "--2022-07-11 17:26:21--  https://dl.fbaipublicfiles.com/fasttext/vectors-english/crawl-300d-2M.vec.zip\n",
            "Resolving dl.fbaipublicfiles.com (dl.fbaipublicfiles.com)... 104.22.74.142, 104.22.75.142, 172.67.9.4, ...\n",
            "Connecting to dl.fbaipublicfiles.com (dl.fbaipublicfiles.com)|104.22.74.142|:443... connected.\n",
            "HTTP request sent, awaiting response... 200 OK\n",
            "Length: 1523785255 (1.4G) [application/zip]\n",
            "Saving to: ‘crawl-300d-2M.vec.zip’\n",
            "\n",
            "crawl-300d-2M.vec.z 100%[===================>]   1.42G  17.2MB/s    in 95s     \n",
            "\n",
            "2022-07-11 17:27:57 (15.3 MB/s) - ‘crawl-300d-2M.vec.zip’ saved [1523785255/1523785255]\n",
            "\n"
          ]
        }
      ],
      "source": [
        "#load pre-trained word vectors\n",
        "!wget https://dl.fbaipublicfiles.com/fasttext/vectors-english/crawl-300d-2M.vec.zip\n",
        "\n",
        "#unzip the loaded file\n",
        "!unzip -q crawl-300d-2M.vec.zip\n"
      ]
    },
    {
      "cell_type": "code",
      "execution_count": null,
      "metadata": {
        "id": "brRWvKPSp4QN"
      },
      "outputs": [],
      "source": [
        "#define pre-trained words dictionary loader\n",
        "def word_dict_loader(#define file path and file type\n",
        "                     file_path, file_type,\n",
        "                     #define txt and csv file type args\n",
        "                     word_index = None, vector_index = None, header = True, spliter_delimiter = None,\n",
        "                     use_word_spliter = False, word_spliter = None, word_split_index = None,\n",
        "                     #define json file type args\n",
        "                     word_key = None, vector_key = None,\n",
        "                     ):\n",
        "    \n",
        "    word_dict = dict()\n",
        "\n",
        "    #define txt vec loader\n",
        "    if file_type in ['txt', 'vec']:\n",
        "        with open(file_path, 'r') as word_dict_file:\n",
        "            if header:\n",
        "                next(word_dict_file)\n",
        "            for row in word_dict_file:\n",
        "                row = row.split(spliter_delimiter)\n",
        "                if use_word_spliter:\n",
        "                    word = row[word_index].split(word_spliter)[word_split_index]\n",
        "                else:\n",
        "                    word = row[word_index]\n",
        "                vectors = np.array(row[vector_index:], dtype = 'float32')\n",
        "                word_dict[word] = vectors\n",
        "\n",
        "    #define csv loader\n",
        "    elif file_type in ['csv']:\n",
        "        with open(file_path, 'r') as word_dict_file:\n",
        "            word_dict_file = csv.reader(word_dict_file, delimiter = spliter_delimiter)\n",
        "            if header:\n",
        "                next(word_dict_file)\n",
        "            for row in word_dict_file:\n",
        "                if use_word_spliter:\n",
        "                    word = row[word_index].split(word_spliter)[word_split_index]\n",
        "                else:\n",
        "                    word = row[word_index]\n",
        "                vectors = np.array(row[vector_index:], dtype = 'float32')\n",
        "                word_dict[word] = vectors\n",
        "                \n",
        "    #define json loader\n",
        "    elif file_type in ['json']:\n",
        "        with open(file_path, 'r') as word_dict_file:\n",
        "            word_dict_file = json.load(word_dict_file)\n",
        "            for item in word_dict_file:\n",
        "                word = item[word_key]\n",
        "                vectors = np.array(item[vector_key], dtype = 'float32')\n",
        "                word_dict[word] = vectors\n",
        "\n",
        "    #word dict params\n",
        "    word_dict_size = len(word_dict)\n",
        "    word_dict_dim = list(word_dict.values())[0].shape[0]\n",
        "\n",
        "    return word_dict, word_dict_size, word_dict_dim\n"
      ]
    },
    {
      "cell_type": "code",
      "execution_count": null,
      "metadata": {
        "id": "L95-YalCYVJe"
      },
      "outputs": [],
      "source": [
        "word_dict, word_dict_size, word_dict_dim = word_dict_loader(#define file path and file type\n",
        "                                                            file_path = '/content/crawl-300d-2M.vec', file_type = 'vec',\n",
        "                                                            #define txt and csv file type args\n",
        "                                                            word_index = 0, vector_index = 1, header = True, spliter_delimiter = ' ')\n"
      ]
    },
    {
      "cell_type": "code",
      "execution_count": null,
      "metadata": {
        "id": "fFr4DSbYpYjK"
      },
      "outputs": [],
      "source": [
        "#define pre-trained embedding word vectors\n",
        "def embd_weights_loader(#define word dictionary and word index\n",
        "                        word_dict, word_index, dimension\n",
        "                        ):\n",
        "    \n",
        "    #create embedding weights\n",
        "    embed_weights = np.zeros([len(word_index)+1, dimension], dtype = 'float32')\n",
        "\n",
        "    counter = 0\n",
        "    for word, index in word_index.items():\n",
        "        if word in word_dict:\n",
        "            embed_weights[index] = word_dict[word]\n",
        "            counter += 1\n",
        "\n",
        "    #embedding layer params\n",
        "    vocab_size = embed_weights.shape[0]\n",
        "    embed_dim = embed_weights.shape[1]\n",
        "\n",
        "    return embed_weights, vocab_size, embed_dim, counter\n"
      ]
    },
    {
      "cell_type": "code",
      "execution_count": null,
      "metadata": {
        "id": "9jaJfMnZZM6N"
      },
      "outputs": [],
      "source": [
        "embed_weights, vocab_size, embed_dim, counter = embd_weights_loader(#define word dictionary and word index\n",
        "                                                                    word_dict = word_dict, word_index = word_index,\n",
        "                                                                    dimension = word_dict_dim)\n"
      ]
    },
    {
      "cell_type": "code",
      "execution_count": null,
      "metadata": {
        "colab": {
          "base_uri": "https://localhost:8080/"
        },
        "id": "Dn037Y_9a4Nv",
        "outputId": "2b9db518-603a-414b-d80e-f56cca85ff55"
      },
      "outputs": [
        {
          "output_type": "stream",
          "name": "stdout",
          "text": [
            "The Tokenizer Word Index Derive 28208 Words\n",
            "The Pre-Traind Word Vectors Covers 24323 Words\n"
          ]
        }
      ],
      "source": [
        "#define how many words the pre-trained will cover\n",
        "print(f'the tokenizer word index derive {len(word_index)} words\\nthe pre-traind word vectors covers {counter} words'.title())\n"
      ]
    },
    {
      "cell_type": "code",
      "execution_count": null,
      "metadata": {
        "id": "dlRqac9W2DWL"
      },
      "outputs": [],
      "source": [
        "#define model\n",
        "def create_model(#define input shape\n",
        "                 input_shape = None,\n",
        "                 #define embedding layer parameters\n",
        "                 use_pretraind_embd = False, vocab_size = None, embd_dim = None,\n",
        "                 sequence_len = None, embed_weights = None,\n",
        "                 #define type of layer and parameters\n",
        "                 use_lstm = False, use_gru = False, use_conv = False,\n",
        "                 #define lstm layers parameters\n",
        "                 lstm_layers_num = None, lstm_layers_units = None,\n",
        "                 #define gru layers parameters\n",
        "                 gru_layers_num = None, gru_layers_units = None,\n",
        "                 #define convolution layers parameters\n",
        "                 conv_layers_num = None, conv_layers_filters = None, conv_layers_kernel = None,\n",
        "                 #define convolution layers sub layers\n",
        "                 use_max_pool = False, max_pool_size = None,\n",
        "                 #define dense layer feeder\n",
        "                 use_global_max_pool = False, use_global_avg_pool = False, use_flatten = False,\n",
        "                 use_feeder_dropout = False, feeder_dropout_ratio = None,\n",
        "                 #define dense head layers\n",
        "                 use_dense_layers = True, dense_layers_num = None, dense_layers_units = None,\n",
        "                 #define dense layers dropout parameters\n",
        "                 use_dense_dropout = False, dense_dropout_ratio = None,\n",
        "                 #define output layer parameters\n",
        "                 output_layer_unit = None, output_layer_activation = None,\n",
        "                 #define model compiler parameters\n",
        "                 optimizer = None, loss = None, metrics = None\n",
        "                 ):\n",
        "    \n",
        "    #define input layer\n",
        "    input = keras.Input(shape = input_shape)\n",
        "\n",
        "    #define embedding layer and parameters\n",
        "    if use_pretraind_embd:\n",
        "        out = keras.layers.Embedding(input_dim = vocab_size, output_dim = embd_dim, input_length = sequence_len,\n",
        "                                     weights = [embed_weights], trainable = False)(input)\n",
        "    else:\n",
        "        out = keras.layers.Embedding(input_dim = vocab_size, output_dim = embd_dim, input_length = sequence_len)(input)\n",
        "\n",
        "    #define type of layer and parameters\n",
        "    #lstm type layers\n",
        "    if use_lstm:\n",
        "        sequence_return = (lstm_layers_num - 1)*[True]\n",
        "        sequence_return.append(False)\n",
        "        for layer_num in range(lstm_layers_num):\n",
        "            out = keras.layers.Bidirectional(keras.layers.LSTM(lstm_layers_units[layer_num],\n",
        "                                                               return_sequences = sequence_return[layer_num]))(out)\n",
        "\n",
        "    #gru type layers\n",
        "    elif use_gru:\n",
        "        sequence_return = (gru_layers_num - 1)*[True]\n",
        "        sequence_return.append(False)\n",
        "        for layer_num in range(gru_layers_num):\n",
        "            out = keras.layers.Bidirectional(keras.layers.GRU(gru_layers_units[layer_num],\n",
        "                                                              return_sequences = sequence_return[layer_num]))(out)\n",
        "    \n",
        "    #convolution type layer\n",
        "    elif use_conv:\n",
        "        for layer_num in range(conv_layers_num):\n",
        "            out = keras.layers.Conv1D(filters = conv_layers_filters[layer_num], kernel_size = conv_layers_kernel[layer_num],\n",
        "                                      activation = 'relu')(out)\n",
        "            if use_max_pool[layer_num]:\n",
        "                out = keras.layers.MaxPool1D(max_pool_size[layer_num])(out)\n",
        "\n",
        "\n",
        "    #dense layers feeder layer\n",
        "    #global max pool type layer\n",
        "    if use_global_max_pool:\n",
        "        out = keras.layers.GlobalMaxPooling1D()(out)\n",
        "        \n",
        "    #global average pool type layer\n",
        "    elif use_global_avg_pool:\n",
        "        out = keras.layers.GlobalAveragePooling1D()(out)\n",
        "\n",
        "    #flatten type layer\n",
        "    elif use_flatten:\n",
        "        out = keras.layers.Flatten()(out)\n",
        "\n",
        "    #define feeder dropout layer\n",
        "    if use_feeder_dropout:\n",
        "        out = keras.layers.Dropout(feeder_dropout_ratio)(out)\n",
        "\n",
        "\n",
        "    #define dense head layers\n",
        "    if use_dense_layers:\n",
        "        for layer_num in range(dense_layers_num):\n",
        "            out = keras.layers.Dense(dense_layers_units[layer_num], activation = 'relu')(out)\n",
        "            if use_dense_dropout[layer_num]:\n",
        "                out = keras.layers.Dropout(dense_dropout_ratio[layer_num])(out)\n",
        "    \n",
        "    #define output layer\n",
        "    output = keras.layers.Dense(output_layer_unit, activation = output_layer_activation)(out)\n",
        "\n",
        "    #define model\n",
        "    model = keras.models.Model(inputs = input, outputs = output)\n",
        "\n",
        "\n",
        "    #compile model\n",
        "    model.compile(optimizer = optimizer,\n",
        "                  loss = loss,\n",
        "                  metrics = metrics)\n",
        "    \n",
        "    return model\n",
        "    "
      ]
    },
    {
      "cell_type": "code",
      "execution_count": null,
      "metadata": {
        "id": "Cfnaso8ub6ZQ"
      },
      "outputs": [],
      "source": [
        "#create model\n",
        "model = create_model(#define input shape\n",
        "                     input_shape = 150,\n",
        "                     #define embedding layer parameters\n",
        "                     use_pretraind_embd = True, vocab_size = vocab_size, embd_dim = embed_dim,\n",
        "                     sequence_len = 150, embed_weights = embed_weights,\n",
        "                     #define type of layer and parameters\n",
        "                     use_lstm = False, use_gru = True, use_conv = False,\n",
        "                     #define lstm layers parameters\n",
        "                     lstm_layers_num = None, lstm_layers_units = None,\n",
        "                     #define gru layers parameters\n",
        "                     gru_layers_num = 2, gru_layers_units = [32, 32],\n",
        "                     #define convolution layers parameters\n",
        "                     conv_layers_num = None, conv_layers_filters = None, conv_layers_kernel = None,\n",
        "                     #define convolution layers sub layers\n",
        "                     use_max_pool = False, max_pool_size = None,\n",
        "                     #define dense layer feeder\n",
        "                     use_global_max_pool = False, use_global_avg_pool = False, use_flatten = False,\n",
        "                     use_feeder_dropout = True, feeder_dropout_ratio = 0.3,\n",
        "                     #define dense head layers\n",
        "                     use_dense_layers = True, dense_layers_num = 2, dense_layers_units = [64, 64],\n",
        "                     #define dense layers dropout parameters\n",
        "                     use_dense_dropout = [True, True], dense_dropout_ratio = [0.3, 0.3],\n",
        "                     #define output layer parameters\n",
        "                     output_layer_unit = len(train_labels_dict), output_layer_activation = 'softmax',\n",
        "                     #define model compiler parameters\n",
        "                     optimizer = keras.optimizers.RMSprop(0.01), loss = 'categorical_crossentropy', metrics = 'accuracy'\n",
        "                     )"
      ]
    },
    {
      "cell_type": "code",
      "execution_count": null,
      "metadata": {
        "colab": {
          "base_uri": "https://localhost:8080/"
        },
        "id": "lSMkY1fFeVXT",
        "outputId": "b3c31362-f832-450f-9f40-dc6e699800c7"
      },
      "outputs": [
        {
          "output_type": "stream",
          "name": "stdout",
          "text": [
            "Model: \"model\"\n",
            "________________________________________________________________________________________________________________________\n",
            " Layer (type)                                         Output Shape                                    Param #           \n",
            "========================================================================================================================\n",
            " input_1 (InputLayer)                                 [(None, 150)]                                   0                 \n",
            "                                                                                                                        \n",
            " embedding (Embedding)                                (None, 150, 300)                                8462700           \n",
            "                                                                                                                        \n",
            " bidirectional (Bidirectional)                        (None, 150, 64)                                 64128             \n",
            "                                                                                                                        \n",
            " bidirectional_1 (Bidirectional)                      (None, 64)                                      18816             \n",
            "                                                                                                                        \n",
            " dropout (Dropout)                                    (None, 64)                                      0                 \n",
            "                                                                                                                        \n",
            " dense (Dense)                                        (None, 64)                                      4160              \n",
            "                                                                                                                        \n",
            " dropout_1 (Dropout)                                  (None, 64)                                      0                 \n",
            "                                                                                                                        \n",
            " dense_1 (Dense)                                      (None, 64)                                      4160              \n",
            "                                                                                                                        \n",
            " dropout_2 (Dropout)                                  (None, 64)                                      0                 \n",
            "                                                                                                                        \n",
            " dense_2 (Dense)                                      (None, 28)                                      1820              \n",
            "                                                                                                                        \n",
            "========================================================================================================================\n",
            "Total params: 8,555,784\n",
            "Trainable params: 93,084\n",
            "Non-trainable params: 8,462,700\n",
            "________________________________________________________________________________________________________________________\n"
          ]
        }
      ],
      "source": [
        "#model summary\n",
        "model.summary(120)\n"
      ]
    },
    {
      "cell_type": "code",
      "execution_count": null,
      "metadata": {
        "colab": {
          "base_uri": "https://localhost:8080/"
        },
        "id": "UxgR_Rm2ehyg",
        "outputId": "a5a512a9-b75e-48e2-b247-204a009d54d9"
      },
      "outputs": [
        {
          "output_type": "stream",
          "name": "stdout",
          "text": [
            "Epoch 1/200\n",
            "1357/1357 [==============================] - 42s 27ms/step - loss: 2.3059 - accuracy: 0.4067 - val_loss: 2.1821 - val_accuracy: 0.4444 - lr: 0.0100\n",
            "Epoch 2/200\n",
            "1357/1357 [==============================] - 35s 25ms/step - loss: 2.2195 - accuracy: 0.4247 - val_loss: 2.0578 - val_accuracy: 0.4461 - lr: 0.0100\n",
            "Epoch 3/200\n",
            "1357/1357 [==============================] - 35s 25ms/step - loss: 2.2375 - accuracy: 0.4202 - val_loss: 2.0991 - val_accuracy: 0.4378 - lr: 0.0100\n",
            "Epoch 4/200\n",
            "1357/1357 [==============================] - 37s 27ms/step - loss: 2.2547 - accuracy: 0.4158 - val_loss: 2.0846 - val_accuracy: 0.4349 - lr: 0.0100\n",
            "Epoch 5/200\n",
            "1357/1357 [==============================] - 35s 26ms/step - loss: 2.1612 - accuracy: 0.4361 - val_loss: 2.0024 - val_accuracy: 0.4645 - lr: 1.0000e-03\n",
            "Epoch 6/200\n",
            "1357/1357 [==============================] - 35s 26ms/step - loss: 2.0990 - accuracy: 0.4453 - val_loss: 1.9765 - val_accuracy: 0.4647 - lr: 1.0000e-03\n",
            "Epoch 7/200\n",
            "1357/1357 [==============================] - 35s 26ms/step - loss: 2.0724 - accuracy: 0.4471 - val_loss: 1.9771 - val_accuracy: 0.4660 - lr: 1.0000e-03\n",
            "Epoch 8/200\n",
            "1357/1357 [==============================] - 35s 26ms/step - loss: 2.0614 - accuracy: 0.4506 - val_loss: 1.9658 - val_accuracy: 0.4715 - lr: 1.0000e-03\n",
            "Epoch 9/200\n",
            "1357/1357 [==============================] - 35s 26ms/step - loss: 2.0497 - accuracy: 0.4546 - val_loss: 1.9775 - val_accuracy: 0.4684 - lr: 1.0000e-03\n",
            "Epoch 10/200\n",
            "1357/1357 [==============================] - 35s 25ms/step - loss: 2.0335 - accuracy: 0.4570 - val_loss: 1.9627 - val_accuracy: 0.4680 - lr: 1.0000e-03\n",
            "Epoch 11/200\n",
            "1357/1357 [==============================] - 34s 25ms/step - loss: 2.0241 - accuracy: 0.4605 - val_loss: 1.9733 - val_accuracy: 0.4634 - lr: 1.0000e-03\n",
            "Epoch 12/200\n",
            "1357/1357 [==============================] - 35s 26ms/step - loss: 2.0127 - accuracy: 0.4603 - val_loss: 1.9741 - val_accuracy: 0.4677 - lr: 1.0000e-03\n",
            "Epoch 13/200\n",
            "1357/1357 [==============================] - 35s 26ms/step - loss: 1.9907 - accuracy: 0.4646 - val_loss: 1.9644 - val_accuracy: 0.4715 - lr: 1.0000e-04\n",
            "Epoch 14/200\n",
            "1357/1357 [==============================] - 35s 25ms/step - loss: 1.9847 - accuracy: 0.4674 - val_loss: 1.9718 - val_accuracy: 0.4708 - lr: 1.0000e-04\n",
            "Epoch 15/200\n",
            "1357/1357 [==============================] - 35s 26ms/step - loss: 1.9798 - accuracy: 0.4653 - val_loss: 1.9707 - val_accuracy: 0.4723 - lr: 1.0000e-05\n",
            "Epoch 16/200\n",
            "1357/1357 [==============================] - 34s 25ms/step - loss: 1.9770 - accuracy: 0.4654 - val_loss: 1.9698 - val_accuracy: 0.4725 - lr: 1.0000e-05\n",
            "Epoch 17/200\n",
            "1357/1357 [==============================] - 34s 25ms/step - loss: 1.9761 - accuracy: 0.4672 - val_loss: 1.9697 - val_accuracy: 0.4726 - lr: 1.0000e-06\n",
            "Epoch 18/200\n",
            "1357/1357 [==============================] - 34s 25ms/step - loss: 1.9822 - accuracy: 0.4645 - val_loss: 1.9697 - val_accuracy: 0.4726 - lr: 1.0000e-06\n",
            "Epoch 19/200\n",
            "1357/1357 [==============================] - 34s 25ms/step - loss: 1.9788 - accuracy: 0.4651 - val_loss: 1.9697 - val_accuracy: 0.4726 - lr: 1.0000e-07\n",
            "Epoch 20/200\n",
            "1357/1357 [==============================] - 33s 25ms/step - loss: 1.9810 - accuracy: 0.4659 - val_loss: 1.9697 - val_accuracy: 0.4726 - lr: 1.0000e-07\n"
          ]
        },
        {
          "output_type": "execute_result",
          "data": {
            "text/plain": [
              "<keras.callbacks.History at 0x7f5eddb5bc90>"
            ]
          },
          "metadata": {},
          "execution_count": 31
        }
      ],
      "source": [
        "#fit model\n",
        "model.fit(train_padded_sequences, train_labels_encoded, epochs = 200,\n",
        "          validation_data = (valid_padded_sequences, valid_labels_encoded), \n",
        "          callbacks = [keras.callbacks.EarlyStopping('val_loss', patience = 10, restore_best_weights = True),\n",
        "                       keras.callbacks.ReduceLROnPlateau('val_loss', factor = 0.1, patience = 2)])\n"
      ]
    },
    {
      "cell_type": "code",
      "execution_count": null,
      "metadata": {
        "colab": {
          "base_uri": "https://localhost:8080/",
          "height": 374
        },
        "id": "5QZxcYLF5dQA",
        "outputId": "e62c13f0-beb0-41f1-afad-f37f46da1465"
      },
      "outputs": [
        {
          "output_type": "display_data",
          "data": {
            "text/plain": [
              "<Figure size 648x432 with 1 Axes>"
            ],
            "image/png": "[encoded data removed]"
          },
          "metadata": {
            "needs_background": "light"
          }
        }
      ],
      "source": [
        "#plot model training loss\n",
        "pd.DataFrame(model.history.history)[['loss', 'val_loss']].plot(figsize = (9, 6), linewidth = 3)\n",
        "plt.grid(linestyle = '--', linewidth = 2)\n",
        "plt.show()\n"
      ]
    },
    {
      "cell_type": "code",
      "execution_count": null,
      "metadata": {
        "colab": {
          "base_uri": "https://localhost:8080/",
          "height": 378
        },
        "id": "kY27HrmE5fID",
        "outputId": "f87bdbeb-2222-4098-ca26-d70ad116cb0b"
      },
      "outputs": [
        {
          "output_type": "display_data",
          "data": {
            "text/plain": [
              "<Figure size 648x432 with 1 Axes>"
            ],
            "image/png": "[encoded data removed]"
          },
          "metadata": {
            "needs_background": "light"
          }
        }
      ],
      "source": [
        "#plot model training accuracy\n",
        "pd.DataFrame(model.history.history)[['accuracy', 'val_accuracy']].plot(figsize = (9, 6), linewidth = 3)\n",
        "plt.grid(linestyle = '--', linewidth = 2)\n",
        "plt.ylim(0,1)\n",
        "plt.show()\n"
      ]
    },
    {
      "cell_type": "code",
      "execution_count": null,
      "metadata": {
        "colab": {
          "base_uri": "https://localhost:8080/"
        },
        "id": "Hw3pfV6J5kc3",
        "outputId": "c367fe96-9153-42f0-c2a0-a362ac4e6b3f"
      },
      "outputs": [
        {
          "output_type": "stream",
          "name": "stdout",
          "text": [
            "Training Set Evaluation:\n",
            "\tLoss: 1.8577\tAccuracy: 49.0%\n",
            "Training Set Evaluation:\n",
            "\tLoss: 1.9627\tAccuracy: 46.800000000000004%\n"
          ]
        }
      ],
      "source": [
        "#model evaluation\n",
        "train_set_eval = model.evaluate(train_padded_sequences, train_labels_encoded, verbose = 0)\n",
        "valid_set_eval = model.evaluate(valid_padded_sequences, valid_labels_encoded, verbose = 0)\n",
        "\n",
        "print(f'Training Set Evaluation:\\n\\tLoss: {round(train_set_eval[0],4)}\\tAccuracy: {100*round(train_set_eval[1],2)}%')\n",
        "print(f'Training Set Evaluation:\\n\\tLoss: {round(valid_set_eval[0],4)}\\tAccuracy: {100*round(valid_set_eval[1],4)}%')\n"
      ]
    },
    {
      "cell_type": "code",
      "source": [
        "#revert labels dict\n",
        "labels_dict = dict([(label, key) for key, label in train_labels_dict.items()])\n"
      ],
      "metadata": {
        "id": "yIya1j6aaHwH"
      },
      "execution_count": null,
      "outputs": []
    },
    {
      "cell_type": "code",
      "source": [
        "#prediction\n",
        "text = str(input(\"Enter The Text: \"))\n",
        "sequence = tokenizer.texts_to_sequences([text])\n",
        "sequence = keras.preprocessing.sequence.pad_sequences(sequence, maxlen = 150, padding = 'post', truncating = 'post')\n",
        "predict = model.predict(sequence)\n",
        "\n",
        "print(\"\\nThe Suggested Emotion:\")\n",
        "print(f'\\t{labels_dict[predict.argmax()].title()}')"
      ],
      "metadata": {
        "colab": {
          "base_uri": "https://localhost:8080/"
        },
        "id": "WtcQE-sN2SSD",
        "outputId": "5ef22b58-1c28-4f0f-b3f6-f7ae2867a2a7"
      },
      "execution_count": null,
      "outputs": [
        {
          "output_type": "stream",
          "name": "stdout",
          "text": [
            "Enter The Text: It Made Me So Upset And Sad\n",
            "\n",
            "The Suggested Emotion:\n",
            "\tSadness\n"
          ]
        }
      ]
    },
    {
      "cell_type": "code",
      "source": [
        "#prediction\n",
        "text = str(input(\"Enter The Text: \"))\n",
        "sequence = tokenizer.texts_to_sequences([text])\n",
        "sequence = keras.preprocessing.sequence.pad_sequences(sequence, maxlen = 150, padding = 'post', truncating = 'post')\n",
        "predict = model.predict(sequence)\n",
        "\n",
        "print(\"\\nThe Suggested Emotion:\")\n",
        "print(f'\\t{labels_dict[predict.argmax()].title()}')"
      ],
      "metadata": {
        "colab": {
          "base_uri": "https://localhost:8080/"
        },
        "id": "l3qjYRS94Cc4",
        "outputId": "d9c3f90d-85c9-4b04-ed87-28b2414ae908"
      },
      "execution_count": null,
      "outputs": [
        {
          "output_type": "stream",
          "name": "stdout",
          "text": [
            "Enter The Text: So Lovely And Cute\n",
            "\n",
            "The Suggested Emotion:\n",
            "\tAdmiration\n"
          ]
        }
      ]
    },
    {
      "cell_type": "code",
      "source": [
        "#prediction\n",
        "text = str(input(\"Enter The Text: \"))\n",
        "sequence = tokenizer.texts_to_sequences([text])\n",
        "sequence = keras.preprocessing.sequence.pad_sequences(sequence, maxlen = 150, padding = 'post', truncating = 'post')\n",
        "predict = model.predict(sequence)\n",
        "\n",
        "print(\"\\nThe Suggested Emotion:\")\n",
        "print(f'\\t{labels_dict[predict.argmax()].title()}')"
      ],
      "metadata": {
        "colab": {
          "base_uri": "https://localhost:8080/"
        },
        "id": "Yffhk7aObe42",
        "outputId": "f9418cb0-1420-43b5-c715-c861a127dc10"
      },
      "execution_count": null,
      "outputs": [
        {
          "output_type": "stream",
          "name": "stdout",
          "text": [
            "Enter The Text: I'm So Proud Of It\n",
            "\n",
            "The Suggested Emotion:\n",
            "\tGratitude\n"
          ]
        }
      ]
    },
    {
      "cell_type": "code",
      "source": [
        "#prediction\n",
        "text = str(input(\"Enter The Text: \"))\n",
        "sequence = tokenizer.texts_to_sequences([text])\n",
        "sequence = keras.preprocessing.sequence.pad_sequences(sequence, maxlen = 150, padding = 'post', truncating = 'post')\n",
        "predict = model.predict(sequence)\n",
        "\n",
        "print(\"\\nThe Suggested Emotion:\")\n",
        "print(f'\\t{labels_dict[predict.argmax()].title()}')"
      ],
      "metadata": {
        "colab": {
          "base_uri": "https://localhost:8080/"
        },
        "id": "2jO-a6a3cSmg",
        "outputId": "33e4fc70-a437-4c67-d080-3e19e8b5c8c0"
      },
      "execution_count": null,
      "outputs": [
        {
          "output_type": "stream",
          "name": "stdout",
          "text": [
            "Enter The Text: It Made Me Laugh\n",
            "\n",
            "The Suggested Emotion:\n",
            "\tAmusement\n"
          ]
        }
      ]
    },
    {
      "cell_type": "code",
      "execution_count": null,
      "metadata": {
        "id": "9nlIngR46DCM"
      },
      "outputs": [],
      "source": [
        "#save model\n",
        "model.save('/content/go-emotions-text-classification-model.h5')\n"
      ]
    }
  ],
  "metadata": {
    "colab": {
      "collapsed_sections": [],
      "name": "go-emotions-text-classification.ipynb",
      "provenance": [],
      "include_colab_link": true
    },
    "gpuClass": "standard",
    "kernelspec": {
      "display_name": "Python 3",
      "name": "python3"
    },
    "language_info": {
      "name": "python"
    }
  },
  "nbformat": 4,
  "nbformat_minor": 0
}