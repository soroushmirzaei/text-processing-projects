{
  "cells": [
    {
      "cell_type": "markdown",
      "metadata": {
        "id": "view-in-github",
        "colab_type": "text"
      },
      "source": [
        "<a href=\"https://colab.research.google.com/github/soroushmirzaei/text-processing-projects/blob/main/shahnameh-ferdowsi-text-generation/shahnameh-ferdowsi-text-generation.ipynb\" target=\"_parent\"><img src=\"https://colab.research.google.com/assets/colab-badge.svg\" alt=\"Open In Colab\"/></a>"
      ]
    },
    {
      "cell_type": "code",
      "execution_count": null,
      "metadata": {
        "id": "SIYC55FdPdC2"
      },
      "outputs": [],
      "source": [
        "#import requirement libraries\n",
        "import os\n",
        "import shutil\n",
        "\n",
        "#import dataset query libraries\n",
        "import csv\n",
        "import json\n",
        "\n",
        "#import mathematics statics libraries\n",
        "import random as rnd\n",
        "import numpy as np\n",
        "import pandas as pd\n",
        "\n",
        "#import visualization libraries\n",
        "import matplotlib.pyplot as plt\n",
        "import seaborn as sns\n",
        "\n",
        "#import machine learning deep learning libraries\n",
        "import tensorflow as tf\n",
        "from tensorflow import keras\n"
      ]
    },
    {
      "cell_type": "code",
      "execution_count": null,
      "metadata": {
        "id": "6SkBIh-h6ZzE"
      },
      "outputs": [],
      "source": [
        "#download filters-characters dataset\n",
        "!wget -q https://raw.githubusercontent.com/soroushmirzaei/text-processing-projects/main/english-language-filter-characters.txt\n",
        "!wget -q https://raw.githubusercontent.com/soroushmirzaei/text-processing-projects/main/persian-language-filter-characters.txt\n",
        "\n",
        "#download similar-characters dataset\n",
        "!wget -q https://raw.githubusercontent.com/soroushmirzaei/text-processing-projects/main/persian-language-similar-characters.json\n"
      ]
    },
    {
      "cell_type": "code",
      "execution_count": null,
      "metadata": {
        "id": "Cna6blsV2ZkZ"
      },
      "outputs": [],
      "source": [
        "#define filters-list function loader\n",
        "def filter_chars(file_path):\n",
        "    filter_chars = list()\n",
        "    with open(file_path, 'r') as filters_list_file:\n",
        "        for word in filters_list_file:\n",
        "            filter_chars.append(word.strip('\\n'))\n",
        "        filters_list_file.close()\n",
        "    return filter_chars\n",
        "\n",
        "#define similar-characters function loader\n",
        "def similar_chars(file_path):\n",
        "    with open(file_path, 'r') as similar_chars_file:\n",
        "        similar_chars = json.load(similar_chars_file)\n",
        "    return similar_chars\n"
      ]
    },
    {
      "cell_type": "code",
      "execution_count": null,
      "metadata": {
        "id": "bLhC44LW6TAd"
      },
      "outputs": [],
      "source": [
        "#load filters-characters\n",
        "eng_filter_characters = filter_chars('english-language-filter-characters.txt')\n",
        "per_filter_characters = filter_chars('persian-language-filter-characters.txt')\n",
        "\n",
        "#load similar-characters\n",
        "per_similar_characters = similar_chars('persian-language-similar-characters.json')\n"
      ]
    },
    {
      "cell_type": "code",
      "execution_count": null,
      "metadata": {
        "id": "39pSrmpdM5xg"
      },
      "outputs": [],
      "source": [
        "#define remove filters characters function\n",
        "def remove_filter(text, filters_list):\n",
        "    characters = list(text)\n",
        "    characters_without_filters = [character for character in characters if character not in filters_list]\n",
        "    text_without_filters = ''.join(characters_without_filters)\n",
        "    return text_without_filters\n",
        "\n",
        "#define similar characters modification function\n",
        "def similar_char(text, similar_chars_dict):\n",
        "    characters = list(text)\n",
        "    similar_characters_modified_list = [similar_chars_dict.get(character,character) for character in characters]\n",
        "    similar_characters_modified_text = ''.join(similar_characters_modified_list)\n",
        "    return similar_characters_modified_text\n"
      ]
    },
    {
      "cell_type": "code",
      "execution_count": null,
      "metadata": {
        "id": "xs1sANpkK_xq"
      },
      "outputs": [],
      "source": [
        "#define texts and labels list loader for csv and json files\n",
        "def texts_loader(#define file path and type\n",
        "                 file_path, file_type,\n",
        "                 #define csv and txt files index for text and labels\n",
        "                 text_index = None, header_row = True, spliter_delimiter = None,\n",
        "                 #define json file keys for texts and labels\n",
        "                 text_key = None,\n",
        "                 #define preprocessing function for texts\n",
        "                 use_filter_remover = False, filters_list = None,\n",
        "                 use_similarchars_modifier = False, similarchars_dict = None\n",
        "                 ):\n",
        "    \n",
        "    #create empty texts labels list\n",
        "    texts_list = list()\n",
        "\n",
        "    #csv file loader\n",
        "    if file_type in ['csv']:\n",
        "        with open(file_path, 'r') as csv_file:\n",
        "            csv_reader = csv.reader(csv_file, delimiter = spliter_delimiter)\n",
        "            if header_row:\n",
        "                next(csv_reader)\n",
        "            for row in csv_reader:\n",
        "                text = row[text_index]\n",
        "                #optional modification function\n",
        "                if use_filter_remover:\n",
        "                    text = remove_filter(text, filters_list)\n",
        "                if use_similarchars_modifier:\n",
        "                    text = similar_char(text, similarchars_dict)\n",
        "                texts_list.append(text)\n",
        "        csv_file.close()\n",
        "\n",
        "    #txt file loader\n",
        "    if file_type in ['txt']:\n",
        "        with open(file_path, 'r') as txt_file:\n",
        "            for line in txt_file:\n",
        "                line = line.split(spliter_delimiter)\n",
        "                text = line[text_index]\n",
        "                #optional modification function\n",
        "                if use_filter_remover:\n",
        "                    text = remove_filter(text, filters_list)\n",
        "                if use_similarchars_modifier:\n",
        "                    text = similar_char(text, similarchars_dict)\n",
        "                texts_list.append(text.strip('\\n'))\n",
        "        txt_file.close()\n",
        "    \n",
        "    #json file loader\n",
        "    if file_type in ['json']:\n",
        "        with open(file_path, 'r') as json_file:\n",
        "            json_reader = json.load(json_file)\n",
        "            for item in json_reader:\n",
        "                text = item[text_key]\n",
        "                #optional modification function\n",
        "                if use_filter_remover:\n",
        "                    text = remove_filter(text, filters_list)\n",
        "                if use_similarchars_modifier:\n",
        "                    text = similar_char(text, similarchars_dict)\n",
        "                texts_list.append(text)\n",
        "        json_file.close()\n",
        "\n",
        "    return texts_list\n"
      ]
    },
    {
      "cell_type": "code",
      "source": [
        "texts = texts_loader(#define file path and type\n",
        "                     file_path = '/content/shahnameh-abul-ghasem-ferdowsi', file_type = 'txt',\n",
        "                     #define csv and txt files index for text and labels\n",
        "                     text_index = 0, spliter_delimiter = '\\n',\n",
        "                     use_filter_remover = True, filters_list = eng_filter_characters,\n",
        "                     )"
      ],
      "metadata": {
        "id": "5j1v9kzdisxH"
      },
      "execution_count": null,
      "outputs": []
    },
    {
      "cell_type": "code",
      "source": [
        "texts[:10]"
      ],
      "metadata": {
        "colab": {
          "base_uri": "https://localhost:8080/"
        },
        "id": "t2SU7J1FjSKe",
        "outputId": "cc644f87-d20e-4fdf-ef24-4ef2fac9304f"
      },
      "execution_count": null,
      "outputs": [
        {
          "output_type": "execute_result",
          "data": {
            "text/plain": [
              "['THE FIRST KINGS ',\n",
              " '',\n",
              " '',\n",
              " 'The Reign of Kayumars ',\n",
              " '',\n",
              " 'What does the Persian poet say about the first man to seek the crown of world ',\n",
              " 'sovereignty No one has any knowledge of those first days unless he has heard ',\n",
              " 'tales passed down from father to son This is what those tales tell The first man ',\n",
              " 'to be king and to establish the ceremonies associated with the crown and throne ',\n",
              " 'was Kayumars When he became lord of the world he lived first in the ']"
            ]
          },
          "metadata": {},
          "execution_count": 8
        }
      ]
    },
    {
      "cell_type": "code",
      "execution_count": null,
      "metadata": {
        "id": "xws6QVTWPwbW"
      },
      "outputs": [],
      "source": [
        "#define tokenizer and sequences and padding sequences\n",
        "def texts_labels_generator(#define texts\n",
        "                           texts_list,\n",
        "                           #define filter characters list\n",
        "                           use_modified_filters = False, filters_list = None,\n",
        "                           #define json tokenizer\n",
        "                           save_tokenizer_json = False, tokenizer_filepath = None\n",
        "                           ):\n",
        "    \n",
        "    #define tokenizer filters and fit on texts\n",
        "    from keras.preprocessing.text import Tokenizer\n",
        "    if use_modified_filters:\n",
        "        filters = ''.join(filters_list)\n",
        "    else:\n",
        "        filters = '!\"#$%&()*+,-./:;<=>?@[\\\\]^_`{|}~\\t\\n'\n",
        "\n",
        "    tokenizer = Tokenizer(filters = filters)\n",
        "    tokenizer.fit_on_texts(texts_list)\n",
        "\n",
        "    #define word_index\n",
        "    word_index = tokenizer.word_index\n",
        "    #for padding and counting out of vocab word\n",
        "    total_words = len(word_index) + 1\n",
        "\n",
        "    #save tokenizer json file\n",
        "    if save_tokenizer_json:\n",
        "        with open(tokenizer_filepath+'.json','w') as tokenizer_file:\n",
        "            json.dump(tokenizer.to_json(), tokenizer_file)\n",
        "\n",
        "    #define texts to sequences\n",
        "    texts_sequences = tokenizer.texts_to_sequences(texts_list)\n",
        "\n",
        "    #define phrase based sequences\n",
        "    phrases_sequences = list()\n",
        "\n",
        "    for text_sequence in texts_sequences:\n",
        "        for token_iter in range(1, len(text_sequence)):\n",
        "            phrase_sequence = text_sequence[:token_iter+1]\n",
        "            phrases_sequences.append(phrase_sequence)\n",
        "\n",
        "    #define maximum length of the sequences\n",
        "    maxlen = max([len(sequence) for sequence in phrases_sequences])\n",
        "\n",
        "    #define training validation pad sequences\n",
        "    from keras.preprocessing.sequence import pad_sequences\n",
        "    padded_sequences = pad_sequences(phrases_sequences, maxlen = maxlen, padding = 'pre')\n",
        "\n",
        "    #split texts and labels\n",
        "    texts = padded_sequences[:,:-1]\n",
        "    labels = padded_sequences[:,-1]\n",
        "\n",
        "    return texts, labels, maxlen, tokenizer, word_index\n"
      ]
    },
    {
      "cell_type": "code",
      "source": [
        "texts, labels, maxlen, tokenizer, word_index = texts_labels_generator(#define texts\n",
        "                                                                      texts_list = texts,\n",
        "                                                                      #define filter characters list\n",
        "                                                                      use_modified_filters = False, filters_list = None,\n",
        "                                                                      #define json tokenizer\n",
        "                                                                      save_tokenizer_json = False, tokenizer_filepath = None)\n"
      ],
      "metadata": {
        "id": "wZEZqql-jcGp"
      },
      "execution_count": null,
      "outputs": []
    },
    {
      "cell_type": "code",
      "source": [
        "texts"
      ],
      "metadata": {
        "colab": {
          "base_uri": "https://localhost:8080/"
        },
        "id": "sGSfyqvijnDh",
        "outputId": "c5df6b23-937b-40a5-edc4-dde9216d1f89"
      },
      "execution_count": null,
      "outputs": [
        {
          "output_type": "execute_result",
          "data": {
            "text/plain": [
              "array([[   0,    0,    0, ...,    0,    0,    1],\n",
              "       [   0,    0,    0, ...,    0,    1,  326],\n",
              "       [   0,    0,    0, ...,    0,    0,    1],\n",
              "       ...,\n",
              "       [   0,    0,    0, ...,  475,   21, 3180],\n",
              "       [   0,    0,    0, ...,   21, 3180,    2],\n",
              "       [   0,    0,    0, ..., 3180,    2,   21]], dtype=int32)"
            ]
          },
          "metadata": {},
          "execution_count": 11
        }
      ]
    },
    {
      "cell_type": "code",
      "source": [
        "labels"
      ],
      "metadata": {
        "colab": {
          "base_uri": "https://localhost:8080/"
        },
        "id": "UlUz5XBTkXzd",
        "outputId": "0e84eb8a-565e-4c9d-c640-896f09f9f641"
      },
      "execution_count": null,
      "outputs": [
        {
          "output_type": "execute_result",
          "data": {
            "text/plain": [
              "array([326,  70, 462, ...,   2,  21, 768], dtype=int32)"
            ]
          },
          "metadata": {},
          "execution_count": 12
        }
      ]
    },
    {
      "cell_type": "code",
      "execution_count": null,
      "metadata": {
        "id": "wJ3p8PBDbFH2"
      },
      "outputs": [],
      "source": [
        "#define labels encoder\n",
        "def label_encoder(#define labels list and method\n",
        "                  labels_list,\n",
        "                  #define method binary, ordinal or onehot\n",
        "                  method, return_categories = True\n",
        "                  ):\n",
        "    \n",
        "    #ordinal and binary encoder method\n",
        "    if method in ['binary','ordinal']:\n",
        "        unique_labels = sorted(list(set(labels_list)))\n",
        "        labels_dict = {\n",
        "            label : int(unique_labels.index(label)) for label in unique_labels\n",
        "        }\n",
        "        labels = list(map(lambda label : labels_dict[label], labels_list))\n",
        "    \n",
        "    #one-hot encoder method\n",
        "    elif method in ['onehot']:\n",
        "        unique_labels = sorted(list(set(labels_list)))\n",
        "        labels_dict = {\n",
        "            label : int(unique_labels.index(label)) for label in unique_labels\n",
        "        }\n",
        "        labels_encoded = list()\n",
        "        for label in labels_list:\n",
        "            label_encoded = len(unique_labels)*[0]\n",
        "            label_number = labels_dict[label]\n",
        "            label_encoded[label_number] = 1\n",
        "            labels_encoded.append(label_encoded)\n",
        "        labels = labels_encoded\n",
        "\n",
        "    #convert list type to array\n",
        "    labels_encoded = np.array(labels)\n",
        "    \n",
        "    if return_categories:\n",
        "        return labels_encoded, labels_dict\n",
        "    else:\n",
        "        return labels_encoded\n",
        "        "
      ]
    },
    {
      "cell_type": "code",
      "source": [
        "labels_encoded, labels_dict = label_encoder(#define labels list and method\n",
        "                                            labels_list = labels,\n",
        "                                            #define method binary, ordinal or onehot\n",
        "                                            method = 'ordinal', return_categories = True\n",
        "                                            )\n"
      ],
      "metadata": {
        "id": "VYsK1ZRQkk-S"
      },
      "execution_count": null,
      "outputs": []
    },
    {
      "cell_type": "code",
      "source": [
        "labels_encoded"
      ],
      "metadata": {
        "colab": {
          "base_uri": "https://localhost:8080/"
        },
        "id": "nxWfT2f9k3Yl",
        "outputId": "97015b89-febe-42aa-e6a5-2a1d26e0e53f"
      },
      "execution_count": null,
      "outputs": [
        {
          "output_type": "execute_result",
          "data": {
            "text/plain": [
              "array([325,  69, 461, ...,   1,  20, 767])"
            ]
          },
          "metadata": {},
          "execution_count": 16
        }
      ]
    },
    {
      "cell_type": "code",
      "source": [
        "labels_encoded.shape"
      ],
      "metadata": {
        "colab": {
          "base_uri": "https://localhost:8080/"
        },
        "id": "kRHnC1EAk5ke",
        "outputId": "be425f57-31c8-45bd-fc62-8e3f98b9786c"
      },
      "execution_count": null,
      "outputs": [
        {
          "output_type": "execute_result",
          "data": {
            "text/plain": [
              "(363853,)"
            ]
          },
          "metadata": {},
          "execution_count": 17
        }
      ]
    },
    {
      "cell_type": "code",
      "source": [
        "#define pre-trained words dictionary loader\n",
        "def word_dict_loader(#define file path and file type\n",
        "                     file_path, file_type,\n",
        "                     #define txt and csv file type args\n",
        "                     word_index = None, vector_index = None, header = True, spliter_delimiter = None,\n",
        "                     use_word_spliter = False, word_spliter = None, word_split_index = None,\n",
        "                     #define json file type args\n",
        "                     word_key = None, vector_key = None,\n",
        "                     ):\n",
        "    \n",
        "    word_dict = dict()\n",
        "\n",
        "    #define txt vec loader\n",
        "    if file_type in ['txt', 'vec']:\n",
        "        with open(file_path, 'r') as word_dict_file:\n",
        "            if header:\n",
        "                next(word_dict_file)\n",
        "            for row in word_dict_file:\n",
        "                row = row.split(spliter_delimiter)\n",
        "                if use_word_spliter:\n",
        "                    word = row[word_index].split(word_spliter)[word_split_index]\n",
        "                else:\n",
        "                    word = row[word_index]\n",
        "                vectors = np.array(row[vector_index:], dtype = 'float32')\n",
        "                word_dict[word] = vectors\n",
        "\n",
        "    #define csv loader\n",
        "    elif file_type in ['csv']:\n",
        "        with open(file_path, 'r') as word_dict_file:\n",
        "            word_dict_file = csv.reader(word_dict_file, delimiter = spliter_delimiter)\n",
        "            if header:\n",
        "                next(word_dict_file)\n",
        "            for row in word_dict_file:\n",
        "                if use_word_spliter:\n",
        "                    word = row[word_index].split(word_spliter)[word_split_index]\n",
        "                else:\n",
        "                    word = row[word_index]\n",
        "                vectors = np.array(row[vector_index:], dtype = 'float32')\n",
        "                word_dict[word] = vectors\n",
        "                \n",
        "    #define json loader\n",
        "    elif file_type in ['json']:\n",
        "        with open(file_path, 'r') as word_dict_file:\n",
        "            word_dict_file = json.load(word_dict_file)\n",
        "            for item in word_dict_file:\n",
        "                word = item[word_key]\n",
        "                vectors = np.array(item[vector_key], dtype = 'float32')\n",
        "                word_dict[word] = vectors\n",
        "\n",
        "    #word dict params\n",
        "    word_dict_size = len(word_dict)\n",
        "    word_dict_dim = list(word_dict.values())[0].shape[0]\n",
        "\n",
        "    return word_dict, word_dict_size, word_dict_dim\n"
      ],
      "metadata": {
        "id": "brRWvKPSp4QN"
      },
      "execution_count": null,
      "outputs": []
    },
    {
      "cell_type": "code",
      "source": [
        "#define pre-trained embedding word vectors\n",
        "def embd_weights_loader(#define word dictionary and word index\n",
        "                        word_dict, word_index, dimension\n",
        "                        ):\n",
        "    \n",
        "    #create embedding weights\n",
        "    embed_weights = np.zeros([len(word_index)+1, dimension])\n",
        "\n",
        "    for word, index in word_index.items():\n",
        "        if word in word_dict:\n",
        "            embed_weights[index] = word_dict[word]\n",
        "\n",
        "    #embedding layer params\n",
        "    vocab_size = embed_weights.shape[0]\n",
        "    embed_dim = embed_weights.shape[1]\n",
        "\n",
        "    return embed_weights, vocab_size, embed_dim\n"
      ],
      "metadata": {
        "id": "fFr4DSbYpYjK"
      },
      "execution_count": null,
      "outputs": []
    },
    {
      "cell_type": "code",
      "execution_count": null,
      "metadata": {
        "id": "dlRqac9W2DWL"
      },
      "outputs": [],
      "source": [
        "#define model\n",
        "def create_model(#define input shape\n",
        "                 input_shape = None,\n",
        "                 #define embedding layer parameters\n",
        "                 use_pretraind_embd = False, vocab_size = None, embd_dim = None,\n",
        "                 sequence_len = None, embed_weights = None,\n",
        "                 #define type of layer and parameters\n",
        "                 use_lstm = False, use_gru = False, use_conv = False,\n",
        "                 #define lstm layers parameters\n",
        "                 lstm_layers_num = None, lstm_layers_units = None,\n",
        "                 #define gru layers parameters\n",
        "                 gru_layers_num = None, gru_layers_units = None,\n",
        "                 #define convolution layers parameters\n",
        "                 conv_layers_num = None, conv_layers_filters = None, conv_layers_kernel = None,\n",
        "                 #define convolution layers sub layers\n",
        "                 use_max_pool = False, max_pool_size = None,\n",
        "                 #define dense layer feeder\n",
        "                 use_global_max_pool = False, use_global_avg_pool = False, use_flatten = False,\n",
        "                 use_feeder_dropout = False, feeder_dropout_ratio = None,\n",
        "                 #define dense head layers\n",
        "                 use_dense_layer = False, dense_layers_num = None, dense_layers_units = None,\n",
        "                 #define dense layers dropout parameters\n",
        "                 use_dense_dropout = False, dense_dropout_ratio = None,\n",
        "                 #define output layer parameters\n",
        "                 output_layer_unit = None, output_layer_activation = None,\n",
        "                 #define model compiler parameters\n",
        "                 optimizer = None, loss = None, metrics = None\n",
        "                 ):\n",
        "    \n",
        "    #define input layer\n",
        "    input = keras.Input(shape = input_shape)\n",
        "\n",
        "    #define embedding layer and parameters\n",
        "    if use_pretraind_embd:\n",
        "        out = keras.layers.Embedding(input_dim = vocab_size, output_dim = embd_dim, input_length = sequence_len,\n",
        "                                     weights = [embed_weights], trainable = False)(input)\n",
        "    else:\n",
        "        out = keras.layers.Embedding(input_dim = vocab_size, output_dim = embd_dim, input_length = sequence_len)(input)\n",
        "\n",
        "    #define type of layer and parameters\n",
        "    #lstm type layers\n",
        "    if use_lstm:\n",
        "        sequence_return = (lstm_layers_num - 1)*[True]\n",
        "        sequence_return.append(False)\n",
        "        for layer_num in range(lstm_layers_num):\n",
        "            out = keras.layers.Bidirectional(keras.layers.LSTM(lstm_layers_units[layer_num],\n",
        "                                                               return_sequences = sequence_return[layer_num]))(out)\n",
        "\n",
        "    #gru type layers\n",
        "    elif use_gru:\n",
        "        sequence_return = (gru_layers_num - 1)*[True]\n",
        "        sequence_return.append(False)\n",
        "        for layer_num in range(gru_layers_num):\n",
        "            out = keras.layers.Bidirectional(keras.layers.GRU(gru_layers_units[layer_num],\n",
        "                                                              return_sequences = sequence_return[layer_num]))(out)\n",
        "    \n",
        "    #convolution type layer\n",
        "    elif use_conv:\n",
        "        for layer_num in range(conv_layers_num):\n",
        "            out = keras.layers.Conv1D(filters = conv_layers_filters[layer_num], kernel_size = conv_layers_kernel[layer_num],\n",
        "                                      activation = 'relu')(out)\n",
        "            if use_max_pool[layer_num]:\n",
        "                out = keras.layers.MaxPool1D(max_pool_size[layer_num])(out)\n",
        "\n",
        "\n",
        "    #dense layers feeder layer\n",
        "    #global max pool type layer\n",
        "    if use_global_max_pool:\n",
        "        out = keras.layers.GlobalMaxPooling1D()(out)\n",
        "        \n",
        "    #global average pool type layer\n",
        "    elif use_global_avg_pool:\n",
        "        out = keras.layers.GlobalAveragePooling1D()(out)\n",
        "\n",
        "    #flatten type layer\n",
        "    elif use_flatten:\n",
        "        out = keras.layers.Flatten()(out)\n",
        "\n",
        "    #define feeder dropout layer\n",
        "    if use_feeder_dropout:\n",
        "        out = keras.layers.Dropout(feeder_dropout_ratio)(out)\n",
        "\n",
        "\n",
        "    #define dense head layers\n",
        "    if use_dense_layer:\n",
        "        for layer_num in range(dense_layers_num):\n",
        "            out = keras.layers.Dense(dense_layers_units[layer_num], activation = 'relu')(out)\n",
        "            if use_dense_dropout[layer_num]:\n",
        "                out = keras.layers.Dropout(dense_dropout_ratio[layer_num])(out)\n",
        "    \n",
        "    #define output layer\n",
        "    output = keras.layers.Dense(output_layer_unit, activation = output_layer_activation)(out)\n",
        "\n",
        "    #define model\n",
        "    model = keras.models.Model(inputs = input, outputs = output)\n",
        "\n",
        "\n",
        "    #compile model\n",
        "    model.compile(optimizer = optimizer,\n",
        "                  loss = loss,\n",
        "                  metrics = metrics)\n",
        "    \n",
        "    return model\n",
        "    "
      ]
    },
    {
      "cell_type": "code",
      "source": [
        "model = create_model(#define input shape\n",
        "                     input_shape = maxlen - 1,\n",
        "                     #define embedding layer parameters\n",
        "                     use_pretraind_embd = False, vocab_size = len(word_index) + 1 , embd_dim = 128,\n",
        "                     sequence_len = maxlen - 1, embed_weights = None,\n",
        "                     #define type of layer and parameters\n",
        "                     use_lstm = True, use_gru = False, use_conv = False,\n",
        "                     #define lstm layers parameters\n",
        "                     lstm_layers_num = 2, lstm_layers_units = [64, 128],\n",
        "                     #define gru layers parameters\n",
        "                     gru_layers_num = None, gru_layers_units = None,\n",
        "                     #define convolution layers parameters\n",
        "                     conv_layers_num = None, conv_layers_filters = None, conv_layers_kernel = None,\n",
        "                     #define convolution layers sub layers\n",
        "                     use_max_pool = False, max_pool_size = None,\n",
        "                     #define dense layer feeder\n",
        "                     use_global_max_pool = False, use_global_avg_pool = False, use_flatten = False,\n",
        "                     use_feeder_dropout = True, feeder_dropout_ratio = 0.2,\n",
        "                     #define dense head layers\n",
        "                     dense_layers_num = None, dense_layers_units = None,\n",
        "                     #define dense layers dropout parameters\n",
        "                     use_dense_dropout = False, dense_dropout_ratio = None,\n",
        "                     #define output layer parameters\n",
        "                     output_layer_unit = len(labels_dict), output_layer_activation = 'softmax',\n",
        "                     #define model compiler parameters\n",
        "                     optimizer = 'adam', loss = 'sparse_categorical_crossentropy', metrics = 'accuracy'\n",
        "                     )"
      ],
      "metadata": {
        "id": "7cApqHwGmYYq"
      },
      "execution_count": null,
      "outputs": []
    },
    {
      "cell_type": "code",
      "source": [
        "#model summary\n",
        "model.summary(120)\n"
      ],
      "metadata": {
        "colab": {
          "base_uri": "https://localhost:8080/"
        },
        "id": "EoM66pE6oxL0",
        "outputId": "ebaeeb26-fcc0-4772-9616-5993324dbd37"
      },
      "execution_count": null,
      "outputs": [
        {
          "output_type": "stream",
          "name": "stdout",
          "text": [
            "Model: \"model_1\"\n",
            "________________________________________________________________________________________________________________________\n",
            " Layer (type)                                         Output Shape                                    Param #           \n",
            "========================================================================================================================\n",
            " input_2 (InputLayer)                                 [(None, 20)]                                    0                 \n",
            "                                                                                                                        \n",
            " embedding_1 (Embedding)                              (None, 20, 128)                                 1527040           \n",
            "                                                                                                                        \n",
            " bidirectional_2 (Bidirectional)                      (None, 20, 128)                                 98816             \n",
            "                                                                                                                        \n",
            " bidirectional_3 (Bidirectional)                      (None, 256)                                     263168            \n",
            "                                                                                                                        \n",
            " dropout_1 (Dropout)                                  (None, 256)                                     0                 \n",
            "                                                                                                                        \n",
            " dense_1 (Dense)                                      (None, 11404)                                   2930828           \n",
            "                                                                                                                        \n",
            "========================================================================================================================\n",
            "Total params: 4,819,852\n",
            "Trainable params: 4,819,852\n",
            "Non-trainable params: 0\n",
            "________________________________________________________________________________________________________________________\n"
          ]
        }
      ]
    },
    {
      "cell_type": "code",
      "source": [
        "#fit model\n",
        "model.fit(texts, labels_encoded, epochs = 200, steps_per_epoch = 2048)\n"
      ],
      "metadata": {
        "colab": {
          "base_uri": "https://localhost:8080/"
        },
        "id": "cQcBis-no21v",
        "outputId": "365cda8b-b355-4578-abc4-1c87fc5772ae"
      },
      "execution_count": null,
      "outputs": [
        {
          "output_type": "stream",
          "name": "stdout",
          "text": [
            "Epoch 1/200\n",
            "2048/2048 [==============================] - 42s 18ms/step - loss: 6.1214 - accuracy: 0.0916\n",
            "Epoch 2/200\n",
            "2048/2048 [==============================] - 38s 19ms/step - loss: 5.5767 - accuracy: 0.1323\n",
            "Epoch 3/200\n",
            "2048/2048 [==============================] - 37s 18ms/step - loss: 5.3131 - accuracy: 0.1484\n",
            "Epoch 4/200\n",
            "2048/2048 [==============================] - 35s 17ms/step - loss: 5.1280 - accuracy: 0.1602\n",
            "Epoch 5/200\n",
            "2048/2048 [==============================] - 33s 16ms/step - loss: 4.9897 - accuracy: 0.1691\n",
            "Epoch 6/200\n",
            "2048/2048 [==============================] - 34s 16ms/step - loss: 4.8735 - accuracy: 0.1756\n",
            "Epoch 7/200\n",
            "2048/2048 [==============================] - 34s 17ms/step - loss: 4.7723 - accuracy: 0.1813\n",
            "Epoch 8/200\n",
            "2048/2048 [==============================] - 35s 17ms/step - loss: 4.6810 - accuracy: 0.1872\n",
            "Epoch 9/200\n",
            "2048/2048 [==============================] - 35s 17ms/step - loss: 4.5953 - accuracy: 0.1919\n",
            "Epoch 10/200\n",
            "2048/2048 [==============================] - 34s 17ms/step - loss: 4.5102 - accuracy: 0.1975\n",
            "Epoch 11/200\n",
            "2048/2048 [==============================] - 33s 16ms/step - loss: 4.4306 - accuracy: 0.2027\n",
            "Epoch 12/200\n",
            "2048/2048 [==============================] - 33s 16ms/step - loss: 4.3506 - accuracy: 0.2071\n",
            "Epoch 13/200\n",
            "2048/2048 [==============================] - 33s 16ms/step - loss: 4.2733 - accuracy: 0.2133\n",
            "Epoch 14/200\n",
            "2048/2048 [==============================] - 33s 16ms/step - loss: 4.1971 - accuracy: 0.2186\n",
            "Epoch 15/200\n",
            "2048/2048 [==============================] - 33s 16ms/step - loss: 4.1209 - accuracy: 0.2238\n",
            "Epoch 16/200\n",
            "2048/2048 [==============================] - 33s 16ms/step - loss: 4.0491 - accuracy: 0.2300\n",
            "Epoch 17/200\n",
            "2048/2048 [==============================] - 33s 16ms/step - loss: 3.9764 - accuracy: 0.2357\n",
            "Epoch 18/200\n",
            "2048/2048 [==============================] - 33s 16ms/step - loss: 3.9089 - accuracy: 0.2422\n",
            "Epoch 19/200\n",
            "2048/2048 [==============================] - 33s 16ms/step - loss: 3.8425 - accuracy: 0.2480\n",
            "Epoch 20/200\n",
            "2048/2048 [==============================] - 34s 17ms/step - loss: 3.7795 - accuracy: 0.2547\n",
            "Epoch 21/200\n",
            "2048/2048 [==============================] - 34s 16ms/step - loss: 3.7181 - accuracy: 0.2621\n",
            "Epoch 22/200\n",
            "2048/2048 [==============================] - 34s 17ms/step - loss: 3.6564 - accuracy: 0.2683\n",
            "Epoch 23/200\n",
            "2048/2048 [==============================] - 33s 16ms/step - loss: 3.6008 - accuracy: 0.2733\n",
            "Epoch 24/200\n",
            "2048/2048 [==============================] - 33s 16ms/step - loss: 3.5462 - accuracy: 0.2803\n",
            "Epoch 25/200\n",
            "2048/2048 [==============================] - 33s 16ms/step - loss: 3.4949 - accuracy: 0.2867\n",
            "Epoch 26/200\n",
            "2048/2048 [==============================] - 34s 17ms/step - loss: 3.4413 - accuracy: 0.2945\n",
            "Epoch 27/200\n",
            "2048/2048 [==============================] - 34s 17ms/step - loss: 3.3942 - accuracy: 0.3006\n",
            "Epoch 28/200\n",
            "2048/2048 [==============================] - 33s 16ms/step - loss: 3.3489 - accuracy: 0.3056\n",
            "Epoch 29/200\n",
            "2048/2048 [==============================] - 38s 19ms/step - loss: 3.3048 - accuracy: 0.3110\n",
            "Epoch 30/200\n",
            "2048/2048 [==============================] - 33s 16ms/step - loss: 3.2602 - accuracy: 0.3177\n",
            "Epoch 31/200\n",
            "2048/2048 [==============================] - 34s 17ms/step - loss: 3.2182 - accuracy: 0.3240\n",
            "Epoch 32/200\n",
            "2048/2048 [==============================] - 38s 18ms/step - loss: 3.1811 - accuracy: 0.3289\n",
            "Epoch 33/200\n",
            "2048/2048 [==============================] - 35s 17ms/step - loss: 3.1406 - accuracy: 0.3349\n",
            "Epoch 34/200\n",
            "2048/2048 [==============================] - 33s 16ms/step - loss: 3.1088 - accuracy: 0.3387\n",
            "Epoch 35/200\n",
            "2048/2048 [==============================] - 33s 16ms/step - loss: 3.0691 - accuracy: 0.3450\n",
            "Epoch 36/200\n",
            "2048/2048 [==============================] - 33s 16ms/step - loss: 3.0389 - accuracy: 0.3493\n",
            "Epoch 37/200\n",
            "2048/2048 [==============================] - 33s 16ms/step - loss: 3.0065 - accuracy: 0.3536\n",
            "Epoch 38/200\n",
            "2048/2048 [==============================] - 33s 16ms/step - loss: 2.9759 - accuracy: 0.3585\n",
            "Epoch 39/200\n",
            "2048/2048 [==============================] - 33s 16ms/step - loss: 2.9464 - accuracy: 0.3639\n",
            "Epoch 40/200\n",
            "2048/2048 [==============================] - 34s 16ms/step - loss: 2.9189 - accuracy: 0.3676\n",
            "Epoch 41/200\n",
            "2048/2048 [==============================] - 33s 16ms/step - loss: 2.8884 - accuracy: 0.3725\n",
            "Epoch 42/200\n",
            "2048/2048 [==============================] - 33s 16ms/step - loss: 2.8680 - accuracy: 0.3751\n",
            "Epoch 43/200\n",
            "2048/2048 [==============================] - 33s 16ms/step - loss: 2.8359 - accuracy: 0.3800\n",
            "Epoch 44/200\n",
            "2048/2048 [==============================] - 33s 16ms/step - loss: 2.8115 - accuracy: 0.3840\n",
            "Epoch 45/200\n",
            "2048/2048 [==============================] - 33s 16ms/step - loss: 2.7868 - accuracy: 0.3879\n",
            "Epoch 46/200\n",
            "2048/2048 [==============================] - 33s 16ms/step - loss: 2.7624 - accuracy: 0.3915\n",
            "Epoch 47/200\n",
            "2048/2048 [==============================] - 33s 16ms/step - loss: 2.7446 - accuracy: 0.3950\n",
            "Epoch 48/200\n",
            "2048/2048 [==============================] - 33s 16ms/step - loss: 2.7189 - accuracy: 0.3992\n",
            "Epoch 49/200\n",
            "2048/2048 [==============================] - 33s 16ms/step - loss: 2.7063 - accuracy: 0.4000\n",
            "Epoch 50/200\n",
            "2048/2048 [==============================] - 33s 16ms/step - loss: 2.6776 - accuracy: 0.4053\n",
            "Epoch 51/200\n",
            "2048/2048 [==============================] - 33s 16ms/step - loss: 2.6588 - accuracy: 0.4084\n",
            "Epoch 52/200\n",
            "2048/2048 [==============================] - 33s 16ms/step - loss: 2.6419 - accuracy: 0.4111\n",
            "Epoch 53/200\n",
            "2048/2048 [==============================] - 33s 16ms/step - loss: 2.6178 - accuracy: 0.4155\n",
            "Epoch 54/200\n",
            "2048/2048 [==============================] - 34s 16ms/step - loss: 2.6059 - accuracy: 0.4184\n",
            "Epoch 55/200\n",
            "2048/2048 [==============================] - 33s 16ms/step - loss: 2.5930 - accuracy: 0.4196\n",
            "Epoch 56/200\n",
            "2048/2048 [==============================] - 33s 16ms/step - loss: 2.5681 - accuracy: 0.4231\n",
            "Epoch 57/200\n",
            "2048/2048 [==============================] - 33s 16ms/step - loss: 2.5563 - accuracy: 0.4268\n",
            "Epoch 58/200\n",
            "2048/2048 [==============================] - 33s 16ms/step - loss: 2.5367 - accuracy: 0.4296\n",
            "Epoch 59/200\n",
            "2048/2048 [==============================] - 33s 16ms/step - loss: 2.5266 - accuracy: 0.4311\n",
            "Epoch 60/200\n",
            "2048/2048 [==============================] - 34s 17ms/step - loss: 2.5068 - accuracy: 0.4355\n",
            "Epoch 61/200\n",
            "2048/2048 [==============================] - 33s 16ms/step - loss: 2.4991 - accuracy: 0.4362\n",
            "Epoch 62/200\n",
            "2048/2048 [==============================] - 33s 16ms/step - loss: 2.4813 - accuracy: 0.4384\n",
            "Epoch 63/200\n",
            "2048/2048 [==============================] - 33s 16ms/step - loss: 2.4702 - accuracy: 0.4407\n",
            "Epoch 64/200\n",
            "2048/2048 [==============================] - 33s 16ms/step - loss: 2.4555 - accuracy: 0.4433\n",
            "Epoch 65/200\n",
            "2048/2048 [==============================] - 33s 16ms/step - loss: 2.4437 - accuracy: 0.4448\n",
            "Epoch 66/200\n",
            "2048/2048 [==============================] - 33s 16ms/step - loss: 2.4291 - accuracy: 0.4474\n",
            "Epoch 67/200\n",
            "2048/2048 [==============================] - 33s 16ms/step - loss: 2.4180 - accuracy: 0.4491\n",
            "Epoch 68/200\n",
            "2048/2048 [==============================] - 33s 16ms/step - loss: 2.4075 - accuracy: 0.4518\n",
            "Epoch 69/200\n",
            "2048/2048 [==============================] - 33s 16ms/step - loss: 2.3934 - accuracy: 0.4533\n",
            "Epoch 70/200\n",
            "2048/2048 [==============================] - 33s 16ms/step - loss: 2.3852 - accuracy: 0.4555\n",
            "Epoch 71/200\n",
            "2048/2048 [==============================] - 33s 16ms/step - loss: 2.3739 - accuracy: 0.4575\n",
            "Epoch 72/200\n",
            "2048/2048 [==============================] - 33s 16ms/step - loss: 2.3620 - accuracy: 0.4592\n",
            "Epoch 73/200\n",
            "2048/2048 [==============================] - 33s 16ms/step - loss: 2.3479 - accuracy: 0.4613\n",
            "Epoch 74/200\n",
            "2048/2048 [==============================] - 34s 16ms/step - loss: 2.3425 - accuracy: 0.4626\n",
            "Epoch 75/200\n",
            "2048/2048 [==============================] - 31s 15ms/step - loss: 2.3299 - accuracy: 0.4650\n",
            "Epoch 76/200\n",
            "2048/2048 [==============================] - 31s 15ms/step - loss: 2.3229 - accuracy: 0.4659\n",
            "Epoch 77/200\n",
            "2048/2048 [==============================] - 31s 15ms/step - loss: 2.3154 - accuracy: 0.4682\n",
            "Epoch 78/200\n",
            "2048/2048 [==============================] - 31s 15ms/step - loss: 2.3037 - accuracy: 0.4693\n",
            "Epoch 79/200\n",
            "2048/2048 [==============================] - 31s 15ms/step - loss: 2.2962 - accuracy: 0.4708\n",
            "Epoch 80/200\n",
            "2048/2048 [==============================] - 31s 15ms/step - loss: 2.2886 - accuracy: 0.4727\n",
            "Epoch 81/200\n",
            "2048/2048 [==============================] - 32s 15ms/step - loss: 2.2767 - accuracy: 0.4745\n",
            "Epoch 82/200\n",
            "2048/2048 [==============================] - 32s 16ms/step - loss: 2.2696 - accuracy: 0.4753\n",
            "Epoch 83/200\n",
            "2048/2048 [==============================] - 32s 16ms/step - loss: 2.2622 - accuracy: 0.4763\n",
            "Epoch 84/200\n",
            "2048/2048 [==============================] - 32s 16ms/step - loss: 2.2547 - accuracy: 0.4784\n",
            "Epoch 85/200\n",
            "2048/2048 [==============================] - 32s 16ms/step - loss: 2.2488 - accuracy: 0.4781\n",
            "Epoch 86/200\n",
            "2048/2048 [==============================] - 32s 16ms/step - loss: 2.2427 - accuracy: 0.4805\n",
            "Epoch 87/200\n",
            "2048/2048 [==============================] - 32s 16ms/step - loss: 2.2311 - accuracy: 0.4828\n",
            "Epoch 88/200\n",
            "2048/2048 [==============================] - 32s 16ms/step - loss: 2.2217 - accuracy: 0.4837\n",
            "Epoch 89/200\n",
            "2048/2048 [==============================] - 32s 16ms/step - loss: 2.2213 - accuracy: 0.4840\n",
            "Epoch 90/200\n",
            "2048/2048 [==============================] - 32s 16ms/step - loss: 2.2129 - accuracy: 0.4852\n",
            "Epoch 91/200\n",
            "2048/2048 [==============================] - 31s 15ms/step - loss: 2.2065 - accuracy: 0.4860\n",
            "Epoch 92/200\n",
            "2048/2048 [==============================] - 31s 15ms/step - loss: 2.2011 - accuracy: 0.4874\n",
            "Epoch 93/200\n",
            "2048/2048 [==============================] - 31s 15ms/step - loss: 2.1929 - accuracy: 0.4898\n",
            "Epoch 94/200\n",
            "2048/2048 [==============================] - 31s 15ms/step - loss: 2.1894 - accuracy: 0.4901\n",
            "Epoch 95/200\n",
            "2048/2048 [==============================] - 30s 15ms/step - loss: 2.1784 - accuracy: 0.4911\n",
            "Epoch 96/200\n",
            "2048/2048 [==============================] - 31s 15ms/step - loss: 2.1751 - accuracy: 0.4913\n",
            "Epoch 97/200\n",
            "2048/2048 [==============================] - 31s 15ms/step - loss: 2.1688 - accuracy: 0.4924\n",
            "Epoch 98/200\n",
            "2048/2048 [==============================] - 30s 15ms/step - loss: 2.1589 - accuracy: 0.4956\n",
            "Epoch 99/200\n",
            "2048/2048 [==============================] - 31s 15ms/step - loss: 2.1604 - accuracy: 0.4947\n",
            "Epoch 100/200\n",
            "2048/2048 [==============================] - 31s 15ms/step - loss: 2.1553 - accuracy: 0.4960\n",
            "Epoch 101/200\n",
            "2048/2048 [==============================] - 30s 15ms/step - loss: 2.1433 - accuracy: 0.4980\n",
            "Epoch 102/200\n",
            "2048/2048 [==============================] - 31s 15ms/step - loss: 2.1404 - accuracy: 0.4984\n",
            "Epoch 103/200\n",
            "2048/2048 [==============================] - 31s 15ms/step - loss: 2.1392 - accuracy: 0.4987\n",
            "Epoch 104/200\n",
            "2048/2048 [==============================] - 31s 15ms/step - loss: 2.1344 - accuracy: 0.4992\n",
            "Epoch 105/200\n",
            "2048/2048 [==============================] - 30s 15ms/step - loss: 2.1225 - accuracy: 0.5023\n",
            "Epoch 106/200\n",
            "2048/2048 [==============================] - 31s 15ms/step - loss: 2.1219 - accuracy: 0.5023\n",
            "Epoch 107/200\n",
            "2048/2048 [==============================] - 30s 15ms/step - loss: 2.1192 - accuracy: 0.5025\n",
            "Epoch 108/200\n",
            "2048/2048 [==============================] - 31s 15ms/step - loss: 2.1192 - accuracy: 0.5031\n",
            "Epoch 109/200\n",
            "2048/2048 [==============================] - 30s 15ms/step - loss: 2.1055 - accuracy: 0.5044\n",
            "Epoch 110/200\n",
            "2048/2048 [==============================] - 31s 15ms/step - loss: 2.1036 - accuracy: 0.5043\n",
            "Epoch 111/200\n",
            "2048/2048 [==============================] - 31s 15ms/step - loss: 2.0999 - accuracy: 0.5061\n",
            "Epoch 112/200\n",
            "2048/2048 [==============================] - 31s 15ms/step - loss: 2.0965 - accuracy: 0.5070\n",
            "Epoch 113/200\n",
            "2048/2048 [==============================] - 30s 15ms/step - loss: 2.1003 - accuracy: 0.5055\n",
            "Epoch 114/200\n",
            "2048/2048 [==============================] - 30s 15ms/step - loss: 2.0814 - accuracy: 0.5096\n",
            "Epoch 115/200\n",
            "2048/2048 [==============================] - 30s 15ms/step - loss: 2.0870 - accuracy: 0.5081\n",
            "Epoch 116/200\n",
            "2048/2048 [==============================] - 31s 15ms/step - loss: 2.0814 - accuracy: 0.5086\n",
            "Epoch 117/200\n",
            "2048/2048 [==============================] - 34s 17ms/step - loss: 2.0742 - accuracy: 0.5107\n",
            "Epoch 118/200\n",
            "2048/2048 [==============================] - 34s 17ms/step - loss: 2.0674 - accuracy: 0.5120\n",
            "Epoch 119/200\n",
            "2048/2048 [==============================] - 34s 17ms/step - loss: 2.0666 - accuracy: 0.5112\n",
            "Epoch 120/200\n",
            "2048/2048 [==============================] - 35s 17ms/step - loss: 2.0668 - accuracy: 0.5113\n",
            "Epoch 121/200\n",
            "2048/2048 [==============================] - 35s 17ms/step - loss: 2.0577 - accuracy: 0.5133\n",
            "Epoch 122/200\n",
            "2048/2048 [==============================] - 35s 17ms/step - loss: 2.0665 - accuracy: 0.5119\n",
            "Epoch 123/200\n",
            "2048/2048 [==============================] - 34s 17ms/step - loss: 2.0573 - accuracy: 0.5131\n",
            "Epoch 124/200\n",
            "2048/2048 [==============================] - 34s 17ms/step - loss: 2.0494 - accuracy: 0.5152\n",
            "Epoch 125/200\n",
            "2048/2048 [==============================] - 32s 16ms/step - loss: 2.0418 - accuracy: 0.5171\n",
            "Epoch 126/200\n",
            "2048/2048 [==============================] - 31s 15ms/step - loss: 2.0420 - accuracy: 0.5169\n",
            "Epoch 127/200\n",
            "2048/2048 [==============================] - 31s 15ms/step - loss: 2.0380 - accuracy: 0.5164\n",
            "Epoch 128/200\n",
            "2048/2048 [==============================] - 31s 15ms/step - loss: 2.0379 - accuracy: 0.5173\n",
            "Epoch 129/200\n",
            "2048/2048 [==============================] - 31s 15ms/step - loss: 2.0326 - accuracy: 0.5181\n",
            "Epoch 130/200\n",
            "2048/2048 [==============================] - 31s 15ms/step - loss: 2.0276 - accuracy: 0.5183\n",
            "Epoch 131/200\n",
            "2048/2048 [==============================] - 31s 15ms/step - loss: 2.0284 - accuracy: 0.5185\n",
            "Epoch 132/200\n",
            "2048/2048 [==============================] - 31s 15ms/step - loss: 2.0204 - accuracy: 0.5197\n",
            "Epoch 133/200\n",
            "2048/2048 [==============================] - 31s 15ms/step - loss: 2.0143 - accuracy: 0.5211\n",
            "Epoch 134/200\n",
            "2048/2048 [==============================] - 31s 15ms/step - loss: 2.0201 - accuracy: 0.5203\n",
            "Epoch 135/200\n",
            "2048/2048 [==============================] - 31s 15ms/step - loss: 2.0076 - accuracy: 0.5221\n",
            "Epoch 136/200\n",
            "2048/2048 [==============================] - 31s 15ms/step - loss: 2.0143 - accuracy: 0.5219\n",
            "Epoch 137/200\n",
            "2048/2048 [==============================] - 31s 15ms/step - loss: 2.0072 - accuracy: 0.5231\n",
            "Epoch 138/200\n",
            "2048/2048 [==============================] - 31s 15ms/step - loss: 2.0024 - accuracy: 0.5230\n",
            "Epoch 139/200\n",
            "2048/2048 [==============================] - 31s 15ms/step - loss: 2.0075 - accuracy: 0.5229\n",
            "Epoch 140/200\n",
            "2048/2048 [==============================] - 31s 15ms/step - loss: 2.0031 - accuracy: 0.5223\n",
            "Epoch 141/200\n",
            "2048/2048 [==============================] - 31s 15ms/step - loss: 1.9937 - accuracy: 0.5261\n",
            "Epoch 142/200\n",
            "2048/2048 [==============================] - 34s 17ms/step - loss: 2.0014 - accuracy: 0.5223\n",
            "Epoch 143/200\n",
            "2048/2048 [==============================] - 36s 18ms/step - loss: 1.9899 - accuracy: 0.5255\n",
            "Epoch 144/200\n",
            "2048/2048 [==============================] - 36s 18ms/step - loss: 1.9985 - accuracy: 0.5247\n",
            "Epoch 145/200\n",
            "2048/2048 [==============================] - 35s 17ms/step - loss: 1.9826 - accuracy: 0.5270\n",
            "Epoch 146/200\n",
            "2048/2048 [==============================] - 34s 17ms/step - loss: 1.9797 - accuracy: 0.5279\n",
            "Epoch 147/200\n",
            "2048/2048 [==============================] - 35s 17ms/step - loss: 1.9838 - accuracy: 0.5277\n",
            "Epoch 148/200\n",
            "2048/2048 [==============================] - 35s 17ms/step - loss: 1.9738 - accuracy: 0.5292\n",
            "Epoch 149/200\n",
            "2048/2048 [==============================] - 35s 17ms/step - loss: 1.9754 - accuracy: 0.5285\n",
            "Epoch 150/200\n",
            "2048/2048 [==============================] - 36s 18ms/step - loss: 1.9790 - accuracy: 0.5273\n",
            "Epoch 151/200\n",
            "2048/2048 [==============================] - 35s 17ms/step - loss: 1.9641 - accuracy: 0.5304\n",
            "Epoch 152/200\n",
            "2048/2048 [==============================] - 34s 17ms/step - loss: 1.9674 - accuracy: 0.5298\n",
            "Epoch 153/200\n",
            "2048/2048 [==============================] - 34s 17ms/step - loss: 1.9702 - accuracy: 0.5296\n",
            "Epoch 154/200\n",
            "2048/2048 [==============================] - 35s 17ms/step - loss: 1.9663 - accuracy: 0.5306\n",
            "Epoch 155/200\n",
            "2048/2048 [==============================] - 35s 17ms/step - loss: 1.9662 - accuracy: 0.5306\n",
            "Epoch 156/200\n",
            "2048/2048 [==============================] - 35s 17ms/step - loss: 1.9587 - accuracy: 0.5318\n",
            "Epoch 157/200\n",
            "2048/2048 [==============================] - 34s 17ms/step - loss: 1.9587 - accuracy: 0.5318\n",
            "Epoch 158/200\n",
            "2048/2048 [==============================] - 34s 17ms/step - loss: 1.9578 - accuracy: 0.5324\n",
            "Epoch 159/200\n",
            "2048/2048 [==============================] - 34s 17ms/step - loss: 1.9567 - accuracy: 0.5323\n",
            "Epoch 160/200\n",
            "2048/2048 [==============================] - 34s 17ms/step - loss: 1.9456 - accuracy: 0.5336\n",
            "Epoch 161/200\n",
            "2048/2048 [==============================] - 34s 17ms/step - loss: 1.9553 - accuracy: 0.5326\n",
            "Epoch 162/200\n",
            "2048/2048 [==============================] - 34s 17ms/step - loss: 1.9490 - accuracy: 0.5331\n",
            "Epoch 163/200\n",
            "2048/2048 [==============================] - 34s 17ms/step - loss: 1.9439 - accuracy: 0.5338\n",
            "Epoch 164/200\n",
            "2048/2048 [==============================] - 34s 16ms/step - loss: 1.9406 - accuracy: 0.5355\n",
            "Epoch 165/200\n",
            "2048/2048 [==============================] - 34s 16ms/step - loss: 1.9419 - accuracy: 0.5341\n",
            "Epoch 166/200\n",
            "2048/2048 [==============================] - 33s 16ms/step - loss: 1.9387 - accuracy: 0.5350\n",
            "Epoch 167/200\n",
            "2048/2048 [==============================] - 33s 16ms/step - loss: 1.9394 - accuracy: 0.5358\n",
            "Epoch 168/200\n",
            "2048/2048 [==============================] - 34s 17ms/step - loss: 1.9316 - accuracy: 0.5365\n",
            "Epoch 169/200\n",
            "2048/2048 [==============================] - 34s 16ms/step - loss: 1.9324 - accuracy: 0.5354\n",
            "Epoch 170/200\n",
            "2048/2048 [==============================] - 34s 16ms/step - loss: 1.9331 - accuracy: 0.5363\n",
            "Epoch 171/200\n",
            "2048/2048 [==============================] - 34s 16ms/step - loss: 1.9302 - accuracy: 0.5359\n",
            "Epoch 172/200\n",
            "2048/2048 [==============================] - 34s 17ms/step - loss: 1.9293 - accuracy: 0.5371\n",
            "Epoch 173/200\n",
            "2048/2048 [==============================] - 34s 16ms/step - loss: 1.9289 - accuracy: 0.5372\n",
            "Epoch 174/200\n",
            "2048/2048 [==============================] - 34s 16ms/step - loss: 1.9322 - accuracy: 0.5368\n",
            "Epoch 175/200\n",
            "2048/2048 [==============================] - 34s 17ms/step - loss: 1.9185 - accuracy: 0.5389\n",
            "Epoch 176/200\n",
            "2048/2048 [==============================] - 34s 16ms/step - loss: 1.9234 - accuracy: 0.5390\n",
            "Epoch 177/200\n",
            "2048/2048 [==============================] - 34s 16ms/step - loss: 1.9172 - accuracy: 0.5391\n",
            "Epoch 178/200\n",
            "2048/2048 [==============================] - 33s 16ms/step - loss: 1.9173 - accuracy: 0.5390\n",
            "Epoch 179/200\n",
            "2048/2048 [==============================] - 33s 16ms/step - loss: 1.9156 - accuracy: 0.5398\n",
            "Epoch 180/200\n",
            "2048/2048 [==============================] - 34s 16ms/step - loss: 1.9182 - accuracy: 0.5392\n",
            "Epoch 181/200\n",
            "2048/2048 [==============================] - 34s 17ms/step - loss: 1.9221 - accuracy: 0.5385\n",
            "Epoch 182/200\n",
            "2048/2048 [==============================] - 34s 17ms/step - loss: 1.9097 - accuracy: 0.5395\n",
            "Epoch 183/200\n",
            "2048/2048 [==============================] - 36s 18ms/step - loss: 1.9080 - accuracy: 0.5421\n",
            "Epoch 184/200\n",
            "2048/2048 [==============================] - 34s 17ms/step - loss: 1.9092 - accuracy: 0.5406\n",
            "Epoch 185/200\n",
            "2048/2048 [==============================] - 34s 17ms/step - loss: 1.9108 - accuracy: 0.5403\n",
            "Epoch 186/200\n",
            "2048/2048 [==============================] - 34s 17ms/step - loss: 1.9075 - accuracy: 0.5422\n",
            "Epoch 187/200\n",
            "2048/2048 [==============================] - 35s 17ms/step - loss: 1.9062 - accuracy: 0.5403\n",
            "Epoch 188/200\n",
            "2048/2048 [==============================] - 34s 17ms/step - loss: 1.9028 - accuracy: 0.5425\n",
            "Epoch 189/200\n",
            "2048/2048 [==============================] - 34s 17ms/step - loss: 1.9045 - accuracy: 0.5421\n",
            "Epoch 190/200\n",
            "2048/2048 [==============================] - 34s 17ms/step - loss: 1.9026 - accuracy: 0.5422\n",
            "Epoch 191/200\n",
            "2048/2048 [==============================] - 34s 17ms/step - loss: 1.9007 - accuracy: 0.5416\n",
            "Epoch 192/200\n",
            "2048/2048 [==============================] - 34s 17ms/step - loss: 1.8956 - accuracy: 0.5432\n",
            "Epoch 193/200\n",
            "2048/2048 [==============================] - 35s 17ms/step - loss: 1.8936 - accuracy: 0.5445\n",
            "Epoch 194/200\n",
            "2048/2048 [==============================] - 35s 17ms/step - loss: 1.8944 - accuracy: 0.5435\n",
            "Epoch 195/200\n",
            "2048/2048 [==============================] - 35s 17ms/step - loss: 1.8939 - accuracy: 0.5434\n",
            "Epoch 196/200\n",
            "2048/2048 [==============================] - 34s 17ms/step - loss: 1.8895 - accuracy: 0.5454\n",
            "Epoch 197/200\n",
            "2048/2048 [==============================] - 34s 17ms/step - loss: 1.9155 - accuracy: 0.5397\n",
            "Epoch 198/200\n",
            "2048/2048 [==============================] - 34s 17ms/step - loss: 1.8936 - accuracy: 0.5443\n",
            "Epoch 199/200\n",
            "2048/2048 [==============================] - 35s 17ms/step - loss: 1.8803 - accuracy: 0.5470\n",
            "Epoch 200/200\n",
            "1445/2048 [====================>.........] - ETA: 10s - loss: 1.9192 - accuracy: 0.5390WARNING:tensorflow:Your input ran out of data; interrupting training. Make sure that your dataset or generator can generate at least `steps_per_epoch * epochs` batches (in this case, 409600 batches). You may need to use the repeat() function when building your dataset.\n",
            "2048/2048 [==============================] - 24s 12ms/step - loss: 1.9193 - accuracy: 0.5391\n"
          ]
        },
        {
          "output_type": "execute_result",
          "data": {
            "text/plain": [
              "<keras.callbacks.History at 0x7ff5261f4b50>"
            ]
          },
          "metadata": {},
          "execution_count": 31
        }
      ]
    },
    {
      "cell_type": "code",
      "source": [
        "#plot model training loss\n",
        "pd.DataFrame(model.history.history)[['loss']].plot(figsize = (9, 6), linewidth = 3)\n",
        "plt.grid(linestyle = '--', linewidth = 2)\n",
        "plt.show()\n"
      ],
      "metadata": {
        "id": "r9WlvK5vzfSG",
        "colab": {
          "base_uri": "https://localhost:8080/",
          "height": 374
        },
        "outputId": "5f5561c2-3bd5-4fba-8557-e302afe2a624"
      },
      "execution_count": null,
      "outputs": [
        {
          "output_type": "display_data",
          "data": {
            "text/plain": [
              "<Figure size 648x432 with 1 Axes>"
            ],
            "image/png": "[encoded data removed]"
          },
          "metadata": {
            "needs_background": "light"
          }
        }
      ]
    },
    {
      "cell_type": "code",
      "source": [
        "#plot model training accuracy\n",
        "pd.DataFrame(model.history.history)[['accuracy']].plot(figsize = (9, 6), linewidth = 3)\n",
        "plt.grid(linestyle = '--', linewidth = 2)\n",
        "plt.ylim(0,1)\n",
        "plt.show()\n"
      ],
      "metadata": {
        "id": "v4gmV_f1z1nM",
        "colab": {
          "base_uri": "https://localhost:8080/",
          "height": 378
        },
        "outputId": "5d8c9ef4-7c99-4721-c91b-2eee1372378a"
      },
      "execution_count": null,
      "outputs": [
        {
          "output_type": "display_data",
          "data": {
            "text/plain": [
              "<Figure size 648x432 with 1 Axes>"
            ],
            "image/png": "[encoded data removed]"
          },
          "metadata": {
            "needs_background": "light"
          }
        }
      ]
    },
    {
      "cell_type": "code",
      "source": [
        "#model evaluation\n",
        "train_set_eval = model.evaluate(texts, labels_encoded, verbose = 0,  steps = 2048)\n",
        "print(f'Training Set Evaluation:\\n\\tLoss: {round(train_set_eval[0],4)}\\tAccuracy: {100*round(train_set_eval[1],4)}%')\n"
      ],
      "metadata": {
        "id": "a1fGgl5a0Ms8",
        "colab": {
          "base_uri": "https://localhost:8080/"
        },
        "outputId": "a086d01c-7482-47d8-b5c0-73c8405d3b50"
      },
      "execution_count": null,
      "outputs": [
        {
          "output_type": "stream",
          "name": "stdout",
          "text": [
            "WARNING:tensorflow:Your input ran out of data; interrupting training. Make sure that your dataset or generator can generate at least `steps_per_epoch * epochs` batches (in this case, 2048 batches). You may need to use the repeat() function when building your dataset.\n",
            "Training Set Evaluation:\n",
            "\tLoss: 1.388\tAccuracy: 66.67%\n"
          ]
        }
      ]
    },
    {
      "cell_type": "code",
      "source": [
        "#define text generator based on model\n",
        "def text_generator(#define text and numbert of iteration\n",
        "                   input_text, iteration,\n",
        "                   #define tokenizer and maxlen\n",
        "                   tokenizer, maxlen, word_index,\n",
        "                   #define labels categories and model\n",
        "                   labels_dict, model, \n",
        "                   ):\n",
        "    \n",
        "    input_text = str(input_text)\n",
        "    key_values_labels = dict([(key,value) for value, key in labels_dict.items()])\n",
        "    index_word = dict([(key, value) for value, key in word_index.items()])\n",
        "\n",
        "    for iter in range(iteration):\n",
        "        text = tokenizer.texts_to_sequences([input_text])\n",
        "        text = keras.preprocessing.sequence.pad_sequences(text, padding = 'pre', maxlen = maxlen - 1)\n",
        "        predict = model.predict(text)\n",
        "        predict = np.argmax(predict, axis = -1)[0]\n",
        "        predict = key_values_labels[predict]\n",
        "        predict = index_word[predict]\n",
        "        input_text = input_text + \" \" + predict\n",
        "    \n",
        "    return input_text.title()\n"
      ],
      "metadata": {
        "id": "4veh4dxp72m1"
      },
      "execution_count": null,
      "outputs": []
    },
    {
      "cell_type": "code",
      "source": [
        "#generate the text\n",
        "generated_text = text_generator(#define text and numbert of iteration\n",
        "                                input_text = 'We Never Die In Heart', iteration = 20,\n",
        "                                #define tokenizer and maxlen\n",
        "                                tokenizer = tokenizer, maxlen = maxlen, word_index = word_index,\n",
        "                                #define labels categories and model\n",
        "                                labels_dict = labels_dict, model = model,\n",
        "                                )\n",
        "#print out the generated text\n",
        "print(generated_text)\n"
      ],
      "metadata": {
        "id": "TmfAFEdhLQKq",
        "colab": {
          "base_uri": "https://localhost:8080/"
        },
        "outputId": "ce23fd2f-e92c-4f19-b4b8-6b2574d8e6ae"
      },
      "execution_count": null,
      "outputs": [
        {
          "output_type": "stream",
          "name": "stdout",
          "text": [
            "We Never Die In Heart And None Of Us Sent His Army To Our Armys People We Are Not To Agree For Him And You\n"
          ]
        }
      ]
    },
    {
      "cell_type": "code",
      "source": [
        "#save model\n",
        "model.save('/content/model.h5')\n"
      ],
      "metadata": {
        "id": "gikdU4aO0Lgg"
      },
      "execution_count": null,
      "outputs": []
    }
  ],
  "metadata": {
    "colab": {
      "collapsed_sections": [],
      "name": "shahnameh-ferdowsi-text-generation.ipynb",
      "provenance": [],
      "mount_file_id": "1YqkKxxHYU3J4ituglLL786xGYjnko5FS",
      "authorship_tag": "ABX9TyOvH/PRufr9KbQOCqNQBppF",
      "include_colab_link": true
    },
    "gpuClass": "standard",
    "kernelspec": {
      "display_name": "Python 3",
      "name": "python3"
    },
    "language_info": {
      "name": "python"
    },
    "accelerator": "GPU"
  },
  "nbformat": 4,
  "nbformat_minor": 0
}