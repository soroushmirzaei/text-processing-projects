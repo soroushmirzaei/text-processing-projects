{
  "cells": [
    {
      "cell_type": "markdown",
      "metadata": {
        "id": "view-in-github",
        "colab_type": "text"
      },
      "source": [
        "<a href=\"https://colab.research.google.com/github/soroushmirzaei/text-processing-projects/blob/main/digikala-comments-text-classification/digikala-comments-text-classification.ipynb\" target=\"_parent\"><img src=\"https://colab.research.google.com/assets/colab-badge.svg\" alt=\"Open In Colab\"/></a>"
      ]
    },
    {
      "cell_type": "code",
      "execution_count": null,
      "metadata": {
        "id": "SIYC55FdPdC2"
      },
      "outputs": [],
      "source": [
        "#import requirement libraries\n",
        "import os\n",
        "import shutil\n",
        "\n",
        "#import dataset query libraries\n",
        "import csv\n",
        "import json\n",
        "\n",
        "#import mathematics statics libraries\n",
        "import random as rnd\n",
        "import numpy as np\n",
        "import pandas as pd\n",
        "\n",
        "#import visualization libraries\n",
        "import matplotlib.pyplot as plt\n",
        "import seaborn as sns\n",
        "\n",
        "#import machine learning deep learning libraries\n",
        "import tensorflow as tf\n",
        "import tensorflow_datasets as tfds\n",
        "from tensorflow import keras\n"
      ]
    },
    {
      "cell_type": "code",
      "execution_count": null,
      "metadata": {
        "id": "6SkBIh-h6ZzE"
      },
      "outputs": [],
      "source": [
        "#download stop-words dataset\n",
        "!wget -q https://raw.githubusercontent.com/soroushmirzaei/text-processing-projects/main/english-language-stop-words.txt\n",
        "!wget -q https://raw.githubusercontent.com/soroushmirzaei/text-processing-projects/main/persian-language-stop-words.txt\n",
        "\n",
        "#download filters-characters dataset\n",
        "!wget -q https://raw.githubusercontent.com/soroushmirzaei/text-processing-projects/main/english-language-filter-characters.txt\n",
        "!wget -q https://raw.githubusercontent.com/soroushmirzaei/text-processing-projects/main/persian-language-filter-characters.txt\n",
        "\n",
        "#download similar-characters dataset\n",
        "!wget -q https://raw.githubusercontent.com/soroushmirzaei/text-processing-projects/main/persian-language-similar-characters.json\n"
      ]
    },
    {
      "cell_type": "code",
      "execution_count": null,
      "metadata": {
        "id": "Cna6blsV2ZkZ"
      },
      "outputs": [],
      "source": [
        "#define filters-list function loader\n",
        "def filter_chars(file_path):\n",
        "    filter_chars = list()\n",
        "    with open(file_path, 'r') as filters_list_file:\n",
        "        for word in filters_list_file:\n",
        "            filter_chars.append(word.strip('\\n'))\n",
        "        filters_list_file.close()\n",
        "    return filter_chars\n",
        "\n",
        "#define stop-words function loader\n",
        "def stop_word(file_path):\n",
        "    stop_words = list()\n",
        "    with open(file_path, 'r') as stop_words_file:\n",
        "        for word in stop_words_file:\n",
        "            stop_words.append(word.strip('\\n'))\n",
        "        stop_words_file.close()\n",
        "    return stop_words\n",
        "\n",
        "#define similar-characters function loader\n",
        "def similar_chars(file_path):\n",
        "    with open(file_path, 'r') as similar_chars_file:\n",
        "        similar_chars = json.load(similar_chars_file)\n",
        "    return similar_chars\n"
      ]
    },
    {
      "cell_type": "code",
      "execution_count": null,
      "metadata": {
        "id": "bLhC44LW6TAd"
      },
      "outputs": [],
      "source": [
        "#load stop-words\n",
        "eng_stop_words = stop_word('english-language-stop-words.txt')\n",
        "per_stop_words = stop_word('persian-language-stop-words.txt')\n",
        "\n",
        "#load filters-characters\n",
        "eng_filter_characters = filter_chars('english-language-filter-characters.txt')\n",
        "per_filter_characters = filter_chars('persian-language-filter-characters.txt')\n",
        "\n",
        "#load similar-characters\n",
        "per_similar_characters = similar_chars('persian-language-similar-characters.json')\n"
      ]
    },
    {
      "cell_type": "code",
      "execution_count": null,
      "metadata": {
        "id": "39pSrmpdM5xg"
      },
      "outputs": [],
      "source": [
        "#define remove filters characters function\n",
        "def remove_filter(text, filters_list):\n",
        "    characters = list(text)\n",
        "    characters_without_filters = [character for character in characters if character not in filters_list]\n",
        "    text_without_filters = ''.join(characters_without_filters)\n",
        "    return text_without_filters\n",
        "\n",
        "#define remove texts stopwords function\n",
        "def remove_stopword(text, stop_words_list):\n",
        "    text = text.lower()\n",
        "    words_with_stopwords = text.split(' ')\n",
        "    words_without_stopwords = [word for word in words_with_stopwords if word not in stop_words_list]\n",
        "    text_without_stopwords = ' '.join(words_without_stopwords)\n",
        "    return text_without_stopwords\n",
        "\n",
        "#define similar characters modification function\n",
        "def similar_char(text, similar_chars_dict):\n",
        "    characters = list(text)\n",
        "    similar_characters_modified_list = [similar_chars_dict.get(character,character) for character in characters]\n",
        "    similar_characters_modified_text = ''.join(similar_characters_modified_list)\n",
        "    return similar_characters_modified_text\n"
      ]
    },
    {
      "cell_type": "code",
      "source": [
        "#define texts labels loader\n",
        "def text_labels_loader(#define data\n",
        "                       file_path, header = True, delimiter = ',',\n",
        "                       text_index = None, label_index = None,\n",
        "                       #define optional preprocessing\n",
        "                       use_remove_stopwords = False, stop_words_list = None,\n",
        "                       use_remove_filter = False, filters_chars_list = None,\n",
        "                       use_simchars_modifier = False, sim_chars_dict = None\n",
        "                       ):\n",
        "    \n",
        "    texts_list = list()\n",
        "    labels_list = list()\n",
        "\n",
        "    with open(file_path, 'r') as csv_file:\n",
        "        csv_reader = csv.reader(csv_file, delimiter = delimiter)\n",
        "        if header:\n",
        "            next(csv_reader)\n",
        "        for row in csv_reader:\n",
        "            text, label = row[text_index], row[label_index]\n",
        "            if use_remove_filter:\n",
        "                text = remove_filter(text, filters_chars_list)\n",
        "            if use_simchars_modifier:\n",
        "                text = similar_char(text, sim_chars_dict)\n",
        "            if use_remove_stopwords:\n",
        "                text = remove_stopword(text, stop_words_list)\n",
        "            texts_list.append(text)\n",
        "            labels_list.append(label)\n",
        "\n",
        "    return texts_list, labels_list\n"
      ],
      "metadata": {
        "id": "o5qU2Q6X8A7C"
      },
      "execution_count": null,
      "outputs": []
    },
    {
      "cell_type": "code",
      "execution_count": null,
      "metadata": {
        "id": "ahglS7lMWw9e"
      },
      "outputs": [],
      "source": [
        "texts_list, labels_list = text_labels_loader(#define data\n",
        "                                             file_path = 'digikala.csv', header = True, delimiter = ',',\n",
        "                                             text_index = 6, label_index = 7,\n",
        "                                             #define optional preprocessing\n",
        "                                             use_remove_filter = True, filters_chars_list = per_filter_characters,\n",
        "                                             use_simchars_modifier = True, sim_chars_dict = per_similar_characters\n",
        "                                             )\n"
      ]
    },
    {
      "cell_type": "code",
      "source": [
        "#print out sample texts\n",
        "texts_list[:5]\n"
      ],
      "metadata": {
        "colab": {
          "base_uri": "https://localhost:8080/"
        },
        "id": "hqVlKxr0EcFp",
        "outputId": "b361d14e-13fc-461d-e157-7f8c6905b495"
      },
      "execution_count": null,
      "outputs": [
        {
          "output_type": "execute_result",
          "data": {
            "text/plain": [
              "['من کاملا با این محصول آشنا بودم و از خریدش مطمین بودم',\n",
              " 'به درد خاصی نمیخوره صرفا یکی دو روز باهاش سرگرمین بعد به عنوان یه ساعت معمولی ازش استفاده میکنین',\n",
              " 'در یک کلام به نسبت هزینه ای که میکنید کالمل ترین ساعت بازار رو دریافت میکنید',\n",
              " 'ساعت بسیار عالی و کاربردی هستمیخواستم برای دوستم هم بگیرم ولی به دلیل تفاوت قیمت زیاد از دیجی کالا نمیخرم',\n",
              " 'دقیقا مطابق آنچه انتظار می رفت بود ']"
            ]
          },
          "metadata": {},
          "execution_count": 13
        }
      ]
    },
    {
      "cell_type": "code",
      "source": [
        "#print out sample labels\n",
        "labels_list[:5]\n"
      ],
      "metadata": {
        "colab": {
          "base_uri": "https://localhost:8080/"
        },
        "id": "Cc3UvCs4EhGE",
        "outputId": "0337814a-e9ca-46c2-d2a3-f60512f9e12b"
      },
      "execution_count": null,
      "outputs": [
        {
          "output_type": "execute_result",
          "data": {
            "text/plain": [
              "['1', '0', '0', '0', '1']"
            ]
          },
          "metadata": {},
          "execution_count": 14
        }
      ]
    },
    {
      "cell_type": "code",
      "source": [
        "#define split training validation set\n",
        "def train_valid_split(#define texts labels list\n",
        "                      texts_list, labels_list,\n",
        "                      #define training set size\n",
        "                      train_split_size = None\n",
        "                      ):\n",
        "\n",
        "    #shuffle texts labels list\n",
        "    texts_labels_zip = zip(texts_list, labels_list)\n",
        "    shuffle_texts_labels_zip = rnd.sample(list(texts_labels_zip), len(texts_list))\n",
        "    texts_list, labels_list = zip(*shuffle_texts_labels_zip)\n",
        "\n",
        "    train_size = int(train_split_size * len(texts_list))\n",
        "    #split train valid set\n",
        "    train_texts_list = texts_list[:train_size]    \n",
        "    train_labels_list = labels_list[:train_size]    \n",
        "\n",
        "    valid_texts_list = texts_list[train_size:]    \n",
        "    valid_labels_list = labels_list[train_size:]    \n",
        "\n",
        "    return train_texts_list, train_labels_list, valid_texts_list, valid_labels_list\n"
      ],
      "metadata": {
        "id": "hzPsSPv2E483"
      },
      "execution_count": null,
      "outputs": []
    },
    {
      "cell_type": "code",
      "source": [
        "train_texts_list, train_labels_list, valid_texts_list, valid_labels_list =  train_valid_split(#define texts labels list\n",
        "                                                                                              texts_list, labels_list,\n",
        "                                                                                              #define training set size\n",
        "                                                                                              train_split_size = 0.9\n",
        "                                                                                              )\n"
      ],
      "metadata": {
        "id": "8YT2Gr-dFUOl"
      },
      "execution_count": null,
      "outputs": []
    },
    {
      "cell_type": "code",
      "source": [
        "#print out sample training texts\n",
        "train_texts_list[:5]\n"
      ],
      "metadata": {
        "colab": {
          "base_uri": "https://localhost:8080/"
        },
        "id": "0PtmqI8TH9x4",
        "outputId": "8de3e95c-f1ef-48db-e67c-c32e2f425a00"
      },
      "execution_count": null,
      "outputs": [
        {
          "output_type": "execute_result",
          "data": {
            "text/plain": [
              "('درشگفت انگیز ارزش خرید دارد',\n",
              " 'خیلی خوب',\n",
              " 'از همه نظر عالییی',\n",
              " 'کار راه بندازه',\n",
              " 'سیم کارت در ساعت هوشمند کار نمی کند')"
            ]
          },
          "metadata": {},
          "execution_count": 17
        }
      ]
    },
    {
      "cell_type": "code",
      "source": [
        "#print out sample training labels\n",
        "train_labels_list[:5]\n"
      ],
      "metadata": {
        "colab": {
          "base_uri": "https://localhost:8080/"
        },
        "id": "9rJ_AV-oIQgc",
        "outputId": "5cf1b063-d748-416a-d2bb-d45875b64405"
      },
      "execution_count": null,
      "outputs": [
        {
          "output_type": "execute_result",
          "data": {
            "text/plain": [
              "('1', '1', '1', '1', '0')"
            ]
          },
          "metadata": {},
          "execution_count": 18
        }
      ]
    },
    {
      "cell_type": "code",
      "execution_count": null,
      "metadata": {
        "id": "wJ3p8PBDbFH2"
      },
      "outputs": [],
      "source": [
        "#define labels encoder\n",
        "def label_encoder(#define labels list and method\n",
        "                  labels_list,\n",
        "                  #define method binary, ordinal or onehot\n",
        "                  method, return_categories = True\n",
        "                  ):\n",
        "    \n",
        "    #ordinal and binary encoder method\n",
        "    if method in ['binary','ordinal']:\n",
        "        unique_labels = sorted(list(set(labels_list)))\n",
        "        labels_dict = {\n",
        "            label : int(unique_labels.index(label)) for label in unique_labels\n",
        "        }\n",
        "        labels = list(map(lambda label : labels_dict[label], labels_list))\n",
        "    \n",
        "    #one-hot encoder method\n",
        "    elif method in ['onehot']:\n",
        "        unique_labels = sorted(list(set(labels_list)))\n",
        "        labels_dict = {\n",
        "            label : int(unique_labels.index(label)) for label in unique_labels\n",
        "        }\n",
        "        labels_encoded = list()\n",
        "        for label in labels_list:\n",
        "            label_encoded = len(unique_labels)*[0]\n",
        "            label_number = labels_dict[label]\n",
        "            label_encoded[label_number] = 1\n",
        "            labels_encoded.append(label_encoded)\n",
        "        labels = labels_encoded\n",
        "\n",
        "    #convert list type to array\n",
        "    labels_encoded = np.array(labels)\n",
        "    \n",
        "    if return_categories:\n",
        "        return labels_encoded, labels_dict\n",
        "    else:\n",
        "        return labels_encoded\n",
        "        "
      ]
    },
    {
      "cell_type": "code",
      "execution_count": null,
      "metadata": {
        "id": "oKVb5izSXDlD"
      },
      "outputs": [],
      "source": [
        "train_labels_encoded, train_labels_dict = label_encoder(train_labels_list, 'ordinal')\n",
        "valid_labels_encoded, valid_labels_dict = label_encoder(valid_labels_list, 'ordinal')\n"
      ]
    },
    {
      "cell_type": "code",
      "execution_count": null,
      "metadata": {
        "id": "xws6QVTWPwbW"
      },
      "outputs": [],
      "source": [
        "#define tokenizer and sequences and padding sequences\n",
        "def pad_sequences(#define training and validation set\n",
        "                  train_texts, valid_texts,\n",
        "                  #define vocab size and out of vocab word\n",
        "                  vocab_size = None, oov_word = None,\n",
        "                  #define filter characters list\n",
        "                  use_modified_filters = False, filters_list = None,\n",
        "                  #define sequence length, padding and truncating\n",
        "                  sequence_len = None, padding_point = 'post', truncating_point = 'post',\n",
        "                  #define json tokenizer\n",
        "                  save_tokenizer_json = False, tokenizer_filepath = None\n",
        "                  ):\n",
        "    \n",
        "    #define tokenizer and fit\n",
        "    from keras.preprocessing.text import Tokenizer\n",
        "    if use_modified_filters:\n",
        "        filters = ''.join(filters_list)\n",
        "    else:\n",
        "        filters = '!\"#$%&()*+,-./:;<=>?@[\\\\]^_`{|}~\\t\\n'\n",
        "    tokenizer = Tokenizer(num_words = vocab_size, oov_token = oov_word,\n",
        "                          filters = filters)\n",
        "    tokenizer.fit_on_texts(train_texts)\n",
        "    word_index = tokenizer.word_index\n",
        "\n",
        "    if save_tokenizer_json:\n",
        "        with open(tokenizer_filepath+'.json','w') as tokenizer_file:\n",
        "            json.dump(tokenizer.to_json(), tokenizer_file)\n",
        "\n",
        "    #define training validation texts to sequences\n",
        "    train_sequences = tokenizer.texts_to_sequences(train_texts)\n",
        "    valid_sequences = tokenizer.texts_to_sequences(valid_texts)\n",
        "\n",
        "    #define training validation pad sequences\n",
        "    from keras.preprocessing.sequence import pad_sequences\n",
        "    train_padded_sequences = pad_sequences(train_sequences, maxlen = sequence_len,\n",
        "                                           padding = padding_point, truncating = truncating_point)\n",
        "    valid_padded_sequences = pad_sequences(valid_sequences, maxlen = sequence_len,\n",
        "                                           padding = padding_point, truncating = truncating_point)\n",
        "\n",
        "    return train_padded_sequences, valid_padded_sequences, tokenizer, word_index\n"
      ]
    },
    {
      "cell_type": "code",
      "execution_count": null,
      "metadata": {
        "id": "slxiMi6ZXYEx"
      },
      "outputs": [],
      "source": [
        "train_padded_sequences, valid_padded_sequences, tokenizer, word_index = pad_sequences(#define training and validation set\n",
        "                                                                                      train_texts_list, valid_texts_list,\n",
        "                                                                                      #define vocab size and out of vocab word\n",
        "                                                                                      vocab_size = None, oov_word = '<oov>',\n",
        "                                                                                      #define filter characters list\n",
        "                                                                                      use_modified_filters = False, filters_list = None,\n",
        "                                                                                      #define sequence length, padding and truncating\n",
        "                                                                                      sequence_len = 150)\n"
      ]
    },
    {
      "cell_type": "code",
      "execution_count": null,
      "metadata": {
        "colab": {
          "base_uri": "https://localhost:8080/"
        },
        "id": "1S6jPEDtVocu",
        "outputId": "5090c2f8-a356-489a-db5e-73dbb62379a0"
      },
      "outputs": [
        {
          "output_type": "stream",
          "name": "stdout",
          "text": [
            "--2022-06-30 20:09:10--  https://dl.fbaipublicfiles.com/fasttext/vectors-crawl/cc.fa.300.vec.gz\n",
            "Resolving dl.fbaipublicfiles.com (dl.fbaipublicfiles.com)... 172.67.9.4, 104.22.74.142, 104.22.75.142, ...\n",
            "Connecting to dl.fbaipublicfiles.com (dl.fbaipublicfiles.com)|172.67.9.4|:443... connected.\n",
            "HTTP request sent, awaiting response... 200 OK\n",
            "Length: 1258183862 (1.2G) [binary/octet-stream]\n",
            "Saving to: ‘cc.fa.300.vec.gz’\n",
            "\n",
            "cc.fa.300.vec.gz    100%[===================>]   1.17G  42.1MB/s    in 34s     \n",
            "\n",
            "2022-06-30 20:09:44 (35.7 MB/s) - ‘cc.fa.300.vec.gz’ saved [1258183862/1258183862]\n",
            "\n"
          ]
        }
      ],
      "source": [
        "#load pre-trained word vectors\n",
        "!wget https://dl.fbaipublicfiles.com/fasttext/vectors-crawl/cc.fa.300.vec.gz\n",
        "\n",
        "#unzip the loaded file\n",
        "!gunzip cc.fa.300.vec.gz\n"
      ]
    },
    {
      "cell_type": "code",
      "execution_count": null,
      "metadata": {
        "id": "brRWvKPSp4QN"
      },
      "outputs": [],
      "source": [
        "#define pre-trained words dictionary loader\n",
        "def word_dict_loader(#define file path and file type\n",
        "                     file_path, file_type,\n",
        "                     #define txt and csv file type args\n",
        "                     word_index = None, vector_index = None, header = True, spliter_delimiter = None,\n",
        "                     use_word_spliter = False, word_spliter = None, word_split_index = None,\n",
        "                     #define json file type args\n",
        "                     word_key = None, vector_key = None,\n",
        "                     ):\n",
        "    \n",
        "    word_dict = dict()\n",
        "\n",
        "    #define txt vec loader\n",
        "    if file_type in ['txt', 'vec']:\n",
        "        with open(file_path, 'r') as word_dict_file:\n",
        "            if header:\n",
        "                next(word_dict_file)\n",
        "            for row in word_dict_file:\n",
        "                row = row.split(spliter_delimiter)\n",
        "                if use_word_spliter:\n",
        "                    word = row[word_index].split(word_spliter)[word_split_index]\n",
        "                else:\n",
        "                    word = row[word_index]\n",
        "                vectors = np.array(row[vector_index:], dtype = 'float32')\n",
        "                word_dict[word] = vectors\n",
        "\n",
        "    #define csv loader\n",
        "    elif file_type in ['csv']:\n",
        "        with open(file_path, 'r') as word_dict_file:\n",
        "            word_dict_file = csv.reader(word_dict_file, delimiter = spliter_delimiter)\n",
        "            if header:\n",
        "                next(word_dict_file)\n",
        "            for row in word_dict_file:\n",
        "                if use_word_spliter:\n",
        "                    word = row[word_index].split(word_spliter)[word_split_index]\n",
        "                else:\n",
        "                    word = row[word_index]\n",
        "                vectors = np.array(row[vector_index:], dtype = 'float32')\n",
        "                word_dict[word] = vectors\n",
        "                \n",
        "    #define json loader\n",
        "    elif file_type in ['json']:\n",
        "        with open(file_path, 'r') as word_dict_file:\n",
        "            word_dict_file = json.load(word_dict_file)\n",
        "            for item in word_dict_file:\n",
        "                word = item[word_key]\n",
        "                vectors = np.array(item[vector_key], dtype = 'float32')\n",
        "                word_dict[word] = vectors\n",
        "\n",
        "    #word dict params\n",
        "    word_dict_size = len(word_dict)\n",
        "    word_dict_dim = list(word_dict.values())[0].shape[0]\n",
        "\n",
        "    return word_dict, word_dict_size, word_dict_dim\n"
      ]
    },
    {
      "cell_type": "code",
      "execution_count": null,
      "metadata": {
        "id": "L95-YalCYVJe"
      },
      "outputs": [],
      "source": [
        "word_dict, word_dict_size, word_dict_dim = word_dict_loader(#define file path and file type\n",
        "                                                            file_path = '/content/cc.fa.300.vec', file_type = 'vec',\n",
        "                                                            #define txt and csv file type args\n",
        "                                                            word_index = 0, vector_index = 1, header = True, spliter_delimiter = ' ')\n"
      ]
    },
    {
      "cell_type": "code",
      "execution_count": null,
      "metadata": {
        "id": "fFr4DSbYpYjK"
      },
      "outputs": [],
      "source": [
        "#define pre-trained embedding word vectors\n",
        "def embd_weights_loader(#define word dictionary and word index\n",
        "                        word_dict, word_index, dimension\n",
        "                        ):\n",
        "    \n",
        "    #create embedding weights\n",
        "    embed_weights = np.zeros([len(word_index)+1, dimension], dtype = 'float32')\n",
        "\n",
        "    counter = 0\n",
        "    for word, index in word_index.items():\n",
        "        if word in word_dict:\n",
        "            embed_weights[index] = word_dict[word]\n",
        "            counter += 1\n",
        "\n",
        "    #embedding layer params\n",
        "    vocab_size = embed_weights.shape[0]\n",
        "    embed_dim = embed_weights.shape[1]\n",
        "\n",
        "    return embed_weights, vocab_size, embed_dim, counter\n"
      ]
    },
    {
      "cell_type": "code",
      "execution_count": null,
      "metadata": {
        "id": "9jaJfMnZZM6N"
      },
      "outputs": [],
      "source": [
        "embed_weights, vocab_size, embed_dim, counter = embd_weights_loader(#define word dictionary and word index\n",
        "                                                                    word_dict = word_dict, word_index = word_index,\n",
        "                                                                    dimension = word_dict_dim)\n"
      ]
    },
    {
      "cell_type": "code",
      "execution_count": null,
      "metadata": {
        "colab": {
          "base_uri": "https://localhost:8080/"
        },
        "id": "Dn037Y_9a4Nv",
        "outputId": "9ea7d392-3b58-4dba-b534-46077b861dbd"
      },
      "outputs": [
        {
          "output_type": "stream",
          "name": "stdout",
          "text": [
            "The Tokenizer Word Index Derive 229224 Words\n",
            "The Pre-Traind Word Vectors Covers 77071 Words\n"
          ]
        }
      ],
      "source": [
        "#define how many words the pre-trained will cover\n",
        "print(f'the tokenizer word index derive {len(word_index)} words\\nthe pre-traind word vectors covers {counter} words'.title())\n"
      ]
    },
    {
      "cell_type": "code",
      "execution_count": null,
      "metadata": {
        "id": "dlRqac9W2DWL"
      },
      "outputs": [],
      "source": [
        "#define model\n",
        "def create_model(#define input shape\n",
        "                 input_shape = None,\n",
        "                 #define embedding layer parameters\n",
        "                 use_pretraind_embd = False, vocab_size = None, embd_dim = None,\n",
        "                 sequence_len = None, embed_weights = None,\n",
        "                 #define type of layer and parameters\n",
        "                 use_lstm = False, use_gru = False, use_conv = False,\n",
        "                 #define lstm layers parameters\n",
        "                 lstm_layers_num = None, lstm_layers_units = None,\n",
        "                 #define gru layers parameters\n",
        "                 gru_layers_num = None, gru_layers_units = None,\n",
        "                 #define convolution layers parameters\n",
        "                 conv_layers_num = None, conv_layers_filters = None, conv_layers_kernel = None,\n",
        "                 #define convolution layers sub layers\n",
        "                 use_max_pool = False, max_pool_size = None,\n",
        "                 #define dense layer feeder\n",
        "                 use_global_max_pool = False, use_global_avg_pool = False, use_flatten = False,\n",
        "                 use_feeder_dropout = False, feeder_dropout_ratio = None,\n",
        "                 #define dense head layers\n",
        "                 use_dense_layers = True, dense_layers_num = None, dense_layers_units = None,\n",
        "                 #define dense layers dropout parameters\n",
        "                 use_dense_dropout = False, dense_dropout_ratio = None,\n",
        "                 #define output layer parameters\n",
        "                 output_layer_unit = None, output_layer_activation = None,\n",
        "                 #define model compiler parameters\n",
        "                 optimizer = None, loss = None, metrics = None\n",
        "                 ):\n",
        "    \n",
        "    #define input layer\n",
        "    input = keras.Input(shape = input_shape)\n",
        "\n",
        "    #define embedding layer and parameters\n",
        "    if use_pretraind_embd:\n",
        "        out = keras.layers.Embedding(input_dim = vocab_size, output_dim = embd_dim, input_length = sequence_len,\n",
        "                                     weights = [embed_weights], trainable = False)(input)\n",
        "    else:\n",
        "        out = keras.layers.Embedding(input_dim = vocab_size, output_dim = embd_dim, input_length = sequence_len)(input)\n",
        "\n",
        "    #define type of layer and parameters\n",
        "    #lstm type layers\n",
        "    if use_lstm:\n",
        "        sequence_return = (lstm_layers_num - 1)*[True]\n",
        "        sequence_return.append(False)\n",
        "        for layer_num in range(lstm_layers_num):\n",
        "            out = keras.layers.Bidirectional(keras.layers.LSTM(lstm_layers_units[layer_num],\n",
        "                                                               return_sequences = sequence_return[layer_num]))(out)\n",
        "\n",
        "    #gru type layers\n",
        "    elif use_gru:\n",
        "        sequence_return = (gru_layers_num - 1)*[True]\n",
        "        sequence_return.append(False)\n",
        "        for layer_num in range(gru_layers_num):\n",
        "            out = keras.layers.Bidirectional(keras.layers.GRU(gru_layers_units[layer_num],\n",
        "                                                              return_sequences = sequence_return[layer_num]))(out)\n",
        "    \n",
        "    #convolution type layer\n",
        "    elif use_conv:\n",
        "        for layer_num in range(conv_layers_num):\n",
        "            out = keras.layers.Conv1D(filters = conv_layers_filters[layer_num], kernel_size = conv_layers_kernel[layer_num],\n",
        "                                      activation = 'relu')(out)\n",
        "            if use_max_pool[layer_num]:\n",
        "                out = keras.layers.MaxPool1D(max_pool_size[layer_num])(out)\n",
        "\n",
        "\n",
        "    #dense layers feeder layer\n",
        "    #global max pool type layer\n",
        "    if use_global_max_pool:\n",
        "        out = keras.layers.GlobalMaxPooling1D()(out)\n",
        "        \n",
        "    #global average pool type layer\n",
        "    elif use_global_avg_pool:\n",
        "        out = keras.layers.GlobalAveragePooling1D()(out)\n",
        "\n",
        "    #flatten type layer\n",
        "    elif use_flatten:\n",
        "        out = keras.layers.Flatten()(out)\n",
        "\n",
        "    #define feeder dropout layer\n",
        "    if use_feeder_dropout:\n",
        "        out = keras.layers.Dropout(feeder_dropout_ratio)(out)\n",
        "\n",
        "\n",
        "    #define dense head layers\n",
        "    if use_dense_layers:\n",
        "        for layer_num in range(dense_layers_num):\n",
        "            out = keras.layers.Dense(dense_layers_units[layer_num], activation = 'relu')(out)\n",
        "            if use_dense_dropout[layer_num]:\n",
        "                out = keras.layers.Dropout(dense_dropout_ratio[layer_num])(out)\n",
        "    \n",
        "    #define output layer\n",
        "    output = keras.layers.Dense(output_layer_unit, activation = output_layer_activation)(out)\n",
        "\n",
        "    #define model\n",
        "    model = keras.models.Model(inputs = input, outputs = output)\n",
        "\n",
        "\n",
        "    #compile model\n",
        "    model.compile(optimizer = optimizer,\n",
        "                  loss = loss,\n",
        "                  metrics = metrics)\n",
        "    \n",
        "    return model\n",
        "    "
      ]
    },
    {
      "cell_type": "code",
      "execution_count": null,
      "metadata": {
        "id": "Cfnaso8ub6ZQ"
      },
      "outputs": [],
      "source": [
        "#create model\n",
        "model = create_model(#define input shape\n",
        "                     input_shape = 150,\n",
        "                     #define embedding layer parameters\n",
        "                     use_pretraind_embd = True, vocab_size = vocab_size, embd_dim = embed_dim,\n",
        "                     sequence_len = 150, embed_weights = embed_weights,\n",
        "                     #define type of layer and parameters\n",
        "                     use_lstm = False, use_gru = False, use_conv = True,\n",
        "                     #define lstm layers parameters\n",
        "                     lstm_layers_num = None, lstm_layers_units = None,\n",
        "                     #define gru layers parameters\n",
        "                     gru_layers_num = None, gru_layers_units = None,\n",
        "                     #define convolution layers parameters\n",
        "                     conv_layers_num = 2, conv_layers_filters = [64, 128], conv_layers_kernel = [5, 5],\n",
        "                     #define convolution layers sub layers\n",
        "                     use_max_pool = [False, False], max_pool_size = None,\n",
        "                     #define dense layer feeder\n",
        "                     use_global_max_pool = False, use_global_avg_pool = True, use_flatten = False,\n",
        "                     use_feeder_dropout = True, feeder_dropout_ratio = 0.3,\n",
        "                     #define dense head layers\n",
        "                     use_dense_layers = True, dense_layers_num = 2, dense_layers_units = [64, 64],\n",
        "                     #define dense layers dropout parameters\n",
        "                     use_dense_dropout = [True, True], dense_dropout_ratio = [0.5, 0.5],\n",
        "                     #define output layer parameters\n",
        "                     output_layer_unit = 1, output_layer_activation = 'sigmoid',\n",
        "                     #define model compiler parameters\n",
        "                     optimizer = keras.optimizers.RMSprop(0.01), loss = 'binary_crossentropy', metrics = 'accuracy'\n",
        "                     )"
      ]
    },
    {
      "cell_type": "code",
      "execution_count": null,
      "metadata": {
        "colab": {
          "base_uri": "https://localhost:8080/"
        },
        "id": "lSMkY1fFeVXT",
        "outputId": "1d8c8fdf-1c32-48e4-f6f1-f288fde34d74"
      },
      "outputs": [
        {
          "output_type": "stream",
          "name": "stdout",
          "text": [
            "Model: \"model_3\"\n",
            "________________________________________________________________________________________________________________________\n",
            " Layer (type)                                         Output Shape                                    Param #           \n",
            "========================================================================================================================\n",
            " input_4 (InputLayer)                                 [(None, 150)]                                   0                 \n",
            "                                                                                                                        \n",
            " embedding_3 (Embedding)                              (None, 150, 300)                                68767500          \n",
            "                                                                                                                        \n",
            " conv1d (Conv1D)                                      (None, 146, 64)                                 96064             \n",
            "                                                                                                                        \n",
            " conv1d_1 (Conv1D)                                    (None, 142, 128)                                41088             \n",
            "                                                                                                                        \n",
            " global_average_pooling1d (GlobalAveragePooling1D)    (None, 128)                                     0                 \n",
            "                                                                                                                        \n",
            " dropout_9 (Dropout)                                  (None, 128)                                     0                 \n",
            "                                                                                                                        \n",
            " dense_9 (Dense)                                      (None, 64)                                      8256              \n",
            "                                                                                                                        \n",
            " dropout_10 (Dropout)                                 (None, 64)                                      0                 \n",
            "                                                                                                                        \n",
            " dense_10 (Dense)                                     (None, 64)                                      4160              \n",
            "                                                                                                                        \n",
            " dropout_11 (Dropout)                                 (None, 64)                                      0                 \n",
            "                                                                                                                        \n",
            " dense_11 (Dense)                                     (None, 1)                                       65                \n",
            "                                                                                                                        \n",
            "========================================================================================================================\n",
            "Total params: 68,917,133\n",
            "Trainable params: 149,633\n",
            "Non-trainable params: 68,767,500\n",
            "________________________________________________________________________________________________________________________\n"
          ]
        }
      ],
      "source": [
        "#model summary\n",
        "model.summary(120)\n"
      ]
    },
    {
      "cell_type": "code",
      "execution_count": null,
      "metadata": {
        "colab": {
          "base_uri": "https://localhost:8080/"
        },
        "id": "UxgR_Rm2ehyg",
        "outputId": "0acee85c-8762-4fb8-d544-e05250b0b0e1"
      },
      "outputs": [
        {
          "output_type": "stream",
          "name": "stdout",
          "text": [
            "Epoch 1/200\n",
            "1024/1024 [==============================] - 180s 167ms/step - loss: 0.4976 - accuracy: 0.7658 - val_loss: 0.4046 - val_accuracy: 0.8201 - lr: 0.0100\n",
            "Epoch 2/200\n",
            "1024/1024 [==============================] - 170s 166ms/step - loss: 0.3933 - accuracy: 0.8294 - val_loss: 0.3659 - val_accuracy: 0.8430 - lr: 0.0100\n",
            "Epoch 3/200\n",
            "1024/1024 [==============================] - 170s 166ms/step - loss: 0.3627 - accuracy: 0.8440 - val_loss: 0.3391 - val_accuracy: 0.8517 - lr: 0.0100\n",
            "Epoch 4/200\n",
            "1024/1024 [==============================] - 151s 147ms/step - loss: 0.3460 - accuracy: 0.8512 - val_loss: 0.3326 - val_accuracy: 0.8547 - lr: 0.0100\n",
            "Epoch 5/200\n",
            "1024/1024 [==============================] - 151s 148ms/step - loss: 0.3356 - accuracy: 0.8557 - val_loss: 0.3286 - val_accuracy: 0.8570 - lr: 0.0100\n",
            "Epoch 6/200\n",
            "1024/1024 [==============================] - 169s 165ms/step - loss: 0.3279 - accuracy: 0.8587 - val_loss: 0.3304 - val_accuracy: 0.8597 - lr: 0.0100\n",
            "Epoch 7/200\n",
            "1024/1024 [==============================] - 151s 147ms/step - loss: 0.3223 - accuracy: 0.8605 - val_loss: 0.3286 - val_accuracy: 0.8588 - lr: 0.0100\n",
            "Epoch 8/200\n",
            "1024/1024 [==============================] - 151s 147ms/step - loss: 0.3182 - accuracy: 0.8622 - val_loss: 0.3245 - val_accuracy: 0.8589 - lr: 0.0100\n",
            "Epoch 9/200\n",
            "1024/1024 [==============================] - 156s 152ms/step - loss: 0.3147 - accuracy: 0.8636 - val_loss: 0.3172 - val_accuracy: 0.8629 - lr: 0.0100\n",
            "Epoch 10/200\n",
            "1024/1024 [==============================] - 151s 147ms/step - loss: 0.3119 - accuracy: 0.8645 - val_loss: 0.3184 - val_accuracy: 0.8625 - lr: 0.0100\n",
            "Epoch 11/200\n",
            "1024/1024 [==============================] - 151s 148ms/step - loss: 0.3097 - accuracy: 0.8653 - val_loss: 0.3283 - val_accuracy: 0.8604 - lr: 0.0100\n",
            "Epoch 12/200\n",
            "1024/1024 [==============================] - 170s 166ms/step - loss: 0.3075 - accuracy: 0.8662 - val_loss: 0.3240 - val_accuracy: 0.8624 - lr: 0.0100\n",
            "Epoch 13/200\n",
            "1024/1024 [==============================] - 151s 148ms/step - loss: 0.3059 - accuracy: 0.8668 - val_loss: 0.3175 - val_accuracy: 0.8648 - lr: 0.0100\n",
            "Epoch 14/200\n",
            "1024/1024 [==============================] - 169s 166ms/step - loss: 0.3039 - accuracy: 0.8675 - val_loss: 0.3230 - val_accuracy: 0.8647 - lr: 0.0100\n",
            "Epoch 15/200\n",
            "1024/1024 [==============================] - 170s 166ms/step - loss: 0.2898 - accuracy: 0.8717 - val_loss: 0.3159 - val_accuracy: 0.8665 - lr: 1.0000e-03\n",
            "Epoch 16/200\n",
            "1024/1024 [==============================] - 149s 146ms/step - loss: 0.2868 - accuracy: 0.8727 - val_loss: 0.3172 - val_accuracy: 0.8670 - lr: 1.0000e-03\n",
            "Epoch 17/200\n",
            "1024/1024 [==============================] - 149s 145ms/step - loss: 0.2854 - accuracy: 0.8732 - val_loss: 0.3195 - val_accuracy: 0.8672 - lr: 1.0000e-03\n",
            "Epoch 18/200\n",
            "1024/1024 [==============================] - 149s 145ms/step - loss: 0.2845 - accuracy: 0.8736 - val_loss: 0.3224 - val_accuracy: 0.8673 - lr: 1.0000e-03\n",
            "Epoch 19/200\n",
            "1024/1024 [==============================] - 168s 164ms/step - loss: 0.2837 - accuracy: 0.8738 - val_loss: 0.3230 - val_accuracy: 0.8672 - lr: 1.0000e-03\n",
            "Epoch 20/200\n",
            "1024/1024 [==============================] - 148s 144ms/step - loss: 0.2830 - accuracy: 0.8742 - val_loss: 0.3253 - val_accuracy: 0.8674 - lr: 1.0000e-03\n",
            "Epoch 21/200\n",
            "1024/1024 [==============================] - 168s 164ms/step - loss: 0.2816 - accuracy: 0.8747 - val_loss: 0.3268 - val_accuracy: 0.8676 - lr: 1.0000e-04\n",
            "Epoch 22/200\n",
            "1024/1024 [==============================] - 168s 164ms/step - loss: 0.2810 - accuracy: 0.8750 - val_loss: 0.3269 - val_accuracy: 0.8677 - lr: 1.0000e-04\n",
            "Epoch 23/200\n",
            "1024/1024 [==============================] - 148s 144ms/step - loss: 0.2811 - accuracy: 0.8749 - val_loss: 0.3271 - val_accuracy: 0.8677 - lr: 1.0000e-04\n",
            "Epoch 24/200\n",
            "1024/1024 [==============================] - 149s 145ms/step - loss: 0.2809 - accuracy: 0.8750 - val_loss: 0.3268 - val_accuracy: 0.8676 - lr: 1.0000e-04\n",
            "Epoch 25/200\n",
            "1024/1024 [==============================] - 168s 164ms/step - loss: 0.2808 - accuracy: 0.8750 - val_loss: 0.3277 - val_accuracy: 0.8676 - lr: 1.0000e-04\n"
          ]
        },
        {
          "output_type": "execute_result",
          "data": {
            "text/plain": [
              "<keras.callbacks.History at 0x7fdc9d0ae0d0>"
            ]
          },
          "metadata": {},
          "execution_count": 40
        }
      ],
      "source": [
        "#fit model\n",
        "model.fit(train_padded_sequences, train_labels_encoded, epochs = 200,\n",
        "          validation_data = (valid_padded_sequences, valid_labels_encoded), \n",
        "          callbacks = [keras.callbacks.EarlyStopping('val_loss', patience = 10, restore_best_weights = True),\n",
        "                       keras.callbacks.ReduceLROnPlateau('val_loss', factor = 0.1, patience = 5)], steps_per_epoch = 1024)\n"
      ]
    },
    {
      "cell_type": "code",
      "execution_count": null,
      "metadata": {
        "id": "5QZxcYLF5dQA",
        "colab": {
          "base_uri": "https://localhost:8080/",
          "height": 374
        },
        "outputId": "22cc1d6c-1231-4b2d-9258-1a36e41aeb6a"
      },
      "outputs": [
        {
          "output_type": "display_data",
          "data": {
            "text/plain": [
              "<Figure size 648x432 with 1 Axes>"
            ],
            "image/png": "[encoded data removed]"
          },
          "metadata": {
            "needs_background": "light"
          }
        }
      ],
      "source": [
        "#plot model training loss\n",
        "pd.DataFrame(model.history.history)[['loss', 'val_loss']].plot(figsize = (9, 6), linewidth = 3)\n",
        "plt.grid(linestyle = '--', linewidth = 2)\n",
        "plt.show()\n"
      ]
    },
    {
      "cell_type": "code",
      "execution_count": null,
      "metadata": {
        "id": "kY27HrmE5fID",
        "colab": {
          "base_uri": "https://localhost:8080/",
          "height": 378
        },
        "outputId": "d3ec713b-eb26-4411-fcfb-72d9ebf4ac7f"
      },
      "outputs": [
        {
          "output_type": "display_data",
          "data": {
            "text/plain": [
              "<Figure size 648x432 with 1 Axes>"
            ],
            "image/png": "[encoded data removed]"
          },
          "metadata": {
            "needs_background": "light"
          }
        }
      ],
      "source": [
        "#plot model training accuracy\n",
        "pd.DataFrame(model.history.history)[['accuracy', 'val_accuracy']].plot(figsize = (9, 6), linewidth = 3)\n",
        "plt.grid(linestyle = '--', linewidth = 2)\n",
        "plt.ylim(0,1)\n",
        "plt.show()\n"
      ]
    },
    {
      "cell_type": "code",
      "execution_count": null,
      "metadata": {
        "colab": {
          "base_uri": "https://localhost:8080/"
        },
        "id": "Hw3pfV6J5kc3",
        "outputId": "e6e5779f-4e84-418c-f8e0-47b53b8e495f"
      },
      "outputs": [
        {
          "output_type": "stream",
          "name": "stdout",
          "text": [
            "Training Set Evaluation:\n",
            "\tLoss: 0.2765\tAccuracy: 87.59%\n",
            "Training Set Evaluation:\n",
            "\tLoss: 0.3159\tAccuracy: 86.65%\n"
          ]
        }
      ],
      "source": [
        "#model evaluation\n",
        "train_set_eval = model.evaluate(train_padded_sequences, train_labels_encoded, verbose = 0)\n",
        "valid_set_eval = model.evaluate(valid_padded_sequences, valid_labels_encoded, verbose = 0)\n",
        "\n",
        "print(f'Training Set Evaluation:\\n\\tLoss: {round(train_set_eval[0],4)}\\tAccuracy: {100*round(train_set_eval[1],4)}%')\n",
        "print(f'Training Set Evaluation:\\n\\tLoss: {round(valid_set_eval[0],4)}\\tAccuracy: {100*round(valid_set_eval[1],4)}%')\n"
      ]
    },
    {
      "cell_type": "code",
      "source": [
        "#def prediction\n",
        "def predict_text(#define input text and model\n",
        "                 input_text, tokenizer, model, \n",
        "                 #define tokenizer maximum length of sequence\n",
        "                 maxlen_seq, padding = 'post', truncating = 'post'\n",
        "                 ):\n",
        "    \n",
        "    #prediction\n",
        "    text = str(input_text)\n",
        "    sequence = tokenizer.texts_to_sequences([text])\n",
        "    sequence = keras.preprocessing.sequence.pad_sequences(sequence, maxlen = maxlen_seq,\n",
        "                                                          padding = padding, truncating = truncating)\n",
        "    predict = model.predict(sequence)\n",
        "    \n",
        "    return predict\n"
      ],
      "metadata": {
        "id": "2NK3bNEyqvkB"
      },
      "execution_count": null,
      "outputs": []
    },
    {
      "cell_type": "code",
      "source": [
        "#positive prediction\n",
        "predict_text(#define input text and model\n",
        "             input_text = 'محصول با کیفیت و خیلی خوبی هست و از خریدم راضی هستم', tokenizer = tokenizer, model = model,\n",
        "             #define tokenizer maximum length of sequence\n",
        "             maxlen_seq = 150, padding = 'post', truncating = 'post')\n"
      ],
      "metadata": {
        "colab": {
          "base_uri": "https://localhost:8080/"
        },
        "id": "iHi1QKwV77sD",
        "outputId": "4e9fd054-3329-471e-e92a-6be37fdbc1dc"
      },
      "execution_count": null,
      "outputs": [
        {
          "output_type": "execute_result",
          "data": {
            "text/plain": [
              "array([[0.945202]], dtype=float32)"
            ]
          },
          "metadata": {},
          "execution_count": 46
        }
      ]
    },
    {
      "cell_type": "code",
      "source": [
        "#negative prediction\n",
        "predict_text(#define input text and model\n",
        "             input_text = 'محصول بی کیفیتی هست و از خریدم راضی نیستم', tokenizer = tokenizer, model = model,\n",
        "             #define tokenizer maximum length of sequence\n",
        "             maxlen_seq = 150, padding = 'post', truncating = 'post')\n"
      ],
      "metadata": {
        "colab": {
          "base_uri": "https://localhost:8080/"
        },
        "id": "hivawu0a8Ja7",
        "outputId": "50ed9184-9e3a-40af-db7e-8ef8934712fe"
      },
      "execution_count": null,
      "outputs": [
        {
          "output_type": "execute_result",
          "data": {
            "text/plain": [
              "array([[1.2300254e-08]], dtype=float32)"
            ]
          },
          "metadata": {},
          "execution_count": 47
        }
      ]
    },
    {
      "cell_type": "code",
      "execution_count": null,
      "metadata": {
        "id": "9nlIngR46DCM"
      },
      "outputs": [],
      "source": [
        "#save model\n",
        "model.save('/content/model.h5')\n"
      ]
    }
  ],
  "metadata": {
    "accelerator": "GPU",
    "colab": {
      "collapsed_sections": [],
      "name": "digikala-comments-text-classification.ipynb",
      "provenance": [],
      "include_colab_link": true
    },
    "gpuClass": "standard",
    "kernelspec": {
      "display_name": "Python 3",
      "name": "python3"
    },
    "language_info": {
      "name": "python"
    }
  },
  "nbformat": 4,
  "nbformat_minor": 0
}
