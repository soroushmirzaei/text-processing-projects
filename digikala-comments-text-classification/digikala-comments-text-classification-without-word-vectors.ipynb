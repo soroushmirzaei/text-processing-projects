{
  "cells": [
    {
      "cell_type": "markdown",
      "metadata": {
        "id": "view-in-github",
        "colab_type": "text"
      },
      "source": [
        "<a href=\"https://colab.research.google.com/github/soroushmirzaei/text-processing-projects/blob/main/digikala-comments-text-classification/digikala-comments-text-classification-without-word-vectors.ipynb\" target=\"_parent\"><img src=\"https://colab.research.google.com/assets/colab-badge.svg\" alt=\"Open In Colab\"/></a>"
      ]
    },
    {
      "cell_type": "code",
      "execution_count": null,
      "metadata": {
        "id": "SIYC55FdPdC2"
      },
      "outputs": [],
      "source": [
        "#import requirement libraries\n",
        "import os\n",
        "import shutil\n",
        "\n",
        "#import dataset query libraries\n",
        "import csv\n",
        "import json\n",
        "\n",
        "#import mathematics statics libraries\n",
        "import random as rnd\n",
        "import numpy as np\n",
        "import pandas as pd\n",
        "\n",
        "#import visualization libraries\n",
        "import matplotlib.pyplot as plt\n",
        "import seaborn as sns\n",
        "\n",
        "#import machine learning deep learning libraries\n",
        "import tensorflow as tf\n",
        "import tensorflow_datasets as tfds\n",
        "from tensorflow import keras\n"
      ]
    },
    {
      "cell_type": "code",
      "execution_count": null,
      "metadata": {
        "id": "6SkBIh-h6ZzE"
      },
      "outputs": [],
      "source": [
        "#download stop-words dataset\n",
        "!wget -q https://raw.githubusercontent.com/soroushmirzaei/text-processing-projects/main/english-language-stop-words.txt\n",
        "!wget -q https://raw.githubusercontent.com/soroushmirzaei/text-processing-projects/main/persian-language-stop-words.txt\n",
        "\n",
        "#download filters-characters dataset\n",
        "!wget -q https://raw.githubusercontent.com/soroushmirzaei/text-processing-projects/main/english-language-filter-characters.txt\n",
        "!wget -q https://raw.githubusercontent.com/soroushmirzaei/text-processing-projects/main/persian-language-filter-characters.txt\n",
        "\n",
        "#download similar-characters dataset\n",
        "!wget -q https://raw.githubusercontent.com/soroushmirzaei/text-processing-projects/main/persian-language-similar-characters.json\n"
      ]
    },
    {
      "cell_type": "code",
      "execution_count": null,
      "metadata": {
        "id": "Cna6blsV2ZkZ"
      },
      "outputs": [],
      "source": [
        "#define filters-list function loader\n",
        "def filter_chars(file_path):\n",
        "    filter_chars = list()\n",
        "    with open(file_path, 'r') as filters_list_file:\n",
        "        for word in filters_list_file:\n",
        "            filter_chars.append(word.strip('\\n'))\n",
        "        filters_list_file.close()\n",
        "    return filter_chars\n",
        "\n",
        "#define stop-words function loader\n",
        "def stop_word(file_path):\n",
        "    stop_words = list()\n",
        "    with open(file_path, 'r') as stop_words_file:\n",
        "        for word in stop_words_file:\n",
        "            stop_words.append(word.strip('\\n'))\n",
        "        stop_words_file.close()\n",
        "    return stop_words\n",
        "\n",
        "#define similar-characters function loader\n",
        "def similar_chars(file_path):\n",
        "    with open(file_path, 'r') as similar_chars_file:\n",
        "        similar_chars = json.load(similar_chars_file)\n",
        "    return similar_chars\n"
      ]
    },
    {
      "cell_type": "code",
      "execution_count": null,
      "metadata": {
        "id": "bLhC44LW6TAd"
      },
      "outputs": [],
      "source": [
        "#load stop-words\n",
        "eng_stop_words = stop_word('english-language-stop-words.txt')\n",
        "per_stop_words = stop_word('persian-language-stop-words.txt')\n",
        "\n",
        "#load filters-characters\n",
        "eng_filter_characters = filter_chars('english-language-filter-characters.txt')\n",
        "per_filter_characters = filter_chars('persian-language-filter-characters.txt')\n",
        "\n",
        "#load similar-characters\n",
        "per_similar_characters = similar_chars('persian-language-similar-characters.json')\n"
      ]
    },
    {
      "cell_type": "code",
      "execution_count": null,
      "metadata": {
        "id": "39pSrmpdM5xg"
      },
      "outputs": [],
      "source": [
        "#define remove filters characters function\n",
        "def remove_filter(text, filters_list):\n",
        "    characters = list(text)\n",
        "    characters_without_filters = [character for character in characters if character not in filters_list]\n",
        "    text_without_filters = ''.join(characters_without_filters)\n",
        "    return text_without_filters\n",
        "\n",
        "#define remove texts stopwords function\n",
        "def remove_stopword(text, stop_words_list):\n",
        "    text = text.lower()\n",
        "    words_with_stopwords = text.split(' ')\n",
        "    words_without_stopwords = [word for word in words_with_stopwords if word not in stop_words_list]\n",
        "    text_without_stopwords = ' '.join(words_without_stopwords)\n",
        "    return text_without_stopwords\n",
        "\n",
        "#define similar characters modification function\n",
        "def similar_char(text, similar_chars_dict):\n",
        "    characters = list(text)\n",
        "    similar_characters_modified_list = [similar_chars_dict.get(character,character) for character in characters]\n",
        "    similar_characters_modified_text = ''.join(similar_characters_modified_list)\n",
        "    return similar_characters_modified_text\n"
      ]
    },
    {
      "cell_type": "code",
      "source": [
        "#define texts labels loader\n",
        "def text_labels_loader(#define data\n",
        "                       file_path, header = True, delimiter = ',',\n",
        "                       text_index = None, label_index = None,\n",
        "                       #define optional preprocessing\n",
        "                       use_remove_stopwords = False, stop_words_list = None,\n",
        "                       use_remove_filter = False, filters_chars_list = None,\n",
        "                       use_simchars_modifier = False, sim_chars_dict = None\n",
        "                       ):\n",
        "    \n",
        "    texts_list = list()\n",
        "    labels_list = list()\n",
        "\n",
        "    with open(file_path, 'r') as csv_file:\n",
        "        csv_reader = csv.reader(csv_file, delimiter = delimiter)\n",
        "        if header:\n",
        "            next(csv_reader)\n",
        "        for row in csv_reader:\n",
        "            text, label = row[text_index], row[label_index]\n",
        "            if use_remove_filter:\n",
        "                text = remove_filter(text, filters_chars_list)\n",
        "            if use_simchars_modifier:\n",
        "                text = similar_char(text, sim_chars_dict)\n",
        "            if use_remove_stopwords:\n",
        "                text = remove_stopword(text, stop_words_list)\n",
        "            texts_list.append(text)\n",
        "            labels_list.append(label)\n",
        "\n",
        "    return texts_list, labels_list\n"
      ],
      "metadata": {
        "id": "o5qU2Q6X8A7C"
      },
      "execution_count": null,
      "outputs": []
    },
    {
      "cell_type": "code",
      "execution_count": null,
      "metadata": {
        "id": "ahglS7lMWw9e"
      },
      "outputs": [],
      "source": [
        "texts_list, labels_list = text_labels_loader(#define data\n",
        "                                             file_path = '/content/digikala.csv', header = True, delimiter = ',',\n",
        "                                             text_index = 6, label_index = 7,\n",
        "                                             #define optional preprocessing\n",
        "                                             use_remove_filter = True, filters_chars_list = per_filter_characters,\n",
        "                                             use_simchars_modifier = True, sim_chars_dict = per_similar_characters\n",
        "                                             )\n"
      ]
    },
    {
      "cell_type": "code",
      "source": [
        "#print out sample texts\n",
        "texts_list[:5]\n"
      ],
      "metadata": {
        "id": "hqVlKxr0EcFp",
        "colab": {
          "base_uri": "https://localhost:8080/"
        },
        "outputId": "3dd32122-0572-448c-c29a-33956ba26334"
      },
      "execution_count": null,
      "outputs": [
        {
          "output_type": "execute_result",
          "data": {
            "text/plain": [
              "['من کاملا با این محصول آشنا بودم و از خریدش مطمین بودم',\n",
              " 'به درد خاصی نمیخوره صرفا یکی دو روز باهاش سرگرمین بعد به عنوان یه ساعت معمولی ازش استفاده میکنین',\n",
              " 'در یک کلام به نسبت هزینه ای که میکنید کالمل ترین ساعت بازار رو دریافت میکنید',\n",
              " 'ساعت بسیار عالی و کاربردی هستمیخواستم برای دوستم هم بگیرم ولی به دلیل تفاوت قیمت زیاد از دیجی کالا نمیخرم',\n",
              " 'دقیقا مطابق آنچه انتظار می رفت بود ']"
            ]
          },
          "metadata": {},
          "execution_count": 10
        }
      ]
    },
    {
      "cell_type": "code",
      "source": [
        "#print out sample labels\n",
        "labels_list[:5]\n"
      ],
      "metadata": {
        "id": "Cc3UvCs4EhGE",
        "colab": {
          "base_uri": "https://localhost:8080/"
        },
        "outputId": "b0254a7d-1350-4c35-f727-3f9fbdbaa1af"
      },
      "execution_count": null,
      "outputs": [
        {
          "output_type": "execute_result",
          "data": {
            "text/plain": [
              "['1', '0', '0', '0', '1']"
            ]
          },
          "metadata": {},
          "execution_count": 11
        }
      ]
    },
    {
      "cell_type": "code",
      "source": [
        "#define split training validation set\n",
        "def train_valid_split(#define texts labels list\n",
        "                      texts_list, labels_list,\n",
        "                      #define training set size\n",
        "                      train_split_size = None\n",
        "                      ):\n",
        "\n",
        "    #shuffle texts labels list\n",
        "    texts_labels_zip = zip(texts_list, labels_list)\n",
        "    shuffle_texts_labels_zip = rnd.sample(list(texts_labels_zip), len(texts_list))\n",
        "    texts_list, labels_list = zip(*shuffle_texts_labels_zip)\n",
        "\n",
        "    train_size = int(train_split_size * len(texts_list))\n",
        "    #split train valid set\n",
        "    train_texts_list = texts_list[:train_size]    \n",
        "    train_labels_list = labels_list[:train_size]    \n",
        "\n",
        "    valid_texts_list = texts_list[train_size:]    \n",
        "    valid_labels_list = labels_list[train_size:]    \n",
        "\n",
        "    return train_texts_list, train_labels_list, valid_texts_list, valid_labels_list\n"
      ],
      "metadata": {
        "id": "hzPsSPv2E483"
      },
      "execution_count": null,
      "outputs": []
    },
    {
      "cell_type": "code",
      "source": [
        "train_texts_list, train_labels_list, valid_texts_list, valid_labels_list =  train_valid_split(#define texts labels list\n",
        "                                                                                              texts_list, labels_list,\n",
        "                                                                                              #define training set size\n",
        "                                                                                              train_split_size = 0.9\n",
        "                                                                                              )\n"
      ],
      "metadata": {
        "id": "8YT2Gr-dFUOl"
      },
      "execution_count": null,
      "outputs": []
    },
    {
      "cell_type": "code",
      "execution_count": null,
      "metadata": {
        "id": "wJ3p8PBDbFH2"
      },
      "outputs": [],
      "source": [
        "#define labels encoder\n",
        "def label_encoder(#define labels list and method\n",
        "                  labels_list,\n",
        "                  #define method binary, ordinal or onehot\n",
        "                  method, return_categories = True\n",
        "                  ):\n",
        "    \n",
        "    #ordinal and binary encoder method\n",
        "    if method in ['binary','ordinal']:\n",
        "        unique_labels = sorted(list(set(labels_list)))\n",
        "        labels_dict = {\n",
        "            label : int(unique_labels.index(label)) for label in unique_labels\n",
        "        }\n",
        "        labels = list(map(lambda label : labels_dict[label], labels_list))\n",
        "    \n",
        "    #one-hot encoder method\n",
        "    elif method in ['onehot']:\n",
        "        unique_labels = sorted(list(set(labels_list)))\n",
        "        labels_dict = {\n",
        "            label : int(unique_labels.index(label)) for label in unique_labels\n",
        "        }\n",
        "        labels_encoded = list()\n",
        "        for label in labels_list:\n",
        "            label_encoded = len(unique_labels)*[0]\n",
        "            label_number = labels_dict[label]\n",
        "            label_encoded[label_number] = 1\n",
        "            labels_encoded.append(label_encoded)\n",
        "        labels = labels_encoded\n",
        "\n",
        "    #convert list type to array\n",
        "    labels_encoded = np.array(labels)\n",
        "    \n",
        "    if return_categories:\n",
        "        return labels_encoded, labels_dict\n",
        "    else:\n",
        "        return labels_encoded\n",
        "        "
      ]
    },
    {
      "cell_type": "code",
      "execution_count": null,
      "metadata": {
        "id": "oKVb5izSXDlD"
      },
      "outputs": [],
      "source": [
        "train_labels_encoded, train_labels_dict = label_encoder(train_labels_list, 'ordinal')\n",
        "valid_labels_encoded, valid_labels_dict = label_encoder(valid_labels_list, 'ordinal')\n"
      ]
    },
    {
      "cell_type": "code",
      "execution_count": null,
      "metadata": {
        "id": "xws6QVTWPwbW"
      },
      "outputs": [],
      "source": [
        "#define tokenizer and sequences and padding sequences\n",
        "def pad_sequences(#define training and validation set\n",
        "                  train_texts, valid_texts,\n",
        "                  #define vocab size and out of vocab word\n",
        "                  vocab_size = None, oov_word = None,\n",
        "                  #define filter characters list\n",
        "                  use_modified_filters = False, filters_list = None,\n",
        "                  #define sequence length, padding and truncating\n",
        "                  sequence_len = None, padding_point = 'post', truncating_point = 'post',\n",
        "                  #define json tokenizer\n",
        "                  save_tokenizer_json = False, tokenizer_filepath = None\n",
        "                  ):\n",
        "    \n",
        "    #define tokenizer and fit\n",
        "    from keras.preprocessing.text import Tokenizer\n",
        "    if use_modified_filters:\n",
        "        filters = ''.join(filters_list)\n",
        "    else:\n",
        "        filters = '!\"#$%&()*+,-./:;<=>?@[\\\\]^_`{|}~\\t\\n'\n",
        "    tokenizer = Tokenizer(num_words = vocab_size, oov_token = oov_word,\n",
        "                          filters = filters)\n",
        "    tokenizer.fit_on_texts(train_texts)\n",
        "    word_index = tokenizer.word_index\n",
        "\n",
        "    if save_tokenizer_json:\n",
        "        with open(tokenizer_filepath+'.json','w') as tokenizer_file:\n",
        "            json.dump(tokenizer.to_json(), tokenizer_file)\n",
        "\n",
        "    #define training validation texts to sequences\n",
        "    train_sequences = tokenizer.texts_to_sequences(train_texts)\n",
        "    valid_sequences = tokenizer.texts_to_sequences(valid_texts)\n",
        "\n",
        "    #define training validation pad sequences\n",
        "    from keras.preprocessing.sequence import pad_sequences\n",
        "    train_padded_sequences = pad_sequences(train_sequences, maxlen = sequence_len,\n",
        "                                           padding = padding_point, truncating = truncating_point)\n",
        "    valid_padded_sequences = pad_sequences(valid_sequences, maxlen = sequence_len,\n",
        "                                           padding = padding_point, truncating = truncating_point)\n",
        "\n",
        "    return train_padded_sequences, valid_padded_sequences, tokenizer, word_index\n"
      ]
    },
    {
      "cell_type": "code",
      "execution_count": null,
      "metadata": {
        "id": "slxiMi6ZXYEx"
      },
      "outputs": [],
      "source": [
        "train_padded_sequences, valid_padded_sequences, tokenizer, word_index = pad_sequences(#define training and validation set\n",
        "                                                                                      train_texts_list, valid_texts_list,\n",
        "                                                                                      #define vocab size and out of vocab word\n",
        "                                                                                      vocab_size = None, oov_word = '<oov>',\n",
        "                                                                                      #define filter characters list\n",
        "                                                                                      use_modified_filters = False, filters_list = None,\n",
        "                                                                                      #define sequence length, padding and truncating\n",
        "                                                                                      sequence_len = 150)"
      ]
    },
    {
      "cell_type": "code",
      "execution_count": null,
      "metadata": {
        "id": "dlRqac9W2DWL"
      },
      "outputs": [],
      "source": [
        "#define model\n",
        "def create_model(#define input shape\n",
        "                 input_shape = None,\n",
        "                 #define embedding layer parameters\n",
        "                 use_pretraind_embd = False, vocab_size = None, embd_dim = None,\n",
        "                 sequence_len = None, embed_weights = None,\n",
        "                 #define type of layer and parameters\n",
        "                 use_lstm = False, use_gru = False, use_conv = False,\n",
        "                 #define lstm layers parameters\n",
        "                 lstm_layers_num = None, lstm_layers_units = None,\n",
        "                 #define gru layers parameters\n",
        "                 gru_layers_num = None, gru_layers_units = None,\n",
        "                 #define convolution layers parameters\n",
        "                 conv_layers_num = None, conv_layers_filters = None, conv_layers_kernel = None,\n",
        "                 #define convolution layers sub layers\n",
        "                 use_max_pool = False, max_pool_size = None,\n",
        "                 #define dense layer feeder\n",
        "                 use_global_max_pool = False, use_global_avg_pool = False, use_flatten = False,\n",
        "                 use_feeder_dropout = False, feeder_dropout_ratio = None,\n",
        "                 #define dense head layers\n",
        "                 use_dense_layers = True, dense_layers_num = None, dense_layers_units = None,\n",
        "                 #define dense layers dropout parameters\n",
        "                 use_dense_dropout = False, dense_dropout_ratio = None,\n",
        "                 #define output layer parameters\n",
        "                 output_layer_unit = None, output_layer_activation = None,\n",
        "                 #define model compiler parameters\n",
        "                 optimizer = None, loss = None, metrics = None\n",
        "                 ):\n",
        "    \n",
        "    #define input layer\n",
        "    input = keras.Input(shape = input_shape)\n",
        "\n",
        "    #define embedding layer and parameters\n",
        "    if use_pretraind_embd:\n",
        "        out = keras.layers.Embedding(input_dim = vocab_size, output_dim = embd_dim, input_length = sequence_len,\n",
        "                                     weights = [embed_weights], trainable = False)(input)\n",
        "    else:\n",
        "        out = keras.layers.Embedding(input_dim = vocab_size, output_dim = embd_dim, input_length = sequence_len)(input)\n",
        "\n",
        "    #define type of layer and parameters\n",
        "    #lstm type layers\n",
        "    if use_lstm:\n",
        "        sequence_return = (lstm_layers_num - 1)*[True]\n",
        "        sequence_return.append(False)\n",
        "        for layer_num in range(lstm_layers_num):\n",
        "            out = keras.layers.Bidirectional(keras.layers.LSTM(lstm_layers_units[layer_num],\n",
        "                                                               return_sequences = sequence_return[layer_num]))(out)\n",
        "\n",
        "    #gru type layers\n",
        "    elif use_gru:\n",
        "        sequence_return = (gru_layers_num - 1)*[True]\n",
        "        sequence_return.append(False)\n",
        "        for layer_num in range(gru_layers_num):\n",
        "            out = keras.layers.Bidirectional(keras.layers.GRU(gru_layers_units[layer_num],\n",
        "                                                              return_sequences = sequence_return[layer_num]))(out)\n",
        "    \n",
        "    #convolution type layer\n",
        "    elif use_conv:\n",
        "        for layer_num in range(conv_layers_num):\n",
        "            out = keras.layers.Conv1D(filters = conv_layers_filters[layer_num], kernel_size = conv_layers_kernel[layer_num],\n",
        "                                      activation = 'relu')(out)\n",
        "            if use_max_pool[layer_num]:\n",
        "                out = keras.layers.MaxPool1D(max_pool_size[layer_num])(out)\n",
        "\n",
        "\n",
        "    #dense layers feeder layer\n",
        "    #global max pool type layer\n",
        "    if use_global_max_pool:\n",
        "        out = keras.layers.GlobalMaxPooling1D()(out)\n",
        "        \n",
        "    #global average pool type layer\n",
        "    elif use_global_avg_pool:\n",
        "        out = keras.layers.GlobalAveragePooling1D()(out)\n",
        "\n",
        "    #flatten type layer\n",
        "    elif use_flatten:\n",
        "        out = keras.layers.Flatten()(out)\n",
        "\n",
        "    #define feeder dropout layer\n",
        "    if use_feeder_dropout:\n",
        "        out = keras.layers.Dropout(feeder_dropout_ratio)(out)\n",
        "\n",
        "\n",
        "    #define dense head layers\n",
        "    if use_dense_layers:\n",
        "        for layer_num in range(dense_layers_num):\n",
        "            out = keras.layers.Dense(dense_layers_units[layer_num], activation = 'relu')(out)\n",
        "            if use_dense_dropout[layer_num]:\n",
        "                out = keras.layers.Dropout(dense_dropout_ratio[layer_num])(out)\n",
        "    \n",
        "    #define output layer\n",
        "    output = keras.layers.Dense(output_layer_unit, activation = output_layer_activation)(out)\n",
        "\n",
        "    #define model\n",
        "    model = keras.models.Model(inputs = input, outputs = output)\n",
        "\n",
        "\n",
        "    #compile model\n",
        "    model.compile(optimizer = optimizer,\n",
        "                  loss = loss,\n",
        "                  metrics = metrics)\n",
        "    \n",
        "    return model\n",
        "    "
      ]
    },
    {
      "cell_type": "code",
      "execution_count": null,
      "metadata": {
        "id": "Cfnaso8ub6ZQ"
      },
      "outputs": [],
      "source": [
        "#create model\n",
        "model = create_model(#define input shape\n",
        "                     input_shape = 150,\n",
        "                     #define embedding layer parameters\n",
        "                     use_pretraind_embd = False, vocab_size = len(word_index), embd_dim = 128,\n",
        "                     sequence_len = 150, embed_weights = None,\n",
        "                     #define type of layer and parameters\n",
        "                     use_lstm = False, use_gru = False, use_conv = True,\n",
        "                     #define lstm layers parameters\n",
        "                     lstm_layers_num = None, lstm_layers_units = None,\n",
        "                     #define gru layers parameters\n",
        "                     gru_layers_num = None, gru_layers_units = None,\n",
        "                     #define convolution layers parameters\n",
        "                     conv_layers_num = 2, conv_layers_filters = [64, 64], conv_layers_kernel = [5, 5],\n",
        "                     #define convolution layers sub layers\n",
        "                     use_max_pool = [False, False], max_pool_size = None,\n",
        "                     #define dense layer feeder\n",
        "                     use_global_max_pool = False, use_global_avg_pool = True, use_flatten = False,\n",
        "                     use_feeder_dropout = True, feeder_dropout_ratio = 0.3,\n",
        "                     #define dense head layers\n",
        "                     use_dense_layers = True, dense_layers_num = 2, dense_layers_units = [64, 64],\n",
        "                     #define dense layers dropout parameters\n",
        "                     use_dense_dropout = [True, True], dense_dropout_ratio = [0.5, 0.5],\n",
        "                     #define output layer parameters\n",
        "                     output_layer_unit = 1, output_layer_activation = 'sigmoid',\n",
        "                     #define model compiler parameters\n",
        "                     optimizer = keras.optimizers.RMSprop(0.01), loss = 'binary_crossentropy', metrics = 'accuracy'\n",
        "                     )"
      ]
    },
    {
      "cell_type": "code",
      "execution_count": null,
      "metadata": {
        "id": "lSMkY1fFeVXT",
        "colab": {
          "base_uri": "https://localhost:8080/"
        },
        "outputId": "06c2db99-4ccd-40c1-d037-54402448df1c"
      },
      "outputs": [
        {
          "output_type": "stream",
          "name": "stdout",
          "text": [
            "Model: \"model\"\n",
            "________________________________________________________________________________________________________________________\n",
            " Layer (type)                                         Output Shape                                    Param #           \n",
            "========================================================================================================================\n",
            " input_1 (InputLayer)                                 [(None, 150)]                                   0                 \n",
            "                                                                                                                        \n",
            " embedding (Embedding)                                (None, 150, 128)                                29356672          \n",
            "                                                                                                                        \n",
            " conv1d (Conv1D)                                      (None, 146, 64)                                 41024             \n",
            "                                                                                                                        \n",
            " conv1d_1 (Conv1D)                                    (None, 142, 64)                                 20544             \n",
            "                                                                                                                        \n",
            " global_average_pooling1d (GlobalAveragePooling1D)    (None, 64)                                      0                 \n",
            "                                                                                                                        \n",
            " dropout (Dropout)                                    (None, 64)                                      0                 \n",
            "                                                                                                                        \n",
            " dense (Dense)                                        (None, 64)                                      4160              \n",
            "                                                                                                                        \n",
            " dropout_1 (Dropout)                                  (None, 64)                                      0                 \n",
            "                                                                                                                        \n",
            " dense_1 (Dense)                                      (None, 64)                                      4160              \n",
            "                                                                                                                        \n",
            " dropout_2 (Dropout)                                  (None, 64)                                      0                 \n",
            "                                                                                                                        \n",
            " dense_2 (Dense)                                      (None, 1)                                       65                \n",
            "                                                                                                                        \n",
            "========================================================================================================================\n",
            "Total params: 29,426,625\n",
            "Trainable params: 29,426,625\n",
            "Non-trainable params: 0\n",
            "________________________________________________________________________________________________________________________\n"
          ]
        }
      ],
      "source": [
        "#model summary\n",
        "model.summary(120)\n"
      ]
    },
    {
      "cell_type": "code",
      "execution_count": null,
      "metadata": {
        "id": "UxgR_Rm2ehyg",
        "colab": {
          "base_uri": "https://localhost:8080/"
        },
        "outputId": "f3f8d55a-ddc7-4c12-9775-b75a90f5c6a4"
      },
      "outputs": [
        {
          "output_type": "stream",
          "name": "stdout",
          "text": [
            "Epoch 1/200\n",
            "1024/1024 [==============================] - 143s 126ms/step - loss: 0.4144 - accuracy: 0.8159 - val_loss: 0.3354 - val_accuracy: 0.8526 - lr: 0.0100\n",
            "Epoch 2/200\n",
            "1024/1024 [==============================] - 133s 130ms/step - loss: 0.3224 - accuracy: 0.8590 - val_loss: 0.3011 - val_accuracy: 0.8637 - lr: 0.0100\n",
            "Epoch 3/200\n",
            "1024/1024 [==============================] - 114s 111ms/step - loss: 0.2978 - accuracy: 0.8704 - val_loss: 0.2910 - val_accuracy: 0.8688 - lr: 0.0100\n",
            "Epoch 4/200\n",
            "1024/1024 [==============================] - 134s 130ms/step - loss: 0.2833 - accuracy: 0.8772 - val_loss: 0.2898 - val_accuracy: 0.8719 - lr: 0.0100\n",
            "Epoch 5/200\n",
            "1024/1024 [==============================] - 115s 112ms/step - loss: 0.2728 - accuracy: 0.8822 - val_loss: 0.2859 - val_accuracy: 0.8719 - lr: 0.0100\n",
            "Epoch 6/200\n",
            "1024/1024 [==============================] - 134s 131ms/step - loss: 0.2648 - accuracy: 0.8862 - val_loss: 0.2851 - val_accuracy: 0.8718 - lr: 0.0100\n",
            "Epoch 7/200\n",
            "1024/1024 [==============================] - 113s 110ms/step - loss: 0.2574 - accuracy: 0.8898 - val_loss: 0.2875 - val_accuracy: 0.8740 - lr: 0.0100\n",
            "Epoch 8/200\n",
            "1024/1024 [==============================] - 113s 110ms/step - loss: 0.2516 - accuracy: 0.8926 - val_loss: 0.2878 - val_accuracy: 0.8733 - lr: 0.0100\n",
            "Epoch 9/200\n",
            "1024/1024 [==============================] - 113s 110ms/step - loss: 0.2458 - accuracy: 0.8954 - val_loss: 0.2849 - val_accuracy: 0.8743 - lr: 0.0100\n",
            "Epoch 10/200\n",
            "1024/1024 [==============================] - 113s 110ms/step - loss: 0.2406 - accuracy: 0.8979 - val_loss: 0.2959 - val_accuracy: 0.8741 - lr: 0.0100\n",
            "Epoch 11/200\n",
            "1024/1024 [==============================] - 113s 110ms/step - loss: 0.2355 - accuracy: 0.9004 - val_loss: 0.2981 - val_accuracy: 0.8739 - lr: 0.0100\n",
            "Epoch 12/200\n",
            "1024/1024 [==============================] - 113s 110ms/step - loss: 0.2307 - accuracy: 0.9027 - val_loss: 0.2934 - val_accuracy: 0.8747 - lr: 0.0100\n",
            "Epoch 13/200\n",
            "1024/1024 [==============================] - 113s 110ms/step - loss: 0.2261 - accuracy: 0.9047 - val_loss: 0.2991 - val_accuracy: 0.8743 - lr: 0.0100\n",
            "Epoch 14/200\n",
            "1024/1024 [==============================] - 113s 110ms/step - loss: 0.2219 - accuracy: 0.9066 - val_loss: 0.2934 - val_accuracy: 0.8752 - lr: 0.0100\n",
            "Epoch 15/200\n",
            "1024/1024 [==============================] - 134s 131ms/step - loss: 0.2003 - accuracy: 0.9148 - val_loss: 0.3127 - val_accuracy: 0.8757 - lr: 1.0000e-03\n",
            "Epoch 16/200\n",
            "1024/1024 [==============================] - 114s 111ms/step - loss: 0.1942 - accuracy: 0.9174 - val_loss: 0.3203 - val_accuracy: 0.8760 - lr: 1.0000e-03\n",
            "Epoch 17/200\n",
            "1024/1024 [==============================] - 134s 131ms/step - loss: 0.1909 - accuracy: 0.9189 - val_loss: 0.3372 - val_accuracy: 0.8757 - lr: 1.0000e-03\n",
            "Epoch 18/200\n",
            "1024/1024 [==============================] - 134s 131ms/step - loss: 0.1883 - accuracy: 0.9199 - val_loss: 0.3347 - val_accuracy: 0.8757 - lr: 1.0000e-03\n",
            "Epoch 19/200\n",
            "1024/1024 [==============================] - 114s 111ms/step - loss: 0.1860 - accuracy: 0.9209 - val_loss: 0.3352 - val_accuracy: 0.8756 - lr: 1.0000e-03\n"
          ]
        },
        {
          "output_type": "execute_result",
          "data": {
            "text/plain": [
              "<keras.callbacks.History at 0x7f651ff0eed0>"
            ]
          },
          "metadata": {},
          "execution_count": 21
        }
      ],
      "source": [
        "#fit model\n",
        "model.fit(train_padded_sequences, train_labels_encoded, epochs = 200,\n",
        "          validation_data = (valid_padded_sequences, valid_labels_encoded), \n",
        "          callbacks = [keras.callbacks.EarlyStopping('val_loss', patience = 10, restore_best_weights = True),\n",
        "                       keras.callbacks.ReduceLROnPlateau('val_loss', factor = 0.1, patience = 5)], steps_per_epoch = 1024)\n"
      ]
    },
    {
      "cell_type": "code",
      "execution_count": null,
      "metadata": {
        "id": "5QZxcYLF5dQA",
        "colab": {
          "base_uri": "https://localhost:8080/",
          "height": 374
        },
        "outputId": "3f47e7a6-13ab-4c44-ba74-1bc581ab1732"
      },
      "outputs": [
        {
          "output_type": "display_data",
          "data": {
            "text/plain": [
              "<Figure size 648x432 with 1 Axes>"
            ],
            "image/png": "[encoded data removed]"
          },
          "metadata": {
            "needs_background": "light"
          }
        }
      ],
      "source": [
        "#plot model training loss\n",
        "pd.DataFrame(model.history.history)[['loss', 'val_loss']].plot(figsize = (9, 6), linewidth = 3)\n",
        "plt.grid(linestyle = '--', linewidth = 2)\n",
        "plt.show()\n"
      ]
    },
    {
      "cell_type": "code",
      "execution_count": null,
      "metadata": {
        "id": "kY27HrmE5fID",
        "colab": {
          "base_uri": "https://localhost:8080/",
          "height": 378
        },
        "outputId": "2e3e963c-77d6-4d71-f043-b0e200fb6e55"
      },
      "outputs": [
        {
          "output_type": "display_data",
          "data": {
            "text/plain": [
              "<Figure size 648x432 with 1 Axes>"
            ],
            "image/png": "[encoded data removed]"
          },
          "metadata": {
            "needs_background": "light"
          }
        }
      ],
      "source": [
        "#plot model training accuracy\n",
        "pd.DataFrame(model.history.history)[['accuracy', 'val_accuracy']].plot(figsize = (9, 6), linewidth = 3)\n",
        "plt.grid(linestyle = '--', linewidth = 2)\n",
        "plt.ylim(0,1)\n",
        "plt.show()\n"
      ]
    },
    {
      "cell_type": "code",
      "execution_count": null,
      "metadata": {
        "id": "Hw3pfV6J5kc3",
        "colab": {
          "base_uri": "https://localhost:8080/"
        },
        "outputId": "952ebfd0-d81f-4d7e-99ca-2956ac96504f"
      },
      "outputs": [
        {
          "output_type": "stream",
          "name": "stdout",
          "text": [
            "Training Set Evaluation:\n",
            "\tLoss: 0.2271\tAccuracy: 90.45%\n",
            "Training Set Evaluation:\n",
            "\tLoss: 0.2849\tAccuracy: 87.0%\n"
          ]
        }
      ],
      "source": [
        "#model evaluation\n",
        "train_set_eval = model.evaluate(train_padded_sequences, train_labels_encoded, verbose = 0, steps = 1024)\n",
        "valid_set_eval = model.evaluate(valid_padded_sequences, valid_labels_encoded, verbose = 0)\n",
        "\n",
        "print(f'Training Set Evaluation:\\n\\tLoss: {round(train_set_eval[0],4)}\\tAccuracy: {100*round(train_set_eval[1],4)}%')\n",
        "print(f'Training Set Evaluation:\\n\\tLoss: {round(valid_set_eval[0],4)}\\tAccuracy: {100*round(valid_set_eval[1],2)}%')\n"
      ]
    },
    {
      "cell_type": "code",
      "source": [
        "#def prediction\n",
        "def predict_text(#define input text and model\n",
        "                 input_text, tokenizer, model, \n",
        "                 #define tokenizer maximum length of sequence\n",
        "                 maxlen_seq, padding = 'post', truncating = 'post'\n",
        "                 ):\n",
        "    \n",
        "    #prediction\n",
        "    text = str(input_text)\n",
        "    sequence = tokenizer.texts_to_sequences([text])\n",
        "    sequence = keras.preprocessing.sequence.pad_sequences(sequence, maxlen = maxlen_seq,\n",
        "                                                          padding = padding, truncating = truncating)\n",
        "    predict = model.predict(sequence)\n",
        "    \n",
        "    return predict\n"
      ],
      "metadata": {
        "id": "2NK3bNEyqvkB"
      },
      "execution_count": null,
      "outputs": []
    },
    {
      "cell_type": "code",
      "source": [
        "#positive prediction\n",
        "predict_text(#define input text and model\n",
        "             input_text = 'محصول با کیفیت و خیلی خوبی هست و از خریدم راضی هستم', tokenizer = tokenizer, model = model,\n",
        "             #define tokenizer maximum length of sequence\n",
        "             maxlen_seq = 150, padding = 'post', truncating = 'post')\n"
      ],
      "metadata": {
        "id": "iHi1QKwV77sD",
        "colab": {
          "base_uri": "https://localhost:8080/"
        },
        "outputId": "34599cc6-7191-4b8d-f2dc-16e0b11c407f"
      },
      "execution_count": null,
      "outputs": [
        {
          "output_type": "execute_result",
          "data": {
            "text/plain": [
              "array([[0.9646224]], dtype=float32)"
            ]
          },
          "metadata": {},
          "execution_count": 30
        }
      ]
    },
    {
      "cell_type": "code",
      "source": [
        "#negative prediction\n",
        "predict_text(#define input text and model\n",
        "             input_text = 'محصول بی کیفیتی هست و از خریدم راضی نیستم', tokenizer = tokenizer, model = model,\n",
        "             #define tokenizer maximum length of sequence\n",
        "             maxlen_seq = 150, padding = 'post', truncating = 'post')\n"
      ],
      "metadata": {
        "id": "hivawu0a8Ja7",
        "colab": {
          "base_uri": "https://localhost:8080/"
        },
        "outputId": "0ab240f5-801b-4c5c-dbd6-63ae96426edb"
      },
      "execution_count": null,
      "outputs": [
        {
          "output_type": "execute_result",
          "data": {
            "text/plain": [
              "array([[0.0001145]], dtype=float32)"
            ]
          },
          "metadata": {},
          "execution_count": 31
        }
      ]
    },
    {
      "cell_type": "code",
      "execution_count": null,
      "metadata": {
        "id": "9nlIngR46DCM"
      },
      "outputs": [],
      "source": [
        "#save model\n",
        "model.save('/content/model.h5')\n"
      ]
    }
  ],
  "metadata": {
    "colab": {
      "collapsed_sections": [],
      "name": "digikala-comments-text-classification-without-word-vectors.ipynb",
      "provenance": [],
      "include_colab_link": true
    },
    "gpuClass": "standard",
    "kernelspec": {
      "display_name": "Python 3",
      "name": "python3"
    },
    "language_info": {
      "name": "python"
    },
    "accelerator": "GPU"
  },
  "nbformat": 4,
  "nbformat_minor": 0
}