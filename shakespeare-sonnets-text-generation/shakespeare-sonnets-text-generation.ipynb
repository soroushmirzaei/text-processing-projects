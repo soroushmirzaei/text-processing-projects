{
  "cells": [
    {
      "cell_type": "markdown",
      "metadata": {
        "id": "view-in-github",
        "colab_type": "text"
      },
      "source": [
        "<a href=\"https://colab.research.google.com/github/soroushmirzaei/text-processing-projects/blob/main/shakespeare-sonnets-text-generation/shakespeare-sonnets-text-generation.ipynb\" target=\"_parent\"><img src=\"https://colab.research.google.com/assets/colab-badge.svg\" alt=\"Open In Colab\"/></a>"
      ]
    },
    {
      "cell_type": "code",
      "execution_count": null,
      "metadata": {
        "id": "SIYC55FdPdC2"
      },
      "outputs": [],
      "source": [
        "#import requirement libraries\n",
        "import os\n",
        "import shutil\n",
        "\n",
        "#import dataset query libraries\n",
        "import csv\n",
        "import json\n",
        "\n",
        "#import mathematics statics libraries\n",
        "import random as rnd\n",
        "import numpy as np\n",
        "import pandas as pd\n",
        "\n",
        "#import visualization libraries\n",
        "import matplotlib.pyplot as plt\n",
        "import seaborn as sns\n",
        "\n",
        "#import machine learning deep learning libraries\n",
        "import tensorflow as tf\n",
        "from tensorflow import keras\n"
      ]
    },
    {
      "cell_type": "code",
      "source": [
        "#download dataset\n",
        "!gdown 108jAePKK4R3BVYBbYJZ32JWUwxeMg20K\n"
      ],
      "metadata": {
        "colab": {
          "base_uri": "https://localhost:8080/"
        },
        "id": "kaLj9-IliU3V",
        "outputId": "d414c110-0b03-43c7-a5a3-626a245f9344"
      },
      "execution_count": null,
      "outputs": [
        {
          "output_type": "stream",
          "name": "stdout",
          "text": [
            "Downloading...\n",
            "From: https://drive.google.com/uc?id=108jAePKK4R3BVYBbYJZ32JWUwxeMg20K\n",
            "To: /content/sonnets.txt\n",
            "\r  0% 0.00/93.6k [00:00<?, ?B/s]\r100% 93.6k/93.6k [00:00<00:00, 57.1MB/s]\n"
          ]
        }
      ]
    },
    {
      "cell_type": "code",
      "execution_count": null,
      "metadata": {
        "id": "6SkBIh-h6ZzE"
      },
      "outputs": [],
      "source": [
        "#download filters-characters dataset\n",
        "!wget -q https://raw.githubusercontent.com/soroushmirzaei/text-processing-projects/main/english-language-filter-characters.txt\n",
        "!wget -q https://raw.githubusercontent.com/soroushmirzaei/text-processing-projects/main/persian-language-filter-characters.txt\n",
        "\n",
        "#download similar-characters dataset\n",
        "!wget -q https://raw.githubusercontent.com/soroushmirzaei/text-processing-projects/main/persian-language-similar-characters.json\n"
      ]
    },
    {
      "cell_type": "code",
      "execution_count": null,
      "metadata": {
        "id": "Cna6blsV2ZkZ"
      },
      "outputs": [],
      "source": [
        "#define filters-list function loader\n",
        "def filter_chars(file_path):\n",
        "    filter_chars = list()\n",
        "    with open(file_path, 'r') as filters_list_file:\n",
        "        for word in filters_list_file:\n",
        "            filter_chars.append(word.strip('\\n'))\n",
        "        filters_list_file.close()\n",
        "    return filter_chars\n",
        "\n",
        "#define similar-characters function loader\n",
        "def similar_chars(file_path):\n",
        "    with open(file_path, 'r') as similar_chars_file:\n",
        "        similar_chars = json.load(similar_chars_file)\n",
        "    return similar_chars\n"
      ]
    },
    {
      "cell_type": "code",
      "execution_count": null,
      "metadata": {
        "id": "bLhC44LW6TAd"
      },
      "outputs": [],
      "source": [
        "#load filters-characters\n",
        "eng_filter_characters = filter_chars('english-language-filter-characters.txt')\n",
        "per_filter_characters = filter_chars('persian-language-filter-characters.txt')\n",
        "\n",
        "#load similar-characters\n",
        "per_similar_characters = similar_chars('persian-language-similar-characters.json')\n"
      ]
    },
    {
      "cell_type": "code",
      "execution_count": null,
      "metadata": {
        "id": "39pSrmpdM5xg"
      },
      "outputs": [],
      "source": [
        "#define remove filters characters function\n",
        "def remove_filter(text, filters_list):\n",
        "    characters = list(text)\n",
        "    characters_without_filters = [character for character in characters if character not in filters_list]\n",
        "    text_without_filters = ''.join(characters_without_filters)\n",
        "    return text_without_filters\n",
        "\n",
        "#define similar characters modification function\n",
        "def similar_char(text, similar_chars_dict):\n",
        "    characters = list(text)\n",
        "    similar_characters_modified_list = [similar_chars_dict.get(character,character) for character in characters]\n",
        "    similar_characters_modified_text = ''.join(similar_characters_modified_list)\n",
        "    return similar_characters_modified_text\n"
      ]
    },
    {
      "cell_type": "code",
      "execution_count": null,
      "metadata": {
        "id": "xs1sANpkK_xq"
      },
      "outputs": [],
      "source": [
        "#define texts and labels list loader for csv and json files\n",
        "def texts_loader(#define file path and type\n",
        "                 file_path, file_type,\n",
        "                 #define csv and txt files index for text and labels\n",
        "                 text_index = None, header_row = True, spliter_delimiter = None,\n",
        "                 #define json file keys for texts and labels\n",
        "                 text_key = None,\n",
        "                 #define preprocessing function for texts\n",
        "                 use_filter_remover = False, filters_list = None,\n",
        "                 use_similarchars_modifier = False, similarchars_dict = None\n",
        "                 ):\n",
        "    \n",
        "    #create empty texts labels list\n",
        "    texts_list = list()\n",
        "\n",
        "    #csv file loader\n",
        "    if file_type in ['csv']:\n",
        "        with open(file_path, 'r') as csv_file:\n",
        "            csv_reader = csv.reader(csv_file, delimiter = spliter_delimiter)\n",
        "            if header_row:\n",
        "                next(csv_reader)\n",
        "            for row in csv_reader:\n",
        "                text = row[text_index]\n",
        "                #optional modification function\n",
        "                if use_filter_remover:\n",
        "                    text = remove_filter(text, filters_list)\n",
        "                if use_similarchars_modifier:\n",
        "                    text = similar_char(text, similarchars_dict)\n",
        "                texts_list.append(text)\n",
        "        csv_file.close()\n",
        "\n",
        "    #txt file loader\n",
        "    if file_type in ['txt']:\n",
        "        with open(file_path, 'r') as txt_file:\n",
        "            for line in txt_file:\n",
        "                line = line.split(spliter_delimiter)\n",
        "                text = line[text_index]\n",
        "                #optional modification function\n",
        "                if use_filter_remover:\n",
        "                    text = remove_filter(text, filters_list)\n",
        "                if use_similarchars_modifier:\n",
        "                    text = similar_char(text, similarchars_dict)\n",
        "                texts_list.append(text.strip('\\n'))\n",
        "        txt_file.close()\n",
        "    \n",
        "    #json file loader\n",
        "    if file_type in ['json']:\n",
        "        with open(file_path, 'r') as json_file:\n",
        "            json_reader = json.load(json_file)\n",
        "            for item in json_reader:\n",
        "                text = item[text_key]\n",
        "                #optional modification function\n",
        "                if use_filter_remover:\n",
        "                    text = remove_filter(text, filters_list)\n",
        "                if use_similarchars_modifier:\n",
        "                    text = similar_char(text, similarchars_dict)\n",
        "                texts_list.append(text)\n",
        "        json_file.close()\n",
        "\n",
        "    return texts_list\n"
      ]
    },
    {
      "cell_type": "code",
      "source": [
        "texts = texts_loader(#define file path and type\n",
        "                     file_path = '/content/sonnets.txt', file_type = 'txt',\n",
        "                     #define csv and txt files index for text and labels\n",
        "                     text_index = 0, spliter_delimiter = '\\n',\n",
        "                     )"
      ],
      "metadata": {
        "id": "5j1v9kzdisxH"
      },
      "execution_count": null,
      "outputs": []
    },
    {
      "cell_type": "code",
      "source": [
        "texts[:5]"
      ],
      "metadata": {
        "colab": {
          "base_uri": "https://localhost:8080/"
        },
        "id": "t2SU7J1FjSKe",
        "outputId": "d1a65cd6-f8c7-45d1-d486-3dfc19a90a5d"
      },
      "execution_count": null,
      "outputs": [
        {
          "output_type": "execute_result",
          "data": {
            "text/plain": [
              "['FROM fairest creatures we desire increase,',\n",
              " \"That thereby beauty's rose might never die,\",\n",
              " 'But as the riper should by time decease,',\n",
              " 'His tender heir might bear his memory:',\n",
              " 'But thou, contracted to thine own bright eyes,']"
            ]
          },
          "metadata": {},
          "execution_count": 9
        }
      ]
    },
    {
      "cell_type": "code",
      "execution_count": null,
      "metadata": {
        "id": "xws6QVTWPwbW"
      },
      "outputs": [],
      "source": [
        "#define tokenizer and sequences and padding sequences\n",
        "def texts_labels_generator(#define texts\n",
        "                           texts_list,\n",
        "                           #define filter characters list\n",
        "                           use_modified_filters = False, filters_list = None,\n",
        "                           #define json tokenizer\n",
        "                           save_tokenizer_json = False, tokenizer_filepath = None\n",
        "                           ):\n",
        "    \n",
        "    #define tokenizer filters and fit on texts\n",
        "    from keras.preprocessing.text import Tokenizer\n",
        "    if use_modified_filters:\n",
        "        filters = ''.join(filters_list)\n",
        "    else:\n",
        "        filters = '!\"#$%&()*+,-./:;<=>?@[\\\\]^_`{|}~\\t\\n'\n",
        "\n",
        "    tokenizer = Tokenizer(filters = filters)\n",
        "    tokenizer.fit_on_texts(texts_list)\n",
        "\n",
        "    #define word_index\n",
        "    word_index = tokenizer.word_index\n",
        "    #for padding and counting out of vocab word\n",
        "    total_words = len(word_index) + 1\n",
        "\n",
        "    #save tokenizer json file\n",
        "    if save_tokenizer_json:\n",
        "        with open(tokenizer_filepath+'.json','w') as tokenizer_file:\n",
        "            json.dump(tokenizer.to_json(), tokenizer_file)\n",
        "\n",
        "    #define texts to sequences\n",
        "    texts_sequences = tokenizer.texts_to_sequences(texts_list)\n",
        "\n",
        "    #define phrase based sequences\n",
        "    phrases_sequences = list()\n",
        "\n",
        "    for text_sequence in texts_sequences:\n",
        "        for token_iter in range(1, len(text_sequence)):\n",
        "            phrase_sequence = text_sequence[:token_iter+1]\n",
        "            phrases_sequences.append(phrase_sequence)\n",
        "\n",
        "    #define maximum length of the sequences\n",
        "    maxlen = max([len(sequence) for sequence in phrases_sequences])\n",
        "\n",
        "    #define training validation pad sequences\n",
        "    from keras.preprocessing.sequence import pad_sequences\n",
        "    padded_sequences = pad_sequences(phrases_sequences, maxlen = maxlen, padding = 'pre')\n",
        "\n",
        "    #split texts and labels\n",
        "    texts = padded_sequences[:,:-1]\n",
        "    labels = padded_sequences[:,-1]\n",
        "\n",
        "    return texts, labels, maxlen, tokenizer, word_index\n"
      ]
    },
    {
      "cell_type": "code",
      "source": [
        "texts, labels, maxlen, tokenizer, word_index = texts_labels_generator(#define texts\n",
        "                                                                                   texts_list = texts,\n",
        "                                                                                   #define filter characters list\n",
        "                                                                                   use_modified_filters = False, filters_list = None,\n",
        "                                                                                   #define json tokenizer\n",
        "                                                                                   save_tokenizer_json = False, tokenizer_filepath = None)"
      ],
      "metadata": {
        "id": "wZEZqql-jcGp"
      },
      "execution_count": null,
      "outputs": []
    },
    {
      "cell_type": "code",
      "source": [
        "texts"
      ],
      "metadata": {
        "colab": {
          "base_uri": "https://localhost:8080/"
        },
        "id": "sGSfyqvijnDh",
        "outputId": "e8550193-91ac-4d96-e761-c1410ed7385c"
      },
      "execution_count": null,
      "outputs": [
        {
          "output_type": "execute_result",
          "data": {
            "text/plain": [
              "array([[   0,    0,    0, ...,    0,    0,   34],\n",
              "       [   0,    0,    0, ...,    0,   34,  417],\n",
              "       [   0,    0,    0, ...,   34,  417,  877],\n",
              "       ...,\n",
              "       [   0,    0,    0, ..., 3209,  493,  493],\n",
              "       [   0,    0,    0, ...,  493,  493, 3210],\n",
              "       [   0,    0,    0, ...,  493, 3210,   15]], dtype=int32)"
            ]
          },
          "metadata": {},
          "execution_count": 12
        }
      ]
    },
    {
      "cell_type": "code",
      "source": [
        "labels"
      ],
      "metadata": {
        "colab": {
          "base_uri": "https://localhost:8080/"
        },
        "id": "UlUz5XBTkXzd",
        "outputId": "f8c14eea-1381-49d0-9cc6-fc83c7d54a2b"
      },
      "execution_count": null,
      "outputs": [
        {
          "output_type": "execute_result",
          "data": {
            "text/plain": [
              "array([ 417,  877,  166, ..., 3210,   15,   14], dtype=int32)"
            ]
          },
          "metadata": {},
          "execution_count": 13
        }
      ]
    },
    {
      "cell_type": "code",
      "execution_count": null,
      "metadata": {
        "id": "wJ3p8PBDbFH2"
      },
      "outputs": [],
      "source": [
        "#define labels encoder\n",
        "def label_encoder(#define labels list and method\n",
        "                  labels_list,\n",
        "                  #define method binary, ordinal or onehot\n",
        "                  method, return_categories = True\n",
        "                  ):\n",
        "    \n",
        "    #ordinal and binary encoder method\n",
        "    if method in ['binary','ordinal']:\n",
        "        unique_labels = sorted(list(set(labels_list)))\n",
        "        labels_dict = {\n",
        "            label : int(unique_labels.index(label)) for label in unique_labels\n",
        "        }\n",
        "        labels = list(map(lambda label : labels_dict[label], labels_list))\n",
        "    \n",
        "    #one-hot encoder method\n",
        "    elif method in ['onehot']:\n",
        "        unique_labels = sorted(list(set(labels_list)))\n",
        "        labels_dict = {\n",
        "            label : int(unique_labels.index(label)) for label in unique_labels\n",
        "        }\n",
        "        labels_encoded = list()\n",
        "        for label in labels_list:\n",
        "            label_encoded = len(unique_labels)*[0]\n",
        "            label_number = labels_dict[label]\n",
        "            label_encoded[label_number] = 1\n",
        "            labels_encoded.append(label_encoded)\n",
        "        labels = labels_encoded\n",
        "\n",
        "    #convert list type to array\n",
        "    labels_encoded = np.array(labels)\n",
        "    \n",
        "    if return_categories:\n",
        "        return labels_encoded, labels_dict\n",
        "    else:\n",
        "        return labels_encoded\n",
        "        "
      ]
    },
    {
      "cell_type": "code",
      "source": [
        "labels_encoded, labels_dict = label_encoder(#define labels list and method\n",
        "                                            labels_list = labels,\n",
        "                                            #define method binary, ordinal or onehot\n",
        "                                            method = 'onehot', return_categories = True\n",
        "                                            )\n"
      ],
      "metadata": {
        "id": "VYsK1ZRQkk-S"
      },
      "execution_count": null,
      "outputs": []
    },
    {
      "cell_type": "code",
      "source": [
        "labels_encoded"
      ],
      "metadata": {
        "colab": {
          "base_uri": "https://localhost:8080/"
        },
        "id": "nxWfT2f9k3Yl",
        "outputId": "b9d82afc-c492-4c61-fe50-02e26579ec97"
      },
      "execution_count": null,
      "outputs": [
        {
          "output_type": "execute_result",
          "data": {
            "text/plain": [
              "array([[0, 0, 0, ..., 0, 0, 0],\n",
              "       [0, 0, 0, ..., 0, 0, 0],\n",
              "       [0, 0, 0, ..., 0, 0, 0],\n",
              "       ...,\n",
              "       [0, 0, 0, ..., 0, 0, 1],\n",
              "       [0, 0, 0, ..., 0, 0, 0],\n",
              "       [0, 0, 0, ..., 0, 0, 0]])"
            ]
          },
          "metadata": {},
          "execution_count": 16
        }
      ]
    },
    {
      "cell_type": "code",
      "source": [
        "labels_encoded.shape"
      ],
      "metadata": {
        "colab": {
          "base_uri": "https://localhost:8080/"
        },
        "id": "kRHnC1EAk5ke",
        "outputId": "5f1fe747-0066-4d69-99b0-31d4007c9b15"
      },
      "execution_count": null,
      "outputs": [
        {
          "output_type": "execute_result",
          "data": {
            "text/plain": [
              "(15462, 3083)"
            ]
          },
          "metadata": {},
          "execution_count": 17
        }
      ]
    },
    {
      "cell_type": "code",
      "source": [
        "#define pre-trained words dictionary loader\n",
        "def word_dict_loader(#define file path and file type\n",
        "                     file_path, file_type,\n",
        "                     #define txt and csv file type args\n",
        "                     word_index = None, vector_index = None, header = True, spliter_delimiter = None,\n",
        "                     use_word_spliter = False, word_spliter = None, word_split_index = None,\n",
        "                     #define json file type args\n",
        "                     word_key = None, vector_key = None,\n",
        "                     ):\n",
        "    \n",
        "    word_dict = dict()\n",
        "\n",
        "    #define txt vec loader\n",
        "    if file_type in ['txt', 'vec']:\n",
        "        with open(file_path, 'r') as word_dict_file:\n",
        "            if header:\n",
        "                next(word_dict_file)\n",
        "            for row in word_dict_file:\n",
        "                row = row.split(spliter_delimiter)\n",
        "                if use_word_spliter:\n",
        "                    word = row[word_index].split(word_spliter)[word_split_index]\n",
        "                else:\n",
        "                    word = row[word_index]\n",
        "                vectors = np.array(row[vector_index:], dtype = 'float32')\n",
        "                word_dict[word] = vectors\n",
        "\n",
        "    #define csv loader\n",
        "    elif file_type in ['csv']:\n",
        "        with open(file_path, 'r') as word_dict_file:\n",
        "            word_dict_file = csv.reader(word_dict_file, delimiter = spliter_delimiter)\n",
        "            if header:\n",
        "                next(word_dict_file)\n",
        "            for row in word_dict_file:\n",
        "                if use_word_spliter:\n",
        "                    word = row[word_index].split(word_spliter)[word_split_index]\n",
        "                else:\n",
        "                    word = row[word_index]\n",
        "                vectors = np.array(row[vector_index:], dtype = 'float32')\n",
        "                word_dict[word] = vectors\n",
        "                \n",
        "    #define json loader\n",
        "    elif file_type in ['json']:\n",
        "        with open(file_path, 'r') as word_dict_file:\n",
        "            word_dict_file = json.load(word_dict_file)\n",
        "            for item in word_dict_file:\n",
        "                word = item[word_key]\n",
        "                vectors = np.array(item[vector_key], dtype = 'float32')\n",
        "                word_dict[word] = vectors\n",
        "\n",
        "    #word dict params\n",
        "    word_dict_size = len(word_dict)\n",
        "    word_dict_dim = list(word_dict.values())[0].shape[0]\n",
        "\n",
        "    return word_dict, word_dict_size, word_dict_dim\n"
      ],
      "metadata": {
        "id": "brRWvKPSp4QN"
      },
      "execution_count": null,
      "outputs": []
    },
    {
      "cell_type": "code",
      "source": [
        "#define pre-trained embedding word vectors\n",
        "def embd_weights_loader(#define word dictionary and word index\n",
        "                        word_dict, word_index, dimension\n",
        "                        ):\n",
        "    \n",
        "    #create embedding weights\n",
        "    embed_weights = np.zeros([len(word_index)+1, dimension])\n",
        "\n",
        "    for word, index in word_index.items():\n",
        "        if word in word_dict:\n",
        "            embed_weights[index] = word_dict[word]\n",
        "\n",
        "    #embedding layer params\n",
        "    vocab_size = embed_weights.shape[0]\n",
        "    embed_dim = embed_weights.shape[1]\n",
        "\n",
        "    return embed_weights, vocab_size, embed_dim\n"
      ],
      "metadata": {
        "id": "fFr4DSbYpYjK"
      },
      "execution_count": null,
      "outputs": []
    },
    {
      "cell_type": "code",
      "execution_count": null,
      "metadata": {
        "id": "dlRqac9W2DWL"
      },
      "outputs": [],
      "source": [
        "#define model\n",
        "def create_model(#define input shape\n",
        "                 input_shape = None,\n",
        "                 #define embedding layer parameters\n",
        "                 use_pretraind_embd = False, vocab_size = None, embd_dim = None,\n",
        "                 sequence_len = None, embed_weights = None,\n",
        "                 #define type of layer and parameters\n",
        "                 use_lstm = False, use_gru = False, use_conv = False,\n",
        "                 #define lstm layers parameters\n",
        "                 lstm_layers_num = None, lstm_layers_units = None,\n",
        "                 #define gru layers parameters\n",
        "                 gru_layers_num = None, gru_layers_units = None,\n",
        "                 #define convolution layers parameters\n",
        "                 conv_layers_num = None, conv_layers_filters = None, conv_layers_kernel = None,\n",
        "                 #define convolution layers sub layers\n",
        "                 use_max_pool = False, max_pool_size = None,\n",
        "                 #define dense layer feeder\n",
        "                 use_global_max_pool = False, use_global_avg_pool = False, use_flatten = False,\n",
        "                 use_feeder_dropout = False, feeder_dropout_ratio = None,\n",
        "                 #define dense head layers\n",
        "                 use_dense_layer = False, dense_layers_num = None, dense_layers_units = None,\n",
        "                 #define dense layers dropout parameters\n",
        "                 use_dense_dropout = False, dense_dropout_ratio = None,\n",
        "                 #define output layer parameters\n",
        "                 output_layer_unit = None, output_layer_activation = None,\n",
        "                 #define model compiler parameters\n",
        "                 optimizer = None, loss = None, metrics = None\n",
        "                 ):\n",
        "    \n",
        "    #define input layer\n",
        "    input = keras.Input(shape = input_shape)\n",
        "\n",
        "    #define embedding layer and parameters\n",
        "    if use_pretraind_embd:\n",
        "        out = keras.layers.Embedding(input_dim = vocab_size, output_dim = embd_dim, input_length = sequence_len,\n",
        "                                     weights = [embed_weights], trainable = False)(input)\n",
        "    else:\n",
        "        out = keras.layers.Embedding(input_dim = vocab_size, output_dim = embd_dim, input_length = sequence_len)(input)\n",
        "\n",
        "    #define type of layer and parameters\n",
        "    #lstm type layers\n",
        "    if use_lstm:\n",
        "        sequence_return = (lstm_layers_num - 1)*[True]\n",
        "        sequence_return.append(False)\n",
        "        for layer_num in range(lstm_layers_num):\n",
        "            out = keras.layers.Bidirectional(keras.layers.LSTM(lstm_layers_units[layer_num],\n",
        "                                                               return_sequences = sequence_return[layer_num]))(out)\n",
        "\n",
        "    #gru type layers\n",
        "    elif use_gru:\n",
        "        sequence_return = (gru_layers_num - 1)*[True]\n",
        "        sequence_return.append(False)\n",
        "        for layer_num in range(gru_layers_num):\n",
        "            out = keras.layers.Bidirectional(keras.layers.GRU(gru_layers_units[layer_num],\n",
        "                                                              return_sequences = sequence_return[layer_num]))(out)\n",
        "    \n",
        "    #convolution type layer\n",
        "    elif use_conv:\n",
        "        for layer_num in range(conv_layers_num):\n",
        "            out = keras.layers.Conv1D(filters = conv_layers_filters[layer_num], kernel_size = conv_layers_kernel[layer_num],\n",
        "                                      activation = 'relu')(out)\n",
        "            if use_max_pool[layer_num]:\n",
        "                out = keras.layers.MaxPool1D(max_pool_size[layer_num])(out)\n",
        "\n",
        "\n",
        "    #dense layers feeder layer\n",
        "    #global max pool type layer\n",
        "    if use_global_max_pool:\n",
        "        out = keras.layers.GlobalMaxPooling1D()(out)\n",
        "        \n",
        "    #global average pool type layer\n",
        "    elif use_global_avg_pool:\n",
        "        out = keras.layers.GlobalAveragePooling1D()(out)\n",
        "\n",
        "    #flatten type layer\n",
        "    elif use_flatten:\n",
        "        out = keras.layers.Flatten()(out)\n",
        "\n",
        "    #define feeder dropout layer\n",
        "    if use_feeder_dropout:\n",
        "        out = keras.layers.Dropout(feeder_dropout_ratio)(out)\n",
        "\n",
        "\n",
        "    #define dense head layers\n",
        "    if use_dense_layer:\n",
        "        for layer_num in range(dense_layers_num):\n",
        "            out = keras.layers.Dense(dense_layers_units[layer_num], activation = 'relu')(out)\n",
        "            if use_dense_dropout[layer_num]:\n",
        "                out = keras.layers.Dropout(dense_dropout_ratio[layer_num])(out)\n",
        "    \n",
        "    #define output layer\n",
        "    output = keras.layers.Dense(output_layer_unit, activation = output_layer_activation)(out)\n",
        "\n",
        "    #define model\n",
        "    model = keras.models.Model(inputs = input, outputs = output)\n",
        "\n",
        "\n",
        "    #compile model\n",
        "    model.compile(optimizer = optimizer,\n",
        "                  loss = loss,\n",
        "                  metrics = metrics)\n",
        "    \n",
        "    return model\n",
        "    "
      ]
    },
    {
      "cell_type": "code",
      "source": [
        "model = create_model(#define input shape\n",
        "                     input_shape = maxlen - 1,\n",
        "                     #define embedding layer parameters\n",
        "                     use_pretraind_embd = False, vocab_size = len(word_index) + 1 , embd_dim = 128,\n",
        "                     sequence_len = maxlen - 1, embed_weights = None,\n",
        "                     #define type of layer and parameters\n",
        "                     use_lstm = True, use_gru = False, use_conv = False,\n",
        "                     #define lstm layers parameters\n",
        "                     lstm_layers_num = 2, lstm_layers_units = [64, 128],\n",
        "                     #define gru layers parameters\n",
        "                     gru_layers_num = None, gru_layers_units = None,\n",
        "                     #define convolution layers parameters\n",
        "                     conv_layers_num = None, conv_layers_filters = None, conv_layers_kernel = None,\n",
        "                     #define convolution layers sub layers\n",
        "                     use_max_pool = False, max_pool_size = None,\n",
        "                     #define dense layer feeder\n",
        "                     use_global_max_pool = False, use_global_avg_pool = False, use_flatten = False,\n",
        "                     use_feeder_dropout = True, feeder_dropout_ratio = 0.2,\n",
        "                     #define dense head layers\n",
        "                     dense_layers_num = None, dense_layers_units = None,\n",
        "                     #define dense layers dropout parameters\n",
        "                     use_dense_dropout = False, dense_dropout_ratio = None,\n",
        "                     #define output layer parameters\n",
        "                     output_layer_unit = len(labels_dict), output_layer_activation = 'softmax',\n",
        "                     #define model compiler parameters\n",
        "                     optimizer = 'adam', loss = 'categorical_crossentropy', metrics = 'accuracy'\n",
        "                     )"
      ],
      "metadata": {
        "id": "7cApqHwGmYYq"
      },
      "execution_count": null,
      "outputs": []
    },
    {
      "cell_type": "code",
      "source": [
        "#model summary\n",
        "model.summary(120)\n"
      ],
      "metadata": {
        "colab": {
          "base_uri": "https://localhost:8080/"
        },
        "id": "EoM66pE6oxL0",
        "outputId": "1a267600-5aa3-49bf-8d62-688373b7e96d"
      },
      "execution_count": null,
      "outputs": [
        {
          "output_type": "stream",
          "name": "stdout",
          "text": [
            "Model: \"model\"\n",
            "________________________________________________________________________________________________________________________\n",
            " Layer (type)                                         Output Shape                                    Param #           \n",
            "========================================================================================================================\n",
            " input_1 (InputLayer)                                 [(None, 10)]                                    0                 \n",
            "                                                                                                                        \n",
            " embedding (Embedding)                                (None, 10, 128)                                 411008            \n",
            "                                                                                                                        \n",
            " bidirectional (Bidirectional)                        (None, 10, 128)                                 98816             \n",
            "                                                                                                                        \n",
            " bidirectional_1 (Bidirectional)                      (None, 256)                                     263168            \n",
            "                                                                                                                        \n",
            " dropout (Dropout)                                    (None, 256)                                     0                 \n",
            "                                                                                                                        \n",
            " dense (Dense)                                        (None, 3083)                                    792331            \n",
            "                                                                                                                        \n",
            "========================================================================================================================\n",
            "Total params: 1,565,323\n",
            "Trainable params: 1,565,323\n",
            "Non-trainable params: 0\n",
            "________________________________________________________________________________________________________________________\n"
          ]
        }
      ]
    },
    {
      "cell_type": "code",
      "source": [
        "#fit model\n",
        "model.fit(texts, labels_encoded, epochs = 500)\n"
      ],
      "metadata": {
        "colab": {
          "base_uri": "https://localhost:8080/"
        },
        "id": "cQcBis-no21v",
        "outputId": "347ece90-f401-414a-d666-b35559004176"
      },
      "execution_count": null,
      "outputs": [
        {
          "output_type": "stream",
          "name": "stdout",
          "text": [
            "Epoch 1/500\n",
            "484/484 [==============================] - 37s 60ms/step - loss: 6.8190 - accuracy: 0.0232\n",
            "Epoch 2/500\n",
            "484/484 [==============================] - 28s 58ms/step - loss: 6.4563 - accuracy: 0.0340\n",
            "Epoch 3/500\n",
            "484/484 [==============================] - 28s 59ms/step - loss: 6.3044 - accuracy: 0.0382\n",
            "Epoch 4/500\n",
            "484/484 [==============================] - 29s 61ms/step - loss: 6.1648 - accuracy: 0.0417\n",
            "Epoch 5/500\n",
            "484/484 [==============================] - 28s 58ms/step - loss: 6.0065 - accuracy: 0.0460\n",
            "Epoch 6/500\n",
            "484/484 [==============================] - 29s 60ms/step - loss: 5.8443 - accuracy: 0.0528\n",
            "Epoch 7/500\n",
            "484/484 [==============================] - 28s 58ms/step - loss: 5.6795 - accuracy: 0.0612\n",
            "Epoch 8/500\n",
            "484/484 [==============================] - 30s 63ms/step - loss: 5.5107 - accuracy: 0.0636\n",
            "Epoch 9/500\n",
            "484/484 [==============================] - 31s 63ms/step - loss: 5.3364 - accuracy: 0.0734\n",
            "Epoch 10/500\n",
            "484/484 [==============================] - 31s 64ms/step - loss: 5.1565 - accuracy: 0.0797\n",
            "Epoch 11/500\n",
            "484/484 [==============================] - 31s 64ms/step - loss: 4.9775 - accuracy: 0.0897\n",
            "Epoch 12/500\n",
            "484/484 [==============================] - 31s 64ms/step - loss: 4.7920 - accuracy: 0.1017\n",
            "Epoch 13/500\n",
            "484/484 [==============================] - 31s 64ms/step - loss: 4.6114 - accuracy: 0.1157\n",
            "Epoch 14/500\n",
            "484/484 [==============================] - 31s 64ms/step - loss: 4.4254 - accuracy: 0.1367\n",
            "Epoch 15/500\n",
            "484/484 [==============================] - 31s 64ms/step - loss: 4.2378 - accuracy: 0.1573\n",
            "Epoch 16/500\n",
            "484/484 [==============================] - 31s 63ms/step - loss: 4.0474 - accuracy: 0.1858\n",
            "Epoch 17/500\n",
            "484/484 [==============================] - 31s 63ms/step - loss: 3.8574 - accuracy: 0.2088\n",
            "Epoch 18/500\n",
            "484/484 [==============================] - 31s 64ms/step - loss: 3.6755 - accuracy: 0.2428\n",
            "Epoch 19/500\n",
            "484/484 [==============================] - 31s 63ms/step - loss: 3.5081 - accuracy: 0.2682\n",
            "Epoch 20/500\n",
            "484/484 [==============================] - 30s 61ms/step - loss: 3.3296 - accuracy: 0.2968\n",
            "Epoch 21/500\n",
            "484/484 [==============================] - 29s 60ms/step - loss: 3.1611 - accuracy: 0.3320\n",
            "Epoch 22/500\n",
            "484/484 [==============================] - 30s 62ms/step - loss: 3.0110 - accuracy: 0.3564\n",
            "Epoch 23/500\n",
            "484/484 [==============================] - 31s 64ms/step - loss: 2.8624 - accuracy: 0.3853\n",
            "Epoch 24/500\n",
            "484/484 [==============================] - 28s 59ms/step - loss: 2.7157 - accuracy: 0.4144\n",
            "Epoch 25/500\n",
            "484/484 [==============================] - 30s 61ms/step - loss: 2.5897 - accuracy: 0.4357\n",
            "Epoch 26/500\n",
            "484/484 [==============================] - 30s 63ms/step - loss: 2.4601 - accuracy: 0.4627\n",
            "Epoch 27/500\n",
            "484/484 [==============================] - 29s 61ms/step - loss: 2.3429 - accuracy: 0.4862\n",
            "Epoch 28/500\n",
            "484/484 [==============================] - 30s 62ms/step - loss: 2.2327 - accuracy: 0.5083\n",
            "Epoch 29/500\n",
            "484/484 [==============================] - 30s 61ms/step - loss: 2.1223 - accuracy: 0.5306\n",
            "Epoch 30/500\n",
            "484/484 [==============================] - 30s 62ms/step - loss: 2.0310 - accuracy: 0.5521\n",
            "Epoch 31/500\n",
            "484/484 [==============================] - 28s 59ms/step - loss: 1.9348 - accuracy: 0.5718\n",
            "Epoch 32/500\n",
            "484/484 [==============================] - 28s 58ms/step - loss: 1.8355 - accuracy: 0.5933\n",
            "Epoch 33/500\n",
            "484/484 [==============================] - 29s 61ms/step - loss: 1.7700 - accuracy: 0.6028\n",
            "Epoch 34/500\n",
            "484/484 [==============================] - 28s 58ms/step - loss: 1.6842 - accuracy: 0.6262\n",
            "Epoch 35/500\n",
            "484/484 [==============================] - 28s 58ms/step - loss: 1.6106 - accuracy: 0.6431\n",
            "Epoch 36/500\n",
            "484/484 [==============================] - 28s 58ms/step - loss: 1.5467 - accuracy: 0.6541\n",
            "Epoch 37/500\n",
            "484/484 [==============================] - 30s 62ms/step - loss: 1.4828 - accuracy: 0.6691\n",
            "Epoch 38/500\n",
            "484/484 [==============================] - 30s 63ms/step - loss: 1.4205 - accuracy: 0.6848\n",
            "Epoch 39/500\n",
            "484/484 [==============================] - 31s 63ms/step - loss: 1.3679 - accuracy: 0.6931\n",
            "Epoch 40/500\n",
            "484/484 [==============================] - 30s 62ms/step - loss: 1.3167 - accuracy: 0.7022\n",
            "Epoch 41/500\n",
            "484/484 [==============================] - 32s 66ms/step - loss: 1.2685 - accuracy: 0.7128\n",
            "Epoch 42/500\n",
            "484/484 [==============================] - 31s 64ms/step - loss: 1.2262 - accuracy: 0.7267\n",
            "Epoch 43/500\n",
            "484/484 [==============================] - 30s 61ms/step - loss: 1.1857 - accuracy: 0.7297\n",
            "Epoch 44/500\n",
            "484/484 [==============================] - 31s 65ms/step - loss: 1.1438 - accuracy: 0.7398\n",
            "Epoch 45/500\n",
            "484/484 [==============================] - 29s 60ms/step - loss: 1.1129 - accuracy: 0.7467\n",
            "Epoch 46/500\n",
            "484/484 [==============================] - 30s 62ms/step - loss: 1.0753 - accuracy: 0.7555\n",
            "Epoch 47/500\n",
            "484/484 [==============================] - 31s 65ms/step - loss: 1.0378 - accuracy: 0.7661\n",
            "Epoch 48/500\n",
            "484/484 [==============================] - 31s 63ms/step - loss: 1.0199 - accuracy: 0.7637\n",
            "Epoch 49/500\n",
            "484/484 [==============================] - 29s 60ms/step - loss: 0.9898 - accuracy: 0.7742\n",
            "Epoch 50/500\n",
            "484/484 [==============================] - 30s 63ms/step - loss: 0.9575 - accuracy: 0.7819\n",
            "Epoch 51/500\n",
            "484/484 [==============================] - 30s 63ms/step - loss: 0.9470 - accuracy: 0.7820\n",
            "Epoch 52/500\n",
            "484/484 [==============================] - 32s 67ms/step - loss: 0.9238 - accuracy: 0.7872\n",
            "Epoch 53/500\n",
            "484/484 [==============================] - 30s 62ms/step - loss: 0.8913 - accuracy: 0.7923\n",
            "Epoch 54/500\n",
            "484/484 [==============================] - 30s 61ms/step - loss: 0.8809 - accuracy: 0.7939\n",
            "Epoch 55/500\n",
            "484/484 [==============================] - 32s 66ms/step - loss: 0.8661 - accuracy: 0.8009\n",
            "Epoch 56/500\n",
            "484/484 [==============================] - 30s 62ms/step - loss: 0.8516 - accuracy: 0.8013\n",
            "Epoch 57/500\n",
            "484/484 [==============================] - 30s 62ms/step - loss: 0.8386 - accuracy: 0.8024\n",
            "Epoch 58/500\n",
            "484/484 [==============================] - 31s 64ms/step - loss: 0.8333 - accuracy: 0.8038\n",
            "Epoch 59/500\n",
            "484/484 [==============================] - 29s 60ms/step - loss: 0.8174 - accuracy: 0.8064\n",
            "Epoch 60/500\n",
            "484/484 [==============================] - 30s 61ms/step - loss: 0.7970 - accuracy: 0.8097\n",
            "Epoch 61/500\n",
            "484/484 [==============================] - 32s 66ms/step - loss: 0.7899 - accuracy: 0.8132\n",
            "Epoch 62/500\n",
            "484/484 [==============================] - 31s 64ms/step - loss: 0.7880 - accuracy: 0.8133\n",
            "Epoch 63/500\n",
            "484/484 [==============================] - 29s 61ms/step - loss: 0.7577 - accuracy: 0.8185\n",
            "Epoch 64/500\n",
            "484/484 [==============================] - 31s 64ms/step - loss: 0.7577 - accuracy: 0.8179\n",
            "Epoch 65/500\n",
            "484/484 [==============================] - 30s 62ms/step - loss: 0.7409 - accuracy: 0.8214\n",
            "Epoch 66/500\n",
            "484/484 [==============================] - 29s 59ms/step - loss: 0.7428 - accuracy: 0.8219\n",
            "Epoch 67/500\n",
            "484/484 [==============================] - 30s 63ms/step - loss: 0.7231 - accuracy: 0.8245\n",
            "Epoch 68/500\n",
            "484/484 [==============================] - 29s 60ms/step - loss: 0.7242 - accuracy: 0.8269\n",
            "Epoch 69/500\n",
            "484/484 [==============================] - 30s 61ms/step - loss: 0.7259 - accuracy: 0.8243\n",
            "Epoch 70/500\n",
            "484/484 [==============================] - 31s 64ms/step - loss: 0.7173 - accuracy: 0.8272\n",
            "Epoch 71/500\n",
            "484/484 [==============================] - 29s 60ms/step - loss: 0.7156 - accuracy: 0.8277\n",
            "Epoch 72/500\n",
            "484/484 [==============================] - 30s 61ms/step - loss: 0.7099 - accuracy: 0.8289\n",
            "Epoch 73/500\n",
            "484/484 [==============================] - 30s 62ms/step - loss: 0.6981 - accuracy: 0.8287\n",
            "Epoch 74/500\n",
            "484/484 [==============================] - 28s 58ms/step - loss: 0.6929 - accuracy: 0.8299\n",
            "Epoch 75/500\n",
            "484/484 [==============================] - 29s 61ms/step - loss: 0.6866 - accuracy: 0.8325\n",
            "Epoch 76/500\n",
            "484/484 [==============================] - 31s 64ms/step - loss: 0.6833 - accuracy: 0.8320\n",
            "Epoch 77/500\n",
            "484/484 [==============================] - 30s 63ms/step - loss: 0.6845 - accuracy: 0.8321\n",
            "Epoch 78/500\n",
            "484/484 [==============================] - 30s 62ms/step - loss: 0.6842 - accuracy: 0.8287\n",
            "Epoch 79/500\n",
            "484/484 [==============================] - 30s 62ms/step - loss: 0.6645 - accuracy: 0.8327\n",
            "Epoch 80/500\n",
            "484/484 [==============================] - 30s 63ms/step - loss: 0.6664 - accuracy: 0.8355\n",
            "Epoch 81/500\n",
            "484/484 [==============================] - 30s 62ms/step - loss: 0.6649 - accuracy: 0.8351\n",
            "Epoch 82/500\n",
            "484/484 [==============================] - 30s 61ms/step - loss: 0.6572 - accuracy: 0.8366\n",
            "Epoch 83/500\n",
            "484/484 [==============================] - 30s 61ms/step - loss: 0.6462 - accuracy: 0.8394\n",
            "Epoch 84/500\n",
            "484/484 [==============================] - 29s 61ms/step - loss: 0.6492 - accuracy: 0.8389\n",
            "Epoch 85/500\n",
            "484/484 [==============================] - 29s 59ms/step - loss: 0.6482 - accuracy: 0.8377\n",
            "Epoch 86/500\n",
            "484/484 [==============================] - 30s 62ms/step - loss: 0.6441 - accuracy: 0.8385\n",
            "Epoch 87/500\n",
            "484/484 [==============================] - 29s 60ms/step - loss: 0.6412 - accuracy: 0.8375\n",
            "Epoch 88/500\n",
            "484/484 [==============================] - 29s 60ms/step - loss: 0.6464 - accuracy: 0.8379\n",
            "Epoch 89/500\n",
            "484/484 [==============================] - 31s 64ms/step - loss: 0.6467 - accuracy: 0.8366\n",
            "Epoch 90/500\n",
            "484/484 [==============================] - 30s 62ms/step - loss: 0.6540 - accuracy: 0.8366\n",
            "Epoch 91/500\n",
            "484/484 [==============================] - 30s 62ms/step - loss: 0.6450 - accuracy: 0.8363\n",
            "Epoch 92/500\n",
            "484/484 [==============================] - 30s 63ms/step - loss: 0.6296 - accuracy: 0.8406\n",
            "Epoch 93/500\n",
            "484/484 [==============================] - 29s 60ms/step - loss: 0.6289 - accuracy: 0.8403\n",
            "Epoch 94/500\n",
            "484/484 [==============================] - 31s 64ms/step - loss: 0.6367 - accuracy: 0.8390\n",
            "Epoch 95/500\n",
            "484/484 [==============================] - 30s 61ms/step - loss: 0.6191 - accuracy: 0.8432\n",
            "Epoch 96/500\n",
            "484/484 [==============================] - 29s 61ms/step - loss: 0.6289 - accuracy: 0.8383\n",
            "Epoch 97/500\n",
            "484/484 [==============================] - 30s 62ms/step - loss: 0.6170 - accuracy: 0.8438\n",
            "Epoch 98/500\n",
            "484/484 [==============================] - 30s 62ms/step - loss: 0.6269 - accuracy: 0.8404\n",
            "Epoch 99/500\n",
            "484/484 [==============================] - 30s 62ms/step - loss: 0.6093 - accuracy: 0.8429\n",
            "Epoch 100/500\n",
            "484/484 [==============================] - 29s 60ms/step - loss: 0.6225 - accuracy: 0.8402\n",
            "Epoch 101/500\n",
            "484/484 [==============================] - 31s 63ms/step - loss: 0.6225 - accuracy: 0.8395\n",
            "Epoch 102/500\n",
            "484/484 [==============================] - 30s 61ms/step - loss: 0.6131 - accuracy: 0.8432\n",
            "Epoch 103/500\n",
            "484/484 [==============================] - 30s 62ms/step - loss: 0.6174 - accuracy: 0.8426\n",
            "Epoch 104/500\n",
            "484/484 [==============================] - 29s 59ms/step - loss: 0.6174 - accuracy: 0.8408\n",
            "Epoch 105/500\n",
            "484/484 [==============================] - 29s 60ms/step - loss: 0.6029 - accuracy: 0.8445\n",
            "Epoch 106/500\n",
            "484/484 [==============================] - 29s 61ms/step - loss: 0.6096 - accuracy: 0.8432\n",
            "Epoch 107/500\n",
            "484/484 [==============================] - 29s 61ms/step - loss: 0.5919 - accuracy: 0.8479\n",
            "Epoch 108/500\n",
            "484/484 [==============================] - 29s 60ms/step - loss: 0.5981 - accuracy: 0.8453\n",
            "Epoch 109/500\n",
            "484/484 [==============================] - 30s 61ms/step - loss: 0.6069 - accuracy: 0.8438\n",
            "Epoch 110/500\n",
            "484/484 [==============================] - 30s 61ms/step - loss: 0.6080 - accuracy: 0.8432\n",
            "Epoch 111/500\n",
            "484/484 [==============================] - 29s 61ms/step - loss: 0.6059 - accuracy: 0.8436\n",
            "Epoch 112/500\n",
            "484/484 [==============================] - 30s 62ms/step - loss: 0.6044 - accuracy: 0.8419\n",
            "Epoch 113/500\n",
            "484/484 [==============================] - 29s 60ms/step - loss: 0.6031 - accuracy: 0.8435\n",
            "Epoch 114/500\n",
            "484/484 [==============================] - 29s 59ms/step - loss: 0.6059 - accuracy: 0.8404\n",
            "Epoch 115/500\n",
            "484/484 [==============================] - 29s 60ms/step - loss: 0.5872 - accuracy: 0.8470\n",
            "Epoch 116/500\n",
            "484/484 [==============================] - 29s 60ms/step - loss: 0.5872 - accuracy: 0.8457\n",
            "Epoch 117/500\n",
            "484/484 [==============================] - 29s 60ms/step - loss: 0.5892 - accuracy: 0.8465\n",
            "Epoch 118/500\n",
            "484/484 [==============================] - 30s 62ms/step - loss: 0.5914 - accuracy: 0.8447\n",
            "Epoch 119/500\n",
            "484/484 [==============================] - 29s 60ms/step - loss: 0.5897 - accuracy: 0.8447\n",
            "Epoch 120/500\n",
            "484/484 [==============================] - 31s 64ms/step - loss: 0.6002 - accuracy: 0.8423\n",
            "Epoch 121/500\n",
            "484/484 [==============================] - 29s 60ms/step - loss: 0.5973 - accuracy: 0.8425\n",
            "Epoch 122/500\n",
            "484/484 [==============================] - 29s 60ms/step - loss: 0.5887 - accuracy: 0.8459\n",
            "Epoch 123/500\n",
            "484/484 [==============================] - 30s 62ms/step - loss: 0.5788 - accuracy: 0.8486\n",
            "Epoch 124/500\n",
            "484/484 [==============================] - 29s 60ms/step - loss: 0.5956 - accuracy: 0.8422\n",
            "Epoch 125/500\n",
            "484/484 [==============================] - 29s 59ms/step - loss: 0.5886 - accuracy: 0.8465\n",
            "Epoch 126/500\n",
            "484/484 [==============================] - 29s 60ms/step - loss: 0.5791 - accuracy: 0.8479\n",
            "Epoch 127/500\n",
            "484/484 [==============================] - 29s 61ms/step - loss: 0.5752 - accuracy: 0.8467\n",
            "Epoch 128/500\n",
            "484/484 [==============================] - 29s 60ms/step - loss: 0.5796 - accuracy: 0.8476\n",
            "Epoch 129/500\n",
            "484/484 [==============================] - 29s 60ms/step - loss: 0.5884 - accuracy: 0.8435\n",
            "Epoch 130/500\n",
            "484/484 [==============================] - 29s 61ms/step - loss: 0.5824 - accuracy: 0.8461\n",
            "Epoch 131/500\n",
            "484/484 [==============================] - 29s 59ms/step - loss: 0.5801 - accuracy: 0.8476\n",
            "Epoch 132/500\n",
            "484/484 [==============================] - 31s 65ms/step - loss: 0.5832 - accuracy: 0.8442\n",
            "Epoch 133/500\n",
            "484/484 [==============================] - 30s 63ms/step - loss: 0.5815 - accuracy: 0.8454\n",
            "Epoch 134/500\n",
            "484/484 [==============================] - 30s 63ms/step - loss: 0.5747 - accuracy: 0.8462\n",
            "Epoch 135/500\n",
            "484/484 [==============================] - 31s 63ms/step - loss: 0.5760 - accuracy: 0.8464\n",
            "Epoch 136/500\n",
            "484/484 [==============================] - 30s 62ms/step - loss: 0.5703 - accuracy: 0.8489\n",
            "Epoch 137/500\n",
            "484/484 [==============================] - 30s 62ms/step - loss: 0.5736 - accuracy: 0.8465\n",
            "Epoch 138/500\n",
            "484/484 [==============================] - 30s 61ms/step - loss: 0.5663 - accuracy: 0.8484\n",
            "Epoch 139/500\n",
            "484/484 [==============================] - 29s 61ms/step - loss: 0.5831 - accuracy: 0.8453\n",
            "Epoch 140/500\n",
            "484/484 [==============================] - 30s 61ms/step - loss: 0.5912 - accuracy: 0.8418\n",
            "Epoch 141/500\n",
            "484/484 [==============================] - 29s 61ms/step - loss: 0.5701 - accuracy: 0.8474\n",
            "Epoch 142/500\n",
            "484/484 [==============================] - 30s 62ms/step - loss: 0.5695 - accuracy: 0.8467\n",
            "Epoch 143/500\n",
            "484/484 [==============================] - 29s 61ms/step - loss: 0.5731 - accuracy: 0.8479\n",
            "Epoch 144/500\n",
            "484/484 [==============================] - 29s 61ms/step - loss: 0.5720 - accuracy: 0.8463\n",
            "Epoch 145/500\n",
            "484/484 [==============================] - 29s 59ms/step - loss: 0.5680 - accuracy: 0.8476\n",
            "Epoch 146/500\n",
            "484/484 [==============================] - 29s 61ms/step - loss: 0.5665 - accuracy: 0.8481\n",
            "Epoch 147/500\n",
            "484/484 [==============================] - 29s 60ms/step - loss: 0.5734 - accuracy: 0.8465\n",
            "Epoch 148/500\n",
            "484/484 [==============================] - 30s 63ms/step - loss: 0.5659 - accuracy: 0.8476\n",
            "Epoch 149/500\n",
            "484/484 [==============================] - 30s 61ms/step - loss: 0.5717 - accuracy: 0.8469\n",
            "Epoch 150/500\n",
            "484/484 [==============================] - 30s 61ms/step - loss: 0.5729 - accuracy: 0.8455\n",
            "Epoch 151/500\n",
            "484/484 [==============================] - 30s 61ms/step - loss: 0.5622 - accuracy: 0.8477\n",
            "Epoch 152/500\n",
            "484/484 [==============================] - 29s 61ms/step - loss: 0.5543 - accuracy: 0.8497\n",
            "Epoch 153/500\n",
            "484/484 [==============================] - 30s 62ms/step - loss: 0.5592 - accuracy: 0.8484\n",
            "Epoch 154/500\n",
            "484/484 [==============================] - 30s 62ms/step - loss: 0.5627 - accuracy: 0.8498\n",
            "Epoch 155/500\n",
            "484/484 [==============================] - 30s 62ms/step - loss: 0.5623 - accuracy: 0.8471\n",
            "Epoch 156/500\n",
            "484/484 [==============================] - 31s 64ms/step - loss: 0.5617 - accuracy: 0.8483\n",
            "Epoch 157/500\n",
            "484/484 [==============================] - 29s 59ms/step - loss: 0.5620 - accuracy: 0.8491\n",
            "Epoch 158/500\n",
            "484/484 [==============================] - 29s 60ms/step - loss: 0.5603 - accuracy: 0.8496\n",
            "Epoch 159/500\n",
            "484/484 [==============================] - 29s 60ms/step - loss: 0.5603 - accuracy: 0.8474\n",
            "Epoch 160/500\n",
            "484/484 [==============================] - 30s 63ms/step - loss: 0.5653 - accuracy: 0.8469\n",
            "Epoch 161/500\n",
            "484/484 [==============================] - 30s 61ms/step - loss: 0.5648 - accuracy: 0.8463\n",
            "Epoch 162/500\n",
            "484/484 [==============================] - 31s 63ms/step - loss: 0.5573 - accuracy: 0.8480\n",
            "Epoch 163/500\n",
            "484/484 [==============================] - 31s 64ms/step - loss: 0.5573 - accuracy: 0.8479\n",
            "Epoch 164/500\n",
            "484/484 [==============================] - 31s 63ms/step - loss: 0.5645 - accuracy: 0.8479\n",
            "Epoch 165/500\n",
            "484/484 [==============================] - 32s 66ms/step - loss: 0.5630 - accuracy: 0.8459\n",
            "Epoch 166/500\n",
            "484/484 [==============================] - 31s 64ms/step - loss: 0.5579 - accuracy: 0.8478\n",
            "Epoch 167/500\n",
            "306/484 [=================>............] - ETA: 11s - loss: 0.5381 - accuracy: 0.8527"
          ]
        }
      ]
    },
    {
      "cell_type": "code",
      "source": [
        "#plot model training loss\n",
        "pd.DataFrame(model.history.history)[['loss']].plot(figsize = (9, 6), linewidth = 3)\n",
        "plt.grid(linestyle = '--', linewidth = 2)\n",
        "plt.show()\n"
      ],
      "metadata": {
        "colab": {
          "base_uri": "https://localhost:8080/",
          "height": 374
        },
        "id": "r9WlvK5vzfSG",
        "outputId": "39cf0da2-311d-44b6-beff-2dfb756f9070"
      },
      "execution_count": null,
      "outputs": [
        {
          "output_type": "display_data",
          "data": {
            "text/plain": [
              "<Figure size 648x432 with 1 Axes>"
            ],
            "image/png": "[encoded data removed]"
          },
          "metadata": {
            "needs_background": "light"
          }
        }
      ]
    },
    {
      "cell_type": "code",
      "source": [
        "#plot model training accuracy\n",
        "pd.DataFrame(model.history.history)[['accuracy']].plot(figsize = (9, 6), linewidth = 3)\n",
        "plt.grid(linestyle = '--', linewidth = 2)\n",
        "plt.ylim(0,1)\n",
        "plt.show()\n"
      ],
      "metadata": {
        "colab": {
          "base_uri": "https://localhost:8080/",
          "height": 378
        },
        "id": "v4gmV_f1z1nM",
        "outputId": "641f88f7-50db-4839-f511-e3e581f38225"
      },
      "execution_count": null,
      "outputs": [
        {
          "output_type": "display_data",
          "data": {
            "text/plain": [
              "<Figure size 648x432 with 1 Axes>"
            ],
            "image/png": "[encoded data removed]"
          },
          "metadata": {
            "needs_background": "light"
          }
        }
      ]
    },
    {
      "cell_type": "code",
      "source": [
        "#model evaluation\n",
        "train_set_eval = model.evaluate(texts, labels_encoded, verbose = 0)\n",
        "print(f'Training Set Evaluation:\\n\\tLoss: {round(train_set_eval[0],4)}\\tAccuracy: {100*round(train_set_eval[1],4)}%')\n"
      ],
      "metadata": {
        "colab": {
          "base_uri": "https://localhost:8080/"
        },
        "id": "a1fGgl5a0Ms8",
        "outputId": "cf9aa20b-2a9f-4549-cc7d-16d3f84a3a6f"
      },
      "execution_count": null,
      "outputs": [
        {
          "output_type": "stream",
          "name": "stdout",
          "text": [
            "Training Set Evaluation:\n",
            "\tLoss: 0.4292\tAccuracy: 86.86%\n"
          ]
        }
      ]
    },
    {
      "cell_type": "code",
      "source": [
        "#define text generator based on model\n",
        "def text_generator(#define text and numbert of iteration\n",
        "                   input_text, iteration,\n",
        "                   #define tokenizer and maxlen\n",
        "                   tokenizer, maxlen, word_index,\n",
        "                   #define labels categories and model\n",
        "                   labels_dict, model, \n",
        "                   ):\n",
        "    \n",
        "    input_text = str(input_text)\n",
        "    key_values_labels = dict([(key,value) for value, key in labels_dict.items()])\n",
        "    index_word = dict([(key, value) for value, key in word_index.items()])\n",
        "\n",
        "    for iter in range(iteration):\n",
        "        text = tokenizer.texts_to_sequences([input_text])\n",
        "        text = keras.preprocessing.sequence.pad_sequences(text, padding = 'pre', maxlen = maxlen - 1)\n",
        "        predict = model.predict(text)\n",
        "        predict = np.argmax(predict, axis = -1)[0]\n",
        "        predict = key_values_labels[predict]\n",
        "        predict = index_word[predict]\n",
        "        input_text = input_text + \" \" + predict\n",
        "    \n",
        "    return input_text.title()\n"
      ],
      "metadata": {
        "id": "4veh4dxp72m1"
      },
      "execution_count": null,
      "outputs": []
    },
    {
      "cell_type": "code",
      "source": [
        "#generate the text\n",
        "generated_text = text_generator(#define text and numbert of iteration\n",
        "                                input_text = 'We Never Die In Heart', iteration = 20,\n",
        "                                #define tokenizer and maxlen\n",
        "                                tokenizer = tokenizer, maxlen = maxlen, word_index = word_index,\n",
        "                                #define labels categories and model\n",
        "                                labels_dict = labels_dict, model = model,\n",
        "                                )\n",
        "#print out the generated text\n",
        "print(generated_text)\n"
      ],
      "metadata": {
        "colab": {
          "base_uri": "https://localhost:8080/"
        },
        "id": "TmfAFEdhLQKq",
        "outputId": "69f6edc8-3ad3-4364-d2c5-3f01a0ad28c5"
      },
      "execution_count": null,
      "outputs": [
        {
          "output_type": "stream",
          "name": "stdout",
          "text": [
            "We Never Die In Heart To Single Cherish Lie Of Thy Deeds ' Of Me Loves Gone Kings Thence Random On Me Date Forth Me\n"
          ]
        }
      ]
    },
    {
      "cell_type": "code",
      "source": [
        "#save model\n",
        "model.save('/content/model.h5')\n"
      ],
      "metadata": {
        "id": "gikdU4aO0Lgg"
      },
      "execution_count": null,
      "outputs": []
    }
  ],
  "metadata": {
    "colab": {
      "collapsed_sections": [],
      "name": "shakespeare-sonnets-text-generation.ipynb",
      "provenance": [],
      "mount_file_id": "1YqkKxxHYU3J4ituglLL786xGYjnko5FS",
      "authorship_tag": "ABX9TyPsnQJ4H5dOnMGp3K+gS4og",
      "include_colab_link": true
    },
    "gpuClass": "standard",
    "kernelspec": {
      "display_name": "Python 3",
      "name": "python3"
    },
    "language_info": {
      "name": "python"
    }
  },
  "nbformat": 4,
  "nbformat_minor": 0
}