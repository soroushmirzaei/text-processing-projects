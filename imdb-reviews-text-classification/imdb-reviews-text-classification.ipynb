{
  "cells": [
    {
      "cell_type": "markdown",
      "metadata": {
        "id": "view-in-github",
        "colab_type": "text"
      },
      "source": [
        "<a href=\"https://colab.research.google.com/github/soroushmirzaei/text-processing-projects/blob/main/imdb-reviews-text-classification/imdb-reviews-text-classification.ipynb\" target=\"_parent\"><img src=\"https://colab.research.google.com/assets/colab-badge.svg\" alt=\"Open In Colab\"/></a>"
      ]
    },
    {
      "cell_type": "code",
      "execution_count": null,
      "metadata": {
        "id": "SIYC55FdPdC2"
      },
      "outputs": [],
      "source": [
        "#import requirement libraries\n",
        "import os\n",
        "import shutil\n",
        "\n",
        "#import dataset query libraries\n",
        "import csv\n",
        "import json\n",
        "\n",
        "#import mathematics statics libraries\n",
        "import random as rnd\n",
        "import numpy as np\n",
        "import pandas as pd\n",
        "\n",
        "#import visualization libraries\n",
        "import matplotlib.pyplot as plt\n",
        "import seaborn as sns\n",
        "\n",
        "#import machine learning deep learning libraries\n",
        "import tensorflow as tf\n",
        "import tensorflow_datasets as tfds\n",
        "from tensorflow import keras\n"
      ]
    },
    {
      "cell_type": "code",
      "execution_count": null,
      "metadata": {
        "id": "6SkBIh-h6ZzE"
      },
      "outputs": [],
      "source": [
        "#download stop-words dataset\n",
        "!wget -q https://raw.githubusercontent.com/soroushmirzaei/text-processing-projects/main/english-language-stop-words.txt\n",
        "!wget -q https://raw.githubusercontent.com/soroushmirzaei/text-processing-projects/main/persian-language-stop-words.txt\n",
        "\n",
        "#download filters-characters dataset\n",
        "!wget -q https://raw.githubusercontent.com/soroushmirzaei/text-processing-projects/main/english-language-filter-characters.txt\n",
        "!wget -q https://raw.githubusercontent.com/soroushmirzaei/text-processing-projects/main/persian-language-filter-characters.txt\n",
        "\n",
        "#download similar-characters dataset\n",
        "!wget -q https://raw.githubusercontent.com/soroushmirzaei/text-processing-projects/main/persian-language-similar-characters.json\n"
      ]
    },
    {
      "cell_type": "code",
      "execution_count": null,
      "metadata": {
        "id": "Cna6blsV2ZkZ"
      },
      "outputs": [],
      "source": [
        "#define filters-list function loader\n",
        "def filter_chars(file_path):\n",
        "    filter_chars = list()\n",
        "    with open(file_path, 'r') as filters_list_file:\n",
        "        for word in filters_list_file:\n",
        "            filter_chars.append(word.strip('\\n'))\n",
        "        filters_list_file.close()\n",
        "    return filter_chars\n",
        "\n",
        "#define stop-words function loader\n",
        "def stop_word(file_path):\n",
        "    stop_words = list()\n",
        "    with open(file_path, 'r') as stop_words_file:\n",
        "        for word in stop_words_file:\n",
        "            stop_words.append(word.strip('\\n'))\n",
        "        stop_words_file.close()\n",
        "    return stop_words\n",
        "\n",
        "#define similar-characters function loader\n",
        "def similar_chars(file_path):\n",
        "    with open(file_path, 'r') as similar_chars_file:\n",
        "        similar_chars = json.load(similar_chars_file)\n",
        "    return similar_chars\n"
      ]
    },
    {
      "cell_type": "code",
      "execution_count": null,
      "metadata": {
        "id": "bLhC44LW6TAd"
      },
      "outputs": [],
      "source": [
        "#load stop-words\n",
        "eng_stop_words = stop_word('english-language-stop-words.txt')\n",
        "per_stop_words = stop_word('persian-language-stop-words.txt')\n",
        "\n",
        "#load filters-characters\n",
        "eng_filter_characters = filter_chars('english-language-filter-characters.txt')\n",
        "per_filter_characters = filter_chars('persian-language-filter-characters.txt')\n",
        "\n",
        "#load similar-characters\n",
        "per_similar_characters = similar_chars('persian-language-similar-characters.json')\n"
      ]
    },
    {
      "cell_type": "code",
      "execution_count": null,
      "metadata": {
        "id": "39pSrmpdM5xg"
      },
      "outputs": [],
      "source": [
        "#define remove filters characters function\n",
        "def remove_filter(text, filters_list):\n",
        "    characters = list(text)\n",
        "    characters_without_filters = [character for character in characters if character not in filters_list]\n",
        "    text_without_filters = ''.join(characters_without_filters)\n",
        "    return text_without_filters\n",
        "\n",
        "#define remove texts stopwords function\n",
        "def remove_stopword(text, stop_words_list):\n",
        "    text = text.lower()\n",
        "    words_with_stopwords = text.split(' ')\n",
        "    words_without_stopwords = [word for word in words_with_stopwords if word not in stop_words_list]\n",
        "    text_without_stopwords = ' '.join(words_without_stopwords)\n",
        "    return text_without_stopwords\n",
        "\n",
        "#define similar characters modification function\n",
        "def similar_char(text, similar_chars_dict):\n",
        "    characters = list(text)\n",
        "    similar_characters_modified_list = [similar_chars_dict.get(character,character) for character in characters]\n",
        "    similar_characters_modified_text = ''.join(similar_characters_modified_list)\n",
        "    return similar_characters_modified_text\n"
      ]
    },
    {
      "cell_type": "code",
      "execution_count": null,
      "metadata": {
        "id": "-C_uaVTMVXrd"
      },
      "outputs": [],
      "source": [
        "#load dataset\n",
        "data, info = tfds.load('imdb_reviews', as_supervised = True, with_info = True)\n"
      ]
    },
    {
      "cell_type": "code",
      "execution_count": null,
      "metadata": {
        "colab": {
          "base_uri": "https://localhost:8080/"
        },
        "id": "y6avS0GqVkuh",
        "outputId": "6656e8a7-5140-4cb3-80d8-41a1ba5b650d"
      },
      "outputs": [
        {
          "output_type": "execute_result",
          "data": {
            "text/plain": [
              "tfds.core.DatasetInfo(\n",
              "    name='imdb_reviews',\n",
              "    version=1.0.0,\n",
              "    description='Large Movie Review Dataset.\n",
              "This is a dataset for binary sentiment classification containing substantially more data than previous benchmark datasets. We provide a set of 25,000 highly polar movie reviews for training, and 25,000 for testing. There is additional unlabeled data for use as well.',\n",
              "    homepage='http://ai.stanford.edu/~amaas/data/sentiment/',\n",
              "    features=FeaturesDict({\n",
              "        'label': ClassLabel(shape=(), dtype=tf.int64, num_classes=2),\n",
              "        'text': Text(shape=(), dtype=tf.string),\n",
              "    }),\n",
              "    total_num_examples=100000,\n",
              "    splits={\n",
              "        'test': 25000,\n",
              "        'train': 25000,\n",
              "        'unsupervised': 50000,\n",
              "    },\n",
              "    supervised_keys=('text', 'label'),\n",
              "    citation=\"\"\"@InProceedings{maas-EtAl:2011:ACL-HLT2011,\n",
              "      author    = {Maas, Andrew L.  and  Daly, Raymond E.  and  Pham, Peter T.  and  Huang, Dan  and  Ng, Andrew Y.  and  Potts, Christopher},\n",
              "      title     = {Learning Word Vectors for Sentiment Analysis},\n",
              "      booktitle = {Proceedings of the 49th Annual Meeting of the Association for Computational Linguistics: Human Language Technologies},\n",
              "      month     = {June},\n",
              "      year      = {2011},\n",
              "      address   = {Portland, Oregon, USA},\n",
              "      publisher = {Association for Computational Linguistics},\n",
              "      pages     = {142--150},\n",
              "      url       = {http://www.aclweb.org/anthology/P11-1015}\n",
              "    }\"\"\",\n",
              "    redistribution_info=,\n",
              ")"
            ]
          },
          "metadata": {},
          "execution_count": 7
        }
      ],
      "source": [
        "#print out dataset info\n",
        "info\n"
      ]
    },
    {
      "cell_type": "code",
      "execution_count": null,
      "metadata": {
        "id": "GwWjyBkDV3EU"
      },
      "outputs": [],
      "source": [
        "#define tensorflow text labels loader\n",
        "def tfds_texts_labels_lodaer(#define data and keyword\n",
        "                             data, key,\n",
        "                             ):\n",
        "    \n",
        "    #define empty texts labels list\n",
        "    texts_list = list()\n",
        "    labels_list = list()\n",
        "\n",
        "    #iterate over data by key to split texts labels\n",
        "    for text, label in data[key]:\n",
        "        texts_list.append(text.numpy().decode('utf8'))\n",
        "        labels_list.append(label.numpy())\n",
        "\n",
        "    return texts_list, labels_list\n"
      ]
    },
    {
      "cell_type": "code",
      "execution_count": null,
      "metadata": {
        "id": "ahglS7lMWw9e"
      },
      "outputs": [],
      "source": [
        "train_texts_list, train_labels_list = tfds_texts_labels_lodaer(data, 'train')\n",
        "valid_texts_list, valid_labels_list = tfds_texts_labels_lodaer(data, 'test')\n"
      ]
    },
    {
      "cell_type": "code",
      "execution_count": null,
      "metadata": {
        "id": "wJ3p8PBDbFH2"
      },
      "outputs": [],
      "source": [
        "#define labels encoder\n",
        "def label_encoder(#define labels list and method\n",
        "                  labels_list,\n",
        "                  #define method binary, ordinal or onehot\n",
        "                  method, return_categories = True\n",
        "                  ):\n",
        "    \n",
        "    #ordinal and binary encoder method\n",
        "    if method in ['binary','ordinal']:\n",
        "        unique_labels = sorted(list(set(labels_list)))\n",
        "        labels_dict = {\n",
        "            label : int(unique_labels.index(label)) for label in unique_labels\n",
        "        }\n",
        "        labels = list(map(lambda label : labels_dict[label], labels_list))\n",
        "    \n",
        "    #one-hot encoder method\n",
        "    elif method in ['onehot']:\n",
        "        unique_labels = sorted(list(set(labels_list)))\n",
        "        labels_dict = {\n",
        "            label : int(unique_labels.index(label)) for label in unique_labels\n",
        "        }\n",
        "        labels_encoded = list()\n",
        "        for label in labels_list:\n",
        "            label_encoded = len(unique_labels)*[0]\n",
        "            label_number = labels_dict[label]\n",
        "            label_encoded[label_number] = 1\n",
        "            labels_encoded.append(label_encoded)\n",
        "        labels = labels_encoded\n",
        "\n",
        "    #convert list type to array\n",
        "    labels_encoded = np.array(labels)\n",
        "    \n",
        "    if return_categories:\n",
        "        return labels_encoded, labels_dict\n",
        "    else:\n",
        "        return labels_encoded\n",
        "        "
      ]
    },
    {
      "cell_type": "code",
      "execution_count": null,
      "metadata": {
        "id": "oKVb5izSXDlD"
      },
      "outputs": [],
      "source": [
        "train_labels_encoded, train_labels_dict = label_encoder(train_labels_list, 'ordinal')\n",
        "valid_labels_encoded, valid_labels_dict = label_encoder(valid_labels_list, 'ordinal')\n"
      ]
    },
    {
      "cell_type": "code",
      "execution_count": null,
      "metadata": {
        "id": "xws6QVTWPwbW"
      },
      "outputs": [],
      "source": [
        "#define tokenizer and sequences and padding sequences\n",
        "def pad_sequences(#define training and validation set\n",
        "                  train_texts, valid_texts,\n",
        "                  #define vocab size and out of vocab word\n",
        "                  vocab_size = None, oov_word = None,\n",
        "                  #define filter characters list\n",
        "                  use_modified_filters = False, filters_list = None,\n",
        "                  #define sequence length, padding and truncating\n",
        "                  sequence_len = None, padding_point = 'post', truncating_point = 'post',\n",
        "                  #define json tokenizer\n",
        "                  save_tokenizer_json = False, tokenizer_filepath = None\n",
        "                  ):\n",
        "    \n",
        "    #define tokenizer and fit\n",
        "    from keras.preprocessing.text import Tokenizer\n",
        "    if use_modified_filters:\n",
        "        filters = ''.join(filters_list)\n",
        "    else:\n",
        "        filters = '!\"#$%&()*+,-./:;<=>?@[\\\\]^_`{|}~\\t\\n'\n",
        "    tokenizer = Tokenizer(num_words = vocab_size, oov_token = oov_word,\n",
        "                          filters = filters)\n",
        "    tokenizer.fit_on_texts(train_texts)\n",
        "    word_index = tokenizer.word_index\n",
        "\n",
        "    if save_tokenizer_json:\n",
        "        with open(tokenizer_filepath+'.json','w') as tokenizer_file:\n",
        "            json.dump(tokenizer.to_json(), tokenizer_file)\n",
        "\n",
        "    #define training validation texts to sequences\n",
        "    train_sequences = tokenizer.texts_to_sequences(train_texts)\n",
        "    valid_sequences = tokenizer.texts_to_sequences(valid_texts)\n",
        "\n",
        "    #define training validation pad sequences\n",
        "    from keras.preprocessing.sequence import pad_sequences\n",
        "    train_padded_sequences = pad_sequences(train_sequences, maxlen = sequence_len,\n",
        "                                           padding = padding_point, truncating = truncating_point)\n",
        "    valid_padded_sequences = pad_sequences(valid_sequences, maxlen = sequence_len,\n",
        "                                           padding = padding_point, truncating = truncating_point)\n",
        "\n",
        "    return train_padded_sequences, valid_padded_sequences, tokenizer, word_index\n"
      ]
    },
    {
      "cell_type": "code",
      "execution_count": null,
      "metadata": {
        "id": "slxiMi6ZXYEx"
      },
      "outputs": [],
      "source": [
        "train_padded_sequences, valid_padded_sequences, tokenizer, word_index = pad_sequences(#define training and validation set\n",
        "                                                                                      train_texts_list, valid_texts_list,\n",
        "                                                                                      #define vocab size and out of vocab word\n",
        "                                                                                      vocab_size = None, oov_word = '<oov>',\n",
        "                                                                                      #define filter characters list\n",
        "                                                                                      use_modified_filters = False, filters_list = None,\n",
        "                                                                                      #define sequence length, padding and truncating\n",
        "                                                                                      sequence_len = 75)"
      ]
    },
    {
      "cell_type": "code",
      "execution_count": null,
      "metadata": {
        "colab": {
          "base_uri": "https://localhost:8080/"
        },
        "id": "1S6jPEDtVocu",
        "outputId": "26b4434c-d75a-41d2-81ae-eef1806b1b1a"
      },
      "outputs": [
        {
          "output_type": "stream",
          "name": "stdout",
          "text": [
            "--2022-06-30 17:31:02--  https://dl.fbaipublicfiles.com/fasttext/vectors-english/crawl-300d-2M.vec.zip\n",
            "Resolving dl.fbaipublicfiles.com (dl.fbaipublicfiles.com)... 172.67.9.4, 104.22.74.142, 104.22.75.142, ...\n",
            "Connecting to dl.fbaipublicfiles.com (dl.fbaipublicfiles.com)|172.67.9.4|:443... connected.\n",
            "HTTP request sent, awaiting response... 200 OK\n",
            "Length: 1523785255 (1.4G) [application/zip]\n",
            "Saving to: ‘crawl-300d-2M.vec.zip’\n",
            "\n",
            "crawl-300d-2M.vec.z 100%[===================>]   1.42G  11.8MB/s    in 2m 56s  \n",
            "\n",
            "2022-06-30 17:33:59 (8.27 MB/s) - ‘crawl-300d-2M.vec.zip’ saved [1523785255/1523785255]\n",
            "\n"
          ]
        }
      ],
      "source": [
        "#load pre-trained word vectors\n",
        "!wget https://dl.fbaipublicfiles.com/fasttext/vectors-english/crawl-300d-2M.vec.zip\n",
        "\n",
        "#unzip the loaded file\n",
        "!unzip -q crawl-300d-2M.vec.zip\n"
      ]
    },
    {
      "cell_type": "code",
      "execution_count": null,
      "metadata": {
        "id": "brRWvKPSp4QN"
      },
      "outputs": [],
      "source": [
        "#define pre-trained words dictionary loader\n",
        "def word_dict_loader(#define file path and file type\n",
        "                     file_path, file_type,\n",
        "                     #define txt and csv file type args\n",
        "                     word_index = None, vector_index = None, header = True, spliter_delimiter = None,\n",
        "                     use_word_spliter = False, word_spliter = None, word_split_index = None,\n",
        "                     #define json file type args\n",
        "                     word_key = None, vector_key = None,\n",
        "                     ):\n",
        "    \n",
        "    word_dict = dict()\n",
        "\n",
        "    #define txt vec loader\n",
        "    if file_type in ['txt', 'vec']:\n",
        "        with open(file_path, 'r') as word_dict_file:\n",
        "            if header:\n",
        "                next(word_dict_file)\n",
        "            for row in word_dict_file:\n",
        "                row = row.split(spliter_delimiter)\n",
        "                if use_word_spliter:\n",
        "                    word = row[word_index].split(word_spliter)[word_split_index]\n",
        "                else:\n",
        "                    word = row[word_index]\n",
        "                vectors = np.array(row[vector_index:], dtype = 'float32')\n",
        "                word_dict[word] = vectors\n",
        "\n",
        "    #define csv loader\n",
        "    elif file_type in ['csv']:\n",
        "        with open(file_path, 'r') as word_dict_file:\n",
        "            word_dict_file = csv.reader(word_dict_file, delimiter = spliter_delimiter)\n",
        "            if header:\n",
        "                next(word_dict_file)\n",
        "            for row in word_dict_file:\n",
        "                if use_word_spliter:\n",
        "                    word = row[word_index].split(word_spliter)[word_split_index]\n",
        "                else:\n",
        "                    word = row[word_index]\n",
        "                vectors = np.array(row[vector_index:], dtype = 'float32')\n",
        "                word_dict[word] = vectors\n",
        "                \n",
        "    #define json loader\n",
        "    elif file_type in ['json']:\n",
        "        with open(file_path, 'r') as word_dict_file:\n",
        "            word_dict_file = json.load(word_dict_file)\n",
        "            for item in word_dict_file:\n",
        "                word = item[word_key]\n",
        "                vectors = np.array(item[vector_key], dtype = 'float32')\n",
        "                word_dict[word] = vectors\n",
        "\n",
        "    #word dict params\n",
        "    word_dict_size = len(word_dict)\n",
        "    word_dict_dim = list(word_dict.values())[0].shape[0]\n",
        "\n",
        "    return word_dict, word_dict_size, word_dict_dim\n"
      ]
    },
    {
      "cell_type": "code",
      "execution_count": null,
      "metadata": {
        "id": "L95-YalCYVJe"
      },
      "outputs": [],
      "source": [
        "word_dict, word_dict_size, word_dict_dim = word_dict_loader(#define file path and file type\n",
        "                                                            file_path = '/content/crawl-300d-2M.vec', file_type = 'vec',\n",
        "                                                            #define txt and csv file type args\n",
        "                                                            word_index = 0, vector_index = 1, header = True, spliter_delimiter = ' ')\n"
      ]
    },
    {
      "cell_type": "code",
      "execution_count": null,
      "metadata": {
        "id": "fFr4DSbYpYjK"
      },
      "outputs": [],
      "source": [
        "#define pre-trained embedding word vectors\n",
        "def embd_weights_loader(#define word dictionary and word index\n",
        "                        word_dict, word_index, dimension\n",
        "                        ):\n",
        "    \n",
        "    #create embedding weights\n",
        "    embed_weights = np.zeros([len(word_index)+1, dimension], dtype = 'float32')\n",
        "\n",
        "    counter = 0\n",
        "    for word, index in word_index.items():\n",
        "        if word in word_dict:\n",
        "            embed_weights[index] = word_dict[word]\n",
        "            counter += 1\n",
        "\n",
        "    #embedding layer params\n",
        "    vocab_size = embed_weights.shape[0]\n",
        "    embed_dim = embed_weights.shape[1]\n",
        "\n",
        "    return embed_weights, vocab_size, embed_dim, counter\n"
      ]
    },
    {
      "cell_type": "code",
      "execution_count": null,
      "metadata": {
        "id": "9jaJfMnZZM6N"
      },
      "outputs": [],
      "source": [
        "embed_weights, vocab_size, embed_dim, counter = embd_weights_loader(#define word dictionary and word index\n",
        "                                                                    word_dict = word_dict, word_index = word_index,\n",
        "                                                                    dimension = word_dict_dim)\n"
      ]
    },
    {
      "cell_type": "code",
      "execution_count": null,
      "metadata": {
        "colab": {
          "base_uri": "https://localhost:8080/"
        },
        "id": "Dn037Y_9a4Nv",
        "outputId": "5e81ce96-400a-4448-9d22-945f8dbdefb0"
      },
      "outputs": [
        {
          "output_type": "stream",
          "name": "stdout",
          "text": [
            "The Tokenizer Word Index Derive 88583 Words\n",
            "The Pre-Traind Word Vectors Covers 60479 Words\n"
          ]
        }
      ],
      "source": [
        "#define how many words the pre-trained will cover\n",
        "print(f'the tokenizer word index derive {len(word_index)} words\\nthe pre-traind word vectors covers {counter} words'.title())\n"
      ]
    },
    {
      "cell_type": "code",
      "execution_count": null,
      "metadata": {
        "id": "dlRqac9W2DWL"
      },
      "outputs": [],
      "source": [
        "#define model\n",
        "def create_model(#define input shape\n",
        "                 input_shape = None,\n",
        "                 #define embedding layer parameters\n",
        "                 use_pretraind_embd = False, vocab_size = None, embd_dim = None,\n",
        "                 sequence_len = None, embed_weights = None,\n",
        "                 #define type of layer and parameters\n",
        "                 use_lstm = False, use_gru = False, use_conv = False,\n",
        "                 #define lstm layers parameters\n",
        "                 lstm_layers_num = None, lstm_layers_units = None,\n",
        "                 #define gru layers parameters\n",
        "                 gru_layers_num = None, gru_layers_units = None,\n",
        "                 #define convolution layers parameters\n",
        "                 conv_layers_num = None, conv_layers_filters = None, conv_layers_kernel = None,\n",
        "                 #define convolution layers sub layers\n",
        "                 use_max_pool = False, max_pool_size = None,\n",
        "                 #define dense layer feeder\n",
        "                 use_global_max_pool = False, use_global_avg_pool = False, use_flatten = False,\n",
        "                 use_feeder_dropout = False, feeder_dropout_ratio = None,\n",
        "                 #define dense head layers\n",
        "                 use_dense_layers = True, dense_layers_num = None, dense_layers_units = None,\n",
        "                 #define dense layers dropout parameters\n",
        "                 use_dense_dropout = False, dense_dropout_ratio = None,\n",
        "                 #define output layer parameters\n",
        "                 output_layer_unit = None, output_layer_activation = None,\n",
        "                 #define model compiler parameters\n",
        "                 optimizer = None, loss = None, metrics = None\n",
        "                 ):\n",
        "    \n",
        "    #define input layer\n",
        "    input = keras.Input(shape = input_shape)\n",
        "\n",
        "    #define embedding layer and parameters\n",
        "    if use_pretraind_embd:\n",
        "        out = keras.layers.Embedding(input_dim = vocab_size, output_dim = embd_dim, input_length = sequence_len,\n",
        "                                     weights = [embed_weights], trainable = False)(input)\n",
        "    else:\n",
        "        out = keras.layers.Embedding(input_dim = vocab_size, output_dim = embd_dim, input_length = sequence_len)(input)\n",
        "\n",
        "    #define type of layer and parameters\n",
        "    #lstm type layers\n",
        "    if use_lstm:\n",
        "        sequence_return = (lstm_layers_num - 1)*[True]\n",
        "        sequence_return.append(False)\n",
        "        for layer_num in range(lstm_layers_num):\n",
        "            out = keras.layers.Bidirectional(keras.layers.LSTM(lstm_layers_units[layer_num],\n",
        "                                                               return_sequences = sequence_return[layer_num]))(out)\n",
        "\n",
        "    #gru type layers\n",
        "    elif use_gru:\n",
        "        sequence_return = (gru_layers_num - 1)*[True]\n",
        "        sequence_return.append(False)\n",
        "        for layer_num in range(gru_layers_num):\n",
        "            out = keras.layers.Bidirectional(keras.layers.GRU(gru_layers_units[layer_num],\n",
        "                                                              return_sequences = sequence_return[layer_num]))(out)\n",
        "    \n",
        "    #convolution type layer\n",
        "    elif use_conv:\n",
        "        for layer_num in range(conv_layers_num):\n",
        "            out = keras.layers.Conv1D(filters = conv_layers_filters[layer_num], kernel_size = conv_layers_kernel[layer_num],\n",
        "                                      activation = 'relu')(out)\n",
        "            if use_max_pool[layer_num]:\n",
        "                out = keras.layers.MaxPool1D(max_pool_size[layer_num])(out)\n",
        "\n",
        "\n",
        "    #dense layers feeder layer\n",
        "    #global max pool type layer\n",
        "    if use_global_max_pool:\n",
        "        out = keras.layers.GlobalMaxPooling1D()(out)\n",
        "        \n",
        "    #global average pool type layer\n",
        "    elif use_global_avg_pool:\n",
        "        out = keras.layers.GlobalAveragePooling1D()(out)\n",
        "\n",
        "    #flatten type layer\n",
        "    elif use_flatten:\n",
        "        out = keras.layers.Flatten()(out)\n",
        "\n",
        "    #define feeder dropout layer\n",
        "    if use_feeder_dropout:\n",
        "        out = keras.layers.Dropout(feeder_dropout_ratio)(out)\n",
        "\n",
        "\n",
        "    #define dense head layers\n",
        "    if use_dense_layers:\n",
        "        for layer_num in range(dense_layers_num):\n",
        "            out = keras.layers.Dense(dense_layers_units[layer_num], activation = 'relu')(out)\n",
        "            if use_dense_dropout[layer_num]:\n",
        "                out = keras.layers.Dropout(dense_dropout_ratio[layer_num])(out)\n",
        "    \n",
        "    #define output layer\n",
        "    output = keras.layers.Dense(output_layer_unit, activation = output_layer_activation)(out)\n",
        "\n",
        "    #define model\n",
        "    model = keras.models.Model(inputs = input, outputs = output)\n",
        "\n",
        "\n",
        "    #compile model\n",
        "    model.compile(optimizer = optimizer,\n",
        "                  loss = loss,\n",
        "                  metrics = metrics)\n",
        "    \n",
        "    return model\n",
        "    "
      ]
    },
    {
      "cell_type": "code",
      "execution_count": null,
      "metadata": {
        "id": "Cfnaso8ub6ZQ"
      },
      "outputs": [],
      "source": [
        "#create model\n",
        "model = create_model(#define input shape\n",
        "                     input_shape = 75,\n",
        "                     #define embedding layer parameters\n",
        "                     use_pretraind_embd = True, vocab_size = vocab_size, embd_dim = embed_dim,\n",
        "                     sequence_len = 75, embed_weights = embed_weights,\n",
        "                     #define type of layer and parameters\n",
        "                     use_lstm = True, use_gru = False, use_conv = False,\n",
        "                     #define lstm layers parameters\n",
        "                     lstm_layers_num = 2, lstm_layers_units = [64, 64],\n",
        "                     #define gru layers parameters\n",
        "                     gru_layers_num = None, gru_layers_units = None,\n",
        "                     #define convolution layers parameters\n",
        "                     conv_layers_num = None, conv_layers_filters = None, conv_layers_kernel = None,\n",
        "                     #define convolution layers sub layers\n",
        "                     use_max_pool = False, max_pool_size = None,\n",
        "                     #define dense layer feeder\n",
        "                     use_global_max_pool = False, use_global_avg_pool = False, use_flatten = False,\n",
        "                     use_feeder_dropout = True, feeder_dropout_ratio = 0.3,\n",
        "                     #define dense head layers\n",
        "                     use_dense_layers = True, dense_layers_num = 2, dense_layers_units = [64, 64],\n",
        "                     #define dense layers dropout parameters\n",
        "                     use_dense_dropout = [True, True], dense_dropout_ratio = [0.5, 0.5],\n",
        "                     #define output layer parameters\n",
        "                     output_layer_unit = 1, output_layer_activation = 'sigmoid',\n",
        "                     #define model compiler parameters\n",
        "                     optimizer = keras.optimizers.RMSprop(0.01), loss = 'binary_crossentropy', metrics = 'accuracy'\n",
        "                     )"
      ]
    },
    {
      "cell_type": "code",
      "execution_count": null,
      "metadata": {
        "colab": {
          "base_uri": "https://localhost:8080/"
        },
        "id": "lSMkY1fFeVXT",
        "outputId": "edd48ddb-9386-4cb9-fc23-779d97b17b6b"
      },
      "outputs": [
        {
          "output_type": "stream",
          "name": "stdout",
          "text": [
            "Model: \"model_15\"\n",
            "________________________________________________________________________________________________________________________\n",
            " Layer (type)                                         Output Shape                                    Param #           \n",
            "========================================================================================================================\n",
            " input_18 (InputLayer)                                [(None, 75)]                                    0                 \n",
            "                                                                                                                        \n",
            " embedding_17 (Embedding)                             (None, 75, 300)                                 26575200          \n",
            "                                                                                                                        \n",
            " bidirectional_13 (Bidirectional)                     (None, 75, 128)                                 186880            \n",
            "                                                                                                                        \n",
            " bidirectional_14 (Bidirectional)                     (None, 128)                                     98816             \n",
            "                                                                                                                        \n",
            " dropout_44 (Dropout)                                 (None, 128)                                     0                 \n",
            "                                                                                                                        \n",
            " dense_44 (Dense)                                     (None, 64)                                      8256              \n",
            "                                                                                                                        \n",
            " dropout_45 (Dropout)                                 (None, 64)                                      0                 \n",
            "                                                                                                                        \n",
            " dense_45 (Dense)                                     (None, 64)                                      4160              \n",
            "                                                                                                                        \n",
            " dropout_46 (Dropout)                                 (None, 64)                                      0                 \n",
            "                                                                                                                        \n",
            " dense_46 (Dense)                                     (None, 1)                                       65                \n",
            "                                                                                                                        \n",
            "========================================================================================================================\n",
            "Total params: 26,873,377\n",
            "Trainable params: 298,177\n",
            "Non-trainable params: 26,575,200\n",
            "________________________________________________________________________________________________________________________\n"
          ]
        }
      ],
      "source": [
        "#model summary\n",
        "model.summary(120)\n"
      ]
    },
    {
      "cell_type": "code",
      "execution_count": null,
      "metadata": {
        "colab": {
          "base_uri": "https://localhost:8080/"
        },
        "id": "UxgR_Rm2ehyg",
        "outputId": "2abd7d76-9da7-47dc-a1d3-dedd033dcebb"
      },
      "outputs": [
        {
          "output_type": "stream",
          "name": "stdout",
          "text": [
            "Epoch 1/200\n",
            "782/782 [==============================] - 28s 28ms/step - loss: 0.6887 - accuracy: 0.5479 - val_loss: 0.5279 - val_accuracy: 0.7594 - lr: 0.0100\n",
            "Epoch 2/200\n",
            "782/782 [==============================] - 20s 26ms/step - loss: 0.5337 - accuracy: 0.7603 - val_loss: 0.4940 - val_accuracy: 0.7909 - lr: 0.0100\n",
            "Epoch 3/200\n",
            "782/782 [==============================] - 20s 26ms/step - loss: 0.4927 - accuracy: 0.7900 - val_loss: 0.5041 - val_accuracy: 0.8089 - lr: 0.0100\n",
            "Epoch 4/200\n",
            "782/782 [==============================] - 20s 26ms/step - loss: 0.4754 - accuracy: 0.8028 - val_loss: 0.4553 - val_accuracy: 0.7979 - lr: 0.0100\n",
            "Epoch 5/200\n",
            "782/782 [==============================] - 20s 26ms/step - loss: 0.4634 - accuracy: 0.8140 - val_loss: 0.4725 - val_accuracy: 0.7974 - lr: 0.0100\n",
            "Epoch 6/200\n",
            "782/782 [==============================] - 20s 26ms/step - loss: 0.4462 - accuracy: 0.8238 - val_loss: 0.7214 - val_accuracy: 0.8077 - lr: 0.0100\n",
            "Epoch 7/200\n",
            "782/782 [==============================] - 20s 26ms/step - loss: 0.4459 - accuracy: 0.8242 - val_loss: 0.6562 - val_accuracy: 0.8080 - lr: 0.0100\n",
            "Epoch 8/200\n",
            "782/782 [==============================] - 20s 26ms/step - loss: 0.4297 - accuracy: 0.8311 - val_loss: 0.5871 - val_accuracy: 0.7976 - lr: 0.0100\n",
            "Epoch 9/200\n",
            "782/782 [==============================] - 20s 25ms/step - loss: 0.4430 - accuracy: 0.8308 - val_loss: 0.7574 - val_accuracy: 0.8008 - lr: 0.0100\n",
            "Epoch 10/200\n",
            "782/782 [==============================] - 19s 25ms/step - loss: 0.3540 - accuracy: 0.8674 - val_loss: 1.0102 - val_accuracy: 0.8099 - lr: 1.0000e-03\n",
            "Epoch 11/200\n",
            "782/782 [==============================] - 21s 26ms/step - loss: 0.2850 - accuracy: 0.8814 - val_loss: 1.2354 - val_accuracy: 0.8082 - lr: 1.0000e-03\n",
            "Epoch 12/200\n",
            "782/782 [==============================] - 21s 27ms/step - loss: 0.2688 - accuracy: 0.8902 - val_loss: 1.4965 - val_accuracy: 0.8094 - lr: 1.0000e-03\n",
            "Epoch 13/200\n",
            "782/782 [==============================] - 21s 27ms/step - loss: 0.2514 - accuracy: 0.8979 - val_loss: 1.9860 - val_accuracy: 0.8096 - lr: 1.0000e-03\n",
            "Epoch 14/200\n",
            "782/782 [==============================] - 21s 27ms/step - loss: 0.2287 - accuracy: 0.9019 - val_loss: 2.1363 - val_accuracy: 0.8061 - lr: 1.0000e-03\n"
          ]
        },
        {
          "output_type": "execute_result",
          "data": {
            "text/plain": [
              "<keras.callbacks.History at 0x7f4913d20fd0>"
            ]
          },
          "metadata": {},
          "execution_count": 73
        }
      ],
      "source": [
        "#fit model\n",
        "model.fit(train_padded_sequences, train_labels_encoded, epochs = 200,\n",
        "          validation_data = (valid_padded_sequences, valid_labels_encoded), \n",
        "          callbacks = [keras.callbacks.EarlyStopping('val_loss', patience = 10, restore_best_weights = True),\n",
        "                       keras.callbacks.ReduceLROnPlateau('val_loss', factor = 0.1, patience = 5)])\n"
      ]
    },
    {
      "cell_type": "code",
      "execution_count": null,
      "metadata": {
        "id": "5QZxcYLF5dQA",
        "colab": {
          "base_uri": "https://localhost:8080/",
          "height": 374
        },
        "outputId": "793150f2-4967-4327-bc1b-85ab933566f8"
      },
      "outputs": [
        {
          "output_type": "display_data",
          "data": {
            "text/plain": [
              "<Figure size 648x432 with 1 Axes>"
            ],
            "image/png": "[encoded data removed]"
          },
          "metadata": {
            "needs_background": "light"
          }
        }
      ],
      "source": [
        "#plot model training loss\n",
        "pd.DataFrame(model.history.history)[['loss', 'val_loss']].plot(figsize = (9, 6), linewidth = 3)\n",
        "plt.grid(linestyle = '--', linewidth = 2)\n",
        "plt.show()\n"
      ]
    },
    {
      "cell_type": "code",
      "execution_count": null,
      "metadata": {
        "id": "kY27HrmE5fID",
        "colab": {
          "base_uri": "https://localhost:8080/",
          "height": 378
        },
        "outputId": "17309ce2-ba70-48af-c0fd-951a26d4f837"
      },
      "outputs": [
        {
          "output_type": "display_data",
          "data": {
            "text/plain": [
              "<Figure size 648x432 with 1 Axes>"
            ],
            "image/png": "[encoded data removed]"
          },
          "metadata": {
            "needs_background": "light"
          }
        }
      ],
      "source": [
        "#plot model training accuracy\n",
        "pd.DataFrame(model.history.history)[['accuracy', 'val_accuracy']].plot(figsize = (9, 6), linewidth = 3)\n",
        "plt.grid(linestyle = '--', linewidth = 2)\n",
        "plt.ylim(0,1)\n",
        "plt.show()\n"
      ]
    },
    {
      "cell_type": "code",
      "execution_count": null,
      "metadata": {
        "colab": {
          "base_uri": "https://localhost:8080/"
        },
        "id": "Hw3pfV6J5kc3",
        "outputId": "01cbe3b1-b680-4c0b-f38d-117c212d9bc3"
      },
      "outputs": [
        {
          "output_type": "stream",
          "name": "stdout",
          "text": [
            "Training Set Evaluation:\n",
            "\tLoss: 0.387\tAccuracy: 83.38%\n",
            "Training Set Evaluation:\n",
            "\tLoss: 0.4553\tAccuracy: 79.79%\n"
          ]
        }
      ],
      "source": [
        "#model evaluation\n",
        "train_set_eval = model.evaluate(train_padded_sequences, train_labels_encoded, verbose = 0)\n",
        "valid_set_eval = model.evaluate(valid_padded_sequences, valid_labels_encoded, verbose = 0)\n",
        "\n",
        "print(f'Training Set Evaluation:\\n\\tLoss: {round(train_set_eval[0],4)}\\tAccuracy: {100*round(train_set_eval[1],4)}%')\n",
        "print(f'Training Set Evaluation:\\n\\tLoss: {round(valid_set_eval[0],4)}\\tAccuracy: {100*round(valid_set_eval[1],4)}%')\n"
      ]
    },
    {
      "cell_type": "code",
      "source": [
        "#def prediction\n",
        "def predict_text(#define input text and model\n",
        "                 input_text, tokenizer, model, \n",
        "                 #define tokenizer maximum length of sequence\n",
        "                 maxlen_seq, padding = 'post', truncating = 'post'\n",
        "                 ):\n",
        "    \n",
        "    #prediction\n",
        "    text = str(input_text)\n",
        "    sequence = tokenizer.texts_to_sequences([text])\n",
        "    sequence = keras.preprocessing.sequence.pad_sequences(sequence, maxlen = maxlen_seq,\n",
        "                                                          padding = padding, truncating = truncating)\n",
        "    predict = model.predict(sequence)\n",
        "    \n",
        "    return predict\n"
      ],
      "metadata": {
        "id": "2NK3bNEyqvkB"
      },
      "execution_count": null,
      "outputs": []
    },
    {
      "cell_type": "code",
      "source": [
        "#positive prediction\n",
        "predict_text(#define input text and model\n",
        "             input_text = 'It Was Really Good And Interesting', tokenizer = tokenizer, model = model,\n",
        "             #define tokenizer maximum length of sequence\n",
        "             maxlen_seq = 75, padding = 'post', truncating = 'post')\n"
      ],
      "metadata": {
        "colab": {
          "base_uri": "https://localhost:8080/"
        },
        "id": "iHi1QKwV77sD",
        "outputId": "dc15a99e-04d7-4a80-bf00-bbe8e4db5ade"
      },
      "execution_count": null,
      "outputs": [
        {
          "output_type": "execute_result",
          "data": {
            "text/plain": [
              "array([[0.93713933]], dtype=float32)"
            ]
          },
          "metadata": {},
          "execution_count": 78
        }
      ]
    },
    {
      "cell_type": "code",
      "source": [
        "#negative prediction\n",
        "predict_text(#define input text and model\n",
        "             input_text = 'It Was So Awful And Boring', tokenizer = tokenizer, model = model,\n",
        "             #define tokenizer maximum length of sequence\n",
        "             maxlen_seq = 75, padding = 'post', truncating = 'post')\n"
      ],
      "metadata": {
        "colab": {
          "base_uri": "https://localhost:8080/"
        },
        "id": "hivawu0a8Ja7",
        "outputId": "a7c50003-8fe9-4655-e82c-36504dc917f2"
      },
      "execution_count": null,
      "outputs": [
        {
          "output_type": "execute_result",
          "data": {
            "text/plain": [
              "array([[0.02241474]], dtype=float32)"
            ]
          },
          "metadata": {},
          "execution_count": 79
        }
      ]
    },
    {
      "cell_type": "code",
      "execution_count": null,
      "metadata": {
        "id": "9nlIngR46DCM"
      },
      "outputs": [],
      "source": [
        "#save model\n",
        "model.save('/content/model.h5')\n"
      ]
    }
  ],
  "metadata": {
    "accelerator": "GPU",
    "colab": {
      "collapsed_sections": [],
      "name": "imdb-reviews-text-classification.ipynb",
      "provenance": [],
      "include_colab_link": true
    },
    "gpuClass": "standard",
    "kernelspec": {
      "display_name": "Python 3",
      "name": "python3"
    },
    "language_info": {
      "name": "python"
    }
  },
  "nbformat": 4,
  "nbformat_minor": 0
}